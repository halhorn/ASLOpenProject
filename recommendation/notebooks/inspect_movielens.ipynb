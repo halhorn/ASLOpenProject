{
 "cells": [
  {
   "cell_type": "markdown",
   "metadata": {},
   "source": [
    "## Movielens分析\n",
    "#### データセットダウンロード"
   ]
  },
  {
   "cell_type": "code",
   "execution_count": null,
   "metadata": {},
   "outputs": [],
   "source": [
    "import glob\n",
    "import pandas as pd\n",
    "import collections\n",
    "import re"
   ]
  },
  {
   "cell_type": "code",
   "execution_count": null,
   "metadata": {},
   "outputs": [],
   "source": [
    "%%bash\n",
    "cd ../datasets\n",
    "rm -r ml-20m*\n",
    "curl -O 'http://files.grouplens.org/datasets/movielens/ml-20m.zip'\n",
    "unzip ml-20m.zip"
   ]
  },
  {
   "cell_type": "code",
   "execution_count": null,
   "metadata": {},
   "outputs": [],
   "source": [
    "files = glob.glob('../datasets/ml-20m/*.csv')\n",
    "keys = [file.split(\"/\")[-1].strip(\".csv\") for file in files]\n",
    "# 何故かkeyの中にある's'も消去されてしまう... とりあえずこのままで\n",
    "print(\"df_dict: {}\".format(keys))\n",
    "df_dict = {key:value for key, value in zip(keys, (pd.read_csv(f) for f in files))}"
   ]
  },
  {
   "cell_type": "code",
   "execution_count": null,
   "metadata": {},
   "outputs": [],
   "source": [
    "for key, df in df_dict.items():\n",
    "    print(key)\n",
    "    print(df)\n",
    "    print(\"=\" * 100)"
   ]
  },
  {
   "cell_type": "markdown",
   "metadata": {},
   "source": [
    "## 分析\n",
    "  * tag, title(year), genre, ratingに分けて分析してみる\n",
    "  * tag系はrelevanceを使いたいので、tag.csvではなくtag-genomeとscore-genomeを使う"
   ]
  },
  {
   "cell_type": "markdown",
   "metadata": {},
   "source": [
    "#### tag"
   ]
  },
  {
   "cell_type": "code",
   "execution_count": null,
   "metadata": {},
   "outputs": [],
   "source": [
    "df_tag = pd.merge(df_dict['genome-tag'], df_dict['genome-score'], on='tagId')\n",
    "df_tag = pd.merge(df_tag, df_dict['movie'].loc[:,['movieId','title']], on='movieId')\n",
    "df_tag = df_tag.loc[:, ['title', 'tag', 'relevance']]\n",
    "print(df_tag)"
   ]
  },
  {
   "cell_type": "markdown",
   "metadata": {},
   "source": [
    "* movieとtagの関係を調べてみる"
   ]
  },
  {
   "cell_type": "code",
   "execution_count": null,
   "metadata": {},
   "outputs": [],
   "source": [
    "print(df_tag[df_tag['title'] == 'Toy Story (1995)'].sort_values(by = 'relevance', ascending = False).reset_index(drop=True))"
   ]
  },
  {
   "cell_type": "markdown",
   "metadata": {},
   "source": [
    "* 1つのmovieずつに全てのtagとそれに対するrelevanceがあったので、relevanceが一定以上低い物を除外した方が良さそうだった\n",
    "* どの程度の割合で除外すれば良さそうか調べるため、　におけるrelevanceの分布を調べてみる"
   ]
  },
  {
   "cell_type": "code",
   "execution_count": null,
   "metadata": {},
   "outputs": [],
   "source": [
    "df_rel = pd.cut(df_tag['relevance'], 10).value_counts(normalize=True)\n",
    "print(df_rel)\n",
    "df_rel.plot(kind=\"bar\", title='relevance per tag')"
   ]
  },
  {
   "cell_type": "markdown",
   "metadata": {},
   "source": [
    "* tagの約9.6割がrelevance > 0.5 なのでほとんどのtagはいらなそう\n",
    "* とりあえず活用する場合tag数の1.5パーセント程(≒17)個あれば良さそう？"
   ]
  },
  {
   "cell_type": "markdown",
   "metadata": {},
   "source": [
    "#### titleとyearの関係"
   ]
  },
  {
   "cell_type": "code",
   "execution_count": null,
   "metadata": {},
   "outputs": [],
   "source": [
    "def movie_title_clean(title):    \n",
    "  s = re.search('\\(([^)]+)', title)\n",
    "  year = 9999\n",
    "  if s:\n",
    "    title = title[:s.span()[0]].strip()\n",
    "    year = s.group(1)\n",
    "    # yearが無かったりおかしいものには9999を入れておく\n",
    "    if str(year).isdigit() and len(year) == 4:\n",
    "      year = int(year)\n",
    "    else:\n",
    "      year = 9999     \n",
    "  return title, year"
   ]
  },
  {
   "cell_type": "code",
   "execution_count": null,
   "metadata": {},
   "outputs": [],
   "source": [
    "df_movie = df_dict['movie']\n",
    "df_movie['title'] = df_movie['title'].str.strip()\n",
    "title_year = df_movie['title'].map(movie_title_clean)\n",
    "title = title_year.apply(lambda x: x[0])\n",
    "year = title_year.apply(lambda x: x[1]).rename('year')\n",
    "df = pd.concat([title, year], axis=1)\n",
    "print(df)"
   ]
  },
  {
   "cell_type": "code",
   "execution_count": null,
   "metadata": {},
   "outputs": [],
   "source": [
    "year_count = df['year'].value_counts(sort=False).drop(9999).sort_index()\n",
    "print(year_count)\n",
    "year_count.plot(xticks=[1880, 1900, 1920, 1940, 1960, 1980, 2000, 2020], title='number of movies by year')"
   ]
  },
  {
   "cell_type": "markdown",
   "metadata": {},
   "source": [
    "* 1990年以降の映画の数がかなり多く、古い映画になる程数が少ない"
   ]
  },
  {
   "cell_type": "markdown",
   "metadata": {},
   "source": [
    "#### movieとgenreの関係"
   ]
  },
  {
   "cell_type": "code",
   "execution_count": null,
   "metadata": {},
   "outputs": [],
   "source": [
    "df_movie['genres_list'] = df_movie['genres'].str.split('|')\n",
    "genres_list = sum(df_movie['genres_list'], [])\n",
    "c = collections.Counter(genres_list)\n",
    "df = pd.DataFrame.from_dict(c, orient='index').reset_index().rename(columns={'index':'genre', 0:'count'}).sort_values(by = 'count')\n",
    "print(df)\n",
    "df.plot(kind=\"bar\",x=df.columns[0], title='number of movies by genre')"
   ]
  },
  {
   "cell_type": "markdown",
   "metadata": {},
   "source": [
    "* genreの方がtagより粒度が大きく、ずっと少ない\n",
    "* genreの方が使い勝手は良さそう"
   ]
  },
  {
   "cell_type": "markdown",
   "metadata": {},
   "source": [
    "#### movieとratingの関係"
   ]
  },
  {
   "cell_type": "code",
   "execution_count": null,
   "metadata": {},
   "outputs": [],
   "source": [
    "df_dict['movie']['title'] = title\n",
    "df_dict['movie']['year'] = year\n",
    "df_rating = pd.merge(df_dict['rating'], df_dict['movie'], on='movieId')\n",
    "print(df_rating)"
   ]
  },
  {
   "cell_type": "code",
   "execution_count": null,
   "metadata": {},
   "outputs": [],
   "source": [
    "# 各ユーザーがつけるレーティング平均の割合\n",
    "rating_user_mean = df_rating[['userId','rating']].groupby('userId').mean()\n",
    "rating_user_mean.plot(kind='hist', title='number of users by rating')"
   ]
  },
  {
   "cell_type": "markdown",
   "metadata": {},
   "source": [
    "* ユーザーがつけるレーティング平均のほとんどが2.5以上\n",
    "* 低い評価をつけることがほとんどない"
   ]
  },
  {
   "cell_type": "code",
   "execution_count": null,
   "metadata": {},
   "outputs": [],
   "source": [
    "# 各movieのレーティング平均の割合\n",
    "rating_movie_mean = df_rating[['movieId','rating']].groupby('movieId').mean()\n",
    "rating_movie_mean.plot(kind='hist', title='number of movies by rating')"
   ]
  },
  {
   "cell_type": "markdown",
   "metadata": {},
   "source": [
    "* 多くの映画の評価は2~4点の間に収まっている"
   ]
  },
  {
   "cell_type": "code",
   "execution_count": null,
   "metadata": {},
   "outputs": [],
   "source": [
    "# 評価が存在する映画と存在しない映画の割合\n",
    "rating_count = len(df_rating['movieId'].unique())\n",
    "movie_count = len(df_dict['movie']['movieId'].unique())\n",
    "has_rating = pd.DataFrame(\n",
    "    {'Yes': [rating_count], 'No': [movie_count - rating_count]}\n",
    ").apply(lambda x:x/sum(x),axis=1)\n",
    "print(has_rating)\n",
    "has_rating.plot(kind=\"barh\", title='Whether the movie has a rating')"
   ]
  },
  {
   "cell_type": "markdown",
   "metadata": {},
   "source": [
    "* 殆どのmovieにratingはありそう"
   ]
  },
  {
   "cell_type": "code",
   "execution_count": null,
   "metadata": {},
   "outputs": [],
   "source": [
    "# movie毎のレーティングおよびレートの散布図\n",
    "movie_rating_num = df_rating['movieId'].value_counts().sort_index()\n",
    "movie_rating_num = pd.DataFrame(movie_rating_num).reset_index().rename(columns={'index':'movieId', 'movieId':'rating_num'})\n",
    "rating_movie_mean = df_rating[['movieId','rating']].groupby('movieId').mean()\n",
    "movie_scatter = pd.merge(movie_rating_num, rating_movie_mean, on='movieId').drop('movieId', axis=1)\n",
    "print(movie_scatter)\n",
    "movie_scatter.plot(kind='scatter', x='rating', y='rating_num', alpha=0.5, title='rating and rating_num scatter')"
   ]
  },
  {
   "cell_type": "markdown",
   "metadata": {},
   "source": [
    "* 高いレーティングのものは評価数も多く、低いレーティングのものは評価数が少ない"
   ]
  }
 ],
 "metadata": {
  "kernelspec": {
   "display_name": "Python 3",
   "language": "python",
   "name": "python3"
  },
  "language_info": {
   "codemirror_mode": {
    "name": "ipython",
    "version": 3
   },
   "file_extension": ".py",
   "mimetype": "text/x-python",
   "name": "python",
   "nbconvert_exporter": "python",
   "pygments_lexer": "ipython3",
   "version": "3.5.3"
  }
 },
 "nbformat": 4,
 "nbformat_minor": 4
}
