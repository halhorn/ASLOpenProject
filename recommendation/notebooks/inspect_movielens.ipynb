{
 "cells": [
  {
   "cell_type": "markdown",
   "metadata": {},
   "source": [
    "## Movielens分析\n",
    "#### データセットダウンロード"
   ]
  },
  {
   "cell_type": "code",
   "execution_count": 1,
   "metadata": {},
   "outputs": [],
   "source": [
    "import glob\n",
    "import pandas as pd\n",
    "import collections\n",
    "import re"
   ]
  },
  {
   "cell_type": "code",
   "execution_count": 2,
   "metadata": {},
   "outputs": [
    {
     "name": "stdout",
     "output_type": "stream",
     "text": [
      "Archive:  ml-20m.zip\n",
      "   creating: ml-20m/\n",
      "  inflating: ml-20m/genome-scores.csv  \n",
      "  inflating: ml-20m/genome-tags.csv  \n",
      "  inflating: ml-20m/links.csv        \n",
      "  inflating: ml-20m/movies.csv       \n",
      "  inflating: ml-20m/ratings.csv      \n",
      "  inflating: ml-20m/README.txt       \n",
      "  inflating: ml-20m/tags.csv         \n"
     ]
    },
    {
     "name": "stderr",
     "output_type": "stream",
     "text": [
      "  % Total    % Received % Xferd  Average Speed   Time    Time     Time  Current\n",
      "                                 Dload  Upload   Total   Spent    Left  Speed\n",
      "100  189M  100  189M    0     0  49.3M      0  0:00:03  0:00:03 --:--:-- 49.3M\n"
     ]
    }
   ],
   "source": [
    "%%bash\n",
    "cd ../datasets\n",
    "rm -r ml-20m*\n",
    "curl -O 'http://files.grouplens.org/datasets/movielens/ml-20m.zip'\n",
    "unzip ml-20m.zip"
   ]
  },
  {
   "cell_type": "code",
   "execution_count": 3,
   "metadata": {},
   "outputs": [
    {
     "name": "stdout",
     "output_type": "stream",
     "text": [
      "df_dict: ['link', 'genome-score', 'movie', 'rating', 'genome-tag', 'tag']\n"
     ]
    }
   ],
   "source": [
    "files = glob.glob('../datasets/ml-20m/*.csv')\n",
    "keys = [file.split(\"/\")[-1].strip(\".csv\") for file in files]\n",
    "# 何故かkeyの中にある's'も消去されてしまう... とりあえずこのままで\n",
    "print(\"df_dict: {}\".format(keys))\n",
    "df_dict = {key:value for key, value in zip(keys, (pd.read_csv(f) for f in files))}"
   ]
  },
  {
   "cell_type": "code",
   "execution_count": 4,
   "metadata": {},
   "outputs": [
    {
     "name": "stdout",
     "output_type": "stream",
     "text": [
      "movie\n",
      "       movieId                               title  \\\n",
      "0            1                    Toy Story (1995)   \n",
      "1            2                      Jumanji (1995)   \n",
      "2            3             Grumpier Old Men (1995)   \n",
      "3            4            Waiting to Exhale (1995)   \n",
      "4            5  Father of the Bride Part II (1995)   \n",
      "...        ...                                 ...   \n",
      "27273   131254        Kein Bund für's Leben (2007)   \n",
      "27274   131256       Feuer, Eis & Dosenbier (2002)   \n",
      "27275   131258                  The Pirates (2014)   \n",
      "27276   131260                 Rentun Ruusu (2001)   \n",
      "27277   131262                    Innocence (2014)   \n",
      "\n",
      "                                            genres  \n",
      "0      Adventure|Animation|Children|Comedy|Fantasy  \n",
      "1                       Adventure|Children|Fantasy  \n",
      "2                                   Comedy|Romance  \n",
      "3                             Comedy|Drama|Romance  \n",
      "4                                           Comedy  \n",
      "...                                            ...  \n",
      "27273                                       Comedy  \n",
      "27274                                       Comedy  \n",
      "27275                                    Adventure  \n",
      "27276                           (no genres listed)  \n",
      "27277                     Adventure|Fantasy|Horror  \n",
      "\n",
      "[27278 rows x 3 columns]\n",
      "====================================================================================================\n",
      "genome-tag\n",
      "      tagId           tag\n",
      "0         1           007\n",
      "1         2  007 (series)\n",
      "2         3  18th century\n",
      "3         4         1920s\n",
      "4         5         1930s\n",
      "...     ...           ...\n",
      "1123   1124       writing\n",
      "1124   1125         wuxia\n",
      "1125   1126          wwii\n",
      "1126   1127        zombie\n",
      "1127   1128       zombies\n",
      "\n",
      "[1128 rows x 2 columns]\n",
      "====================================================================================================\n",
      "link\n",
      "       movieId   imdbId    tmdbId\n",
      "0            1   114709     862.0\n",
      "1            2   113497    8844.0\n",
      "2            3   113228   15602.0\n",
      "3            4   114885   31357.0\n",
      "4            5   113041   11862.0\n",
      "...        ...      ...       ...\n",
      "27273   131254   466713    4436.0\n",
      "27274   131256   277703    9274.0\n",
      "27275   131258  3485166  285213.0\n",
      "27276   131260   249110   32099.0\n",
      "27277   131262  1724965  286971.0\n",
      "\n",
      "[27278 rows x 3 columns]\n",
      "====================================================================================================\n",
      "rating\n",
      "          userId  movieId  rating   timestamp\n",
      "0              1        2     3.5  1112486027\n",
      "1              1       29     3.5  1112484676\n",
      "2              1       32     3.5  1112484819\n",
      "3              1       47     3.5  1112484727\n",
      "4              1       50     3.5  1112484580\n",
      "...          ...      ...     ...         ...\n",
      "20000258  138493    68954     4.5  1258126920\n",
      "20000259  138493    69526     4.5  1259865108\n",
      "20000260  138493    69644     3.0  1260209457\n",
      "20000261  138493    70286     5.0  1258126944\n",
      "20000262  138493    71619     2.5  1255811136\n",
      "\n",
      "[20000263 rows x 4 columns]\n",
      "====================================================================================================\n",
      "tag\n",
      "        userId  movieId            tag   timestamp\n",
      "0           18     4141    Mark Waters  1240597180\n",
      "1           65      208      dark hero  1368150078\n",
      "2           65      353      dark hero  1368150079\n",
      "3           65      521  noir thriller  1368149983\n",
      "4           65      592      dark hero  1368150078\n",
      "...        ...      ...            ...         ...\n",
      "465559  138446    55999        dragged  1358983772\n",
      "465560  138446    55999  Jason Bateman  1358983778\n",
      "465561  138446    55999         quirky  1358983778\n",
      "465562  138446    55999            sad  1358983772\n",
      "465563  138472      923  rise to power  1194037967\n",
      "\n",
      "[465564 rows x 4 columns]\n",
      "====================================================================================================\n",
      "genome-score\n",
      "          movieId  tagId  relevance\n",
      "0               1      1    0.02500\n",
      "1               1      2    0.02500\n",
      "2               1      3    0.05775\n",
      "3               1      4    0.09675\n",
      "4               1      5    0.14675\n",
      "...           ...    ...        ...\n",
      "11709763   131170   1124    0.58775\n",
      "11709764   131170   1125    0.01075\n",
      "11709765   131170   1126    0.01575\n",
      "11709766   131170   1127    0.11450\n",
      "11709767   131170   1128    0.02175\n",
      "\n",
      "[11709768 rows x 3 columns]\n",
      "====================================================================================================\n"
     ]
    }
   ],
   "source": [
    "for key, df in df_dict.items():\n",
    "    print(key)\n",
    "    print(df)\n",
    "    print(\"=\" * 100)"
   ]
  },
  {
   "cell_type": "markdown",
   "metadata": {},
   "source": [
    "## 分析\n",
    "  * tag, title(year), genre, ratingに分けて分析してみる\n",
    "  * tag系はrelevanceを使いたいので、tag.csvではなくtag-genomeとscore-genomeを使う"
   ]
  },
  {
   "cell_type": "markdown",
   "metadata": {},
   "source": [
    "#### tag"
   ]
  },
  {
   "cell_type": "code",
   "execution_count": 5,
   "metadata": {},
   "outputs": [
    {
     "name": "stdout",
     "output_type": "stream",
     "text": [
      "                     title           tag  relevance\n",
      "0         Toy Story (1995)           007    0.02500\n",
      "1         Toy Story (1995)  007 (series)    0.02500\n",
      "2         Toy Story (1995)  18th century    0.05775\n",
      "3         Toy Story (1995)         1920s    0.09675\n",
      "4         Toy Story (1995)         1930s    0.14675\n",
      "...                    ...           ...        ...\n",
      "11709763  Parallels (2015)       writing    0.58775\n",
      "11709764  Parallels (2015)         wuxia    0.01075\n",
      "11709765  Parallels (2015)          wwii    0.01575\n",
      "11709766  Parallels (2015)        zombie    0.11450\n",
      "11709767  Parallels (2015)       zombies    0.02175\n",
      "\n",
      "[11709768 rows x 3 columns]\n"
     ]
    }
   ],
   "source": [
    "df_tag = pd.merge(df_dict['genome-tag'], df_dict['genome-score'], on='tagId')\n",
    "df_tag = pd.merge(df_tag, df_dict['movie'].loc[:,['movieId','title']], on='movieId')\n",
    "df_tag = df_tag.loc[:, ['title', 'tag', 'relevance']]\n",
    "print(df_tag)"
   ]
  },
  {
   "cell_type": "markdown",
   "metadata": {},
   "source": [
    "* movieとtagの関係を調べてみる"
   ]
  },
  {
   "cell_type": "code",
   "execution_count": 6,
   "metadata": {},
   "outputs": [
    {
     "name": "stdout",
     "output_type": "stream",
     "text": [
      "                 title                 tag  relevance\n",
      "0     Toy Story (1995)                toys    0.99925\n",
      "1     Toy Story (1995)  computer animation    0.99850\n",
      "2     Toy Story (1995)     pixar animation    0.99600\n",
      "3     Toy Story (1995)     kids and family    0.99075\n",
      "4     Toy Story (1995)           animation    0.98575\n",
      "...                ...                 ...        ...\n",
      "1123  Toy Story (1995)                 mtv    0.00375\n",
      "1124  Toy Story (1995)          james bond    0.00325\n",
      "1125  Toy Story (1995)     hannibal lecter    0.00225\n",
      "1126  Toy Story (1995)             swedish    0.00175\n",
      "1127  Toy Story (1995)             beatles    0.00150\n",
      "\n",
      "[1128 rows x 3 columns]\n"
     ]
    }
   ],
   "source": [
    "print(df_tag[df_tag['title'] == 'Toy Story (1995)'].sort_values(by = 'relevance', ascending = False).reset_index(drop=True))"
   ]
  },
  {
   "cell_type": "markdown",
   "metadata": {},
   "source": [
    "* 1つのmovieずつに全てのtagとそれに対するrelevanceがあったので、relevanceが一定以上低い物を除外した方が良さそうだった\n",
    "* どの程度の割合で除外すれば良さそうか調べるため、　におけるrelevanceの分布を調べてみる"
   ]
  },
  {
   "cell_type": "code",
   "execution_count": 7,
   "metadata": {},
   "outputs": [
    {
     "name": "stdout",
     "output_type": "stream",
     "text": [
      "(-0.00075, 0.1]    0.662078\n",
      "(0.1, 0.2]         0.166301\n",
      "(0.2, 0.3]         0.072695\n",
      "(0.3, 0.4]         0.037505\n",
      "(0.4, 0.5]         0.022173\n",
      "(0.5, 0.6]         0.013967\n",
      "(0.6, 0.7]         0.009648\n",
      "(0.7, 0.8]         0.006845\n",
      "(0.8, 0.9]         0.004793\n",
      "(0.9, 1.0]         0.003994\n",
      "Name: relevance, dtype: float64\n"
     ]
    },
    {
     "data": {
      "text/plain": [
       "<matplotlib.axes._subplots.AxesSubplot at 0x7fcb377132e8>"
      ]
     },
     "execution_count": 7,
     "metadata": {},
     "output_type": "execute_result"
    },
    {
     "data": {
      "image/png": "[encoded data removed]",
      "text/plain": [
       "<Figure size 432x288 with 1 Axes>"
      ]
     },
     "metadata": {
      "needs_background": "light"
     },
     "output_type": "display_data"
    }
   ],
   "source": [
    "df_rel = pd.cut(df_tag['relevance'], 10).value_counts(normalize=True)\n",
    "print(df_rel)\n",
    "df_rel.plot(kind=\"bar\", title='relevance per tag')"
   ]
  },
  {
   "cell_type": "markdown",
   "metadata": {},
   "source": [
    "* tagの約9.6割がrelevance > 0.5 なのでほとんどのtagはいらなそう\n",
    "* とりあえず活用する場合tag数の1.5パーセント程(≒17)個あれば良さそう？"
   ]
  },
  {
   "cell_type": "markdown",
   "metadata": {},
   "source": [
    "#### titleとyearの関係"
   ]
  },
  {
   "cell_type": "code",
   "execution_count": 8,
   "metadata": {},
   "outputs": [],
   "source": [
    "def movie_title_clean(title):    \n",
    "  s = re.search('\\(([^)]+)', title)\n",
    "  year = 9999\n",
    "  if s:\n",
    "    title = title[:s.span()[0]].strip()\n",
    "    year = s.group(1)\n",
    "    # yearが無かったりおかしいものには9999を入れておく\n",
    "    if str(year).isdigit() and len(year) == 4:\n",
    "      year = int(year)\n",
    "    else:\n",
    "      year = 9999     \n",
    "  return title, year"
   ]
  },
  {
   "cell_type": "code",
   "execution_count": 9,
   "metadata": {},
   "outputs": [
    {
     "name": "stdout",
     "output_type": "stream",
     "text": [
      "                             title  year\n",
      "0                        Toy Story  1995\n",
      "1                          Jumanji  1995\n",
      "2                 Grumpier Old Men  1995\n",
      "3                Waiting to Exhale  1995\n",
      "4      Father of the Bride Part II  1995\n",
      "...                            ...   ...\n",
      "27273        Kein Bund für's Leben  2007\n",
      "27274       Feuer, Eis & Dosenbier  2002\n",
      "27275                  The Pirates  2014\n",
      "27276                 Rentun Ruusu  2001\n",
      "27277                    Innocence  2014\n",
      "\n",
      "[27278 rows x 2 columns]\n"
     ]
    }
   ],
   "source": [
    "df_movie = df_dict['movie']\n",
    "df_movie['title'] = df_movie['title'].str.strip()\n",
    "title_year = df_movie['title'].map(movie_title_clean)\n",
    "title = title_year.apply(lambda x: x[0])\n",
    "year = title_year.apply(lambda x: x[1]).rename('year')\n",
    "df = pd.concat([title, year], axis=1)\n",
    "print(df)"
   ]
  },
  {
   "cell_type": "code",
   "execution_count": 10,
   "metadata": {},
   "outputs": [
    {
     "name": "stdout",
     "output_type": "stream",
     "text": [
      "1891      1\n",
      "1893      1\n",
      "1894      2\n",
      "1895      2\n",
      "1896      2\n",
      "       ... \n",
      "2011    850\n",
      "2012    872\n",
      "2013    902\n",
      "2014    701\n",
      "2015    120\n",
      "Name: year, Length: 116, dtype: int64\n"
     ]
    },
    {
     "data": {
      "text/plain": [
       "<matplotlib.axes._subplots.AxesSubplot at 0x7fcb37214710>"
      ]
     },
     "execution_count": 10,
     "metadata": {},
     "output_type": "execute_result"
    },
    {
     "data": {
      "image/png": "[encoded data removed]",
      "text/plain": [
       "<Figure size 432x288 with 1 Axes>"
      ]
     },
     "metadata": {
      "needs_background": "light"
     },
     "output_type": "display_data"
    }
   ],
   "source": [
    "year_count = df['year'].value_counts(sort=False).drop(9999).sort_index()\n",
    "print(year_count)\n",
    "year_count.plot(xticks=[1880, 1900, 1920, 1940, 1960, 1980, 2000, 2020], title='number of movies by year')"
   ]
  },
  {
   "cell_type": "markdown",
   "metadata": {},
   "source": [
    "* 1990年以降の映画の数がかなり多く、古い映画になる程数が少ない"
   ]
  },
  {
   "cell_type": "markdown",
   "metadata": {},
   "source": [
    "#### movieとgenreの関係"
   ]
  },
  {
   "cell_type": "code",
   "execution_count": 11,
   "metadata": {},
   "outputs": [
    {
     "name": "stdout",
     "output_type": "stream",
     "text": [
      "                 genre  count\n",
      "8                 IMAX    196\n",
      "15  (no genres listed)    246\n",
      "18           Film-Noir    330\n",
      "16             Western    676\n",
      "19           Animation   1027\n",
      "0              Musical   1036\n",
      "7             Children   1139\n",
      "17                 War   1194\n",
      "6              Fantasy   1412\n",
      "4              Mystery   1514\n",
      "14              Sci-Fi   1743\n",
      "13           Adventure   2329\n",
      "3          Documentary   2471\n",
      "2               Horror   2611\n",
      "12               Crime   2939\n",
      "10              Action   3520\n",
      "5              Romance   4127\n",
      "9             Thriller   4178\n",
      "1               Comedy   8374\n",
      "11               Drama  13344\n"
     ]
    },
    {
     "data": {
      "text/plain": [
       "<matplotlib.axes._subplots.AxesSubplot at 0x7fcb36e065f8>"
      ]
     },
     "execution_count": 11,
     "metadata": {},
     "output_type": "execute_result"
    },
    {
     "data": {
      "image/png": "[encoded data removed]",
      "text/plain": [
       "<Figure size 432x288 with 1 Axes>"
      ]
     },
     "metadata": {
      "needs_background": "light"
     },
     "output_type": "display_data"
    }
   ],
   "source": [
    "df_movie['genres_list'] = df_movie['genres'].str.split('|')\n",
    "genres_list = sum(df_movie['genres_list'], [])\n",
    "c = collections.Counter(genres_list)\n",
    "df = pd.DataFrame.from_dict(c, orient='index').reset_index().rename(columns={'index':'genre', 0:'count'}).sort_values(by = 'count')\n",
    "print(df)\n",
    "df.plot(kind=\"bar\",x=df.columns[0], title='number of movies by genre')"
   ]
  },
  {
   "cell_type": "markdown",
   "metadata": {},
   "source": [
    "* genreの方がtagより粒度が大きく、ずっと少ない\n",
    "* genreの方が使い勝手は良さそう"
   ]
  },
  {
   "cell_type": "markdown",
   "metadata": {},
   "source": [
    "#### movieとratingの関係"
   ]
  },
  {
   "cell_type": "code",
   "execution_count": 12,
   "metadata": {},
   "outputs": [
    {
     "name": "stdout",
     "output_type": "stream",
     "text": [
      "          userId  movieId  rating   timestamp                        title  \\\n",
      "0              1        2     3.5  1112486027                      Jumanji   \n",
      "1              5        2     3.0   851527569                      Jumanji   \n",
      "2             13        2     3.0   849082742                      Jumanji   \n",
      "3             29        2     3.0   835562174                      Jumanji   \n",
      "4             34        2     3.0   846509384                      Jumanji   \n",
      "...          ...      ...     ...         ...                          ...   \n",
      "20000258  138301   121017     3.5  1420558479     The Gentleman from Epsom   \n",
      "20000259  138301   121019     4.5  1420558606          The Great Spy Chase   \n",
      "20000260  138301   121021     4.5  1420558687              Taxi for Tobruk   \n",
      "20000261  138406   110167     4.5  1396184127  Judge and the Assassin, The   \n",
      "20000262  138406   110510     4.5  1397597539                  Série noire   \n",
      "\n",
      "                              genres                     genres_list  year  \n",
      "0         Adventure|Children|Fantasy  [Adventure, Children, Fantasy]  1995  \n",
      "1         Adventure|Children|Fantasy  [Adventure, Children, Fantasy]  1995  \n",
      "2         Adventure|Children|Fantasy  [Adventure, Children, Fantasy]  1995  \n",
      "3         Adventure|Children|Fantasy  [Adventure, Children, Fantasy]  1995  \n",
      "4         Adventure|Children|Fantasy  [Adventure, Children, Fantasy]  1995  \n",
      "...                              ...                             ...   ...  \n",
      "20000258                Comedy|Crime                 [Comedy, Crime]  1962  \n",
      "20000259      Action|Comedy|Thriller      [Action, Comedy, Thriller]  1964  \n",
      "20000260                   Drama|War                    [Drama, War]  1961  \n",
      "20000261                 Crime|Drama                  [Crime, Drama]  9999  \n",
      "20000262                   Film-Noir                     [Film-Noir]  1979  \n",
      "\n",
      "[20000263 rows x 8 columns]\n"
     ]
    }
   ],
   "source": [
    "df_dict['movie']['title'] = title\n",
    "df_dict['movie']['year'] = year\n",
    "df_rating = pd.merge(df_dict['rating'], df_dict['movie'], on='movieId')\n",
    "print(df_rating)"
   ]
  },
  {
   "cell_type": "code",
   "execution_count": 13,
   "metadata": {},
   "outputs": [
    {
     "data": {
      "text/plain": [
       "<matplotlib.axes._subplots.AxesSubplot at 0x7fcb36d74d30>"
      ]
     },
     "execution_count": 13,
     "metadata": {},
     "output_type": "execute_result"
    },
    {
     "data": {
      "image/png": "[encoded data removed]",
      "text/plain": [
       "<Figure size 432x288 with 1 Axes>"
      ]
     },
     "metadata": {
      "needs_background": "light"
     },
     "output_type": "display_data"
    }
   ],
   "source": [
    "# 各ユーザーがつけるレーティング平均の割合\n",
    "rating_user_mean = df_rating[['userId','rating']].groupby('userId').mean()\n",
    "rating_user_mean.plot(kind='hist', title='number of users by rating')"
   ]
  },
  {
   "cell_type": "markdown",
   "metadata": {},
   "source": [
    "* ユーザーがつけるレーティング平均のほとんどが2.5以上\n",
    "* 低い評価をつけることがほとんどない"
   ]
  },
  {
   "cell_type": "code",
   "execution_count": 14,
   "metadata": {},
   "outputs": [
    {
     "data": {
      "text/plain": [
       "<matplotlib.axes._subplots.AxesSubplot at 0x7fcb37650cc0>"
      ]
     },
     "execution_count": 14,
     "metadata": {},
     "output_type": "execute_result"
    },
    {
     "data": {
      "image/png": "[encoded data removed]",
      "text/plain": [
       "<Figure size 432x288 with 1 Axes>"
      ]
     },
     "metadata": {
      "needs_background": "light"
     },
     "output_type": "display_data"
    }
   ],
   "source": [
    "# 各movieのレーティング平均の割合\n",
    "rating_movie_mean = df_rating[['movieId','rating']].groupby('movieId').mean()\n",
    "rating_movie_mean.plot(kind='hist', title='number of movies by rating')"
   ]
  },
  {
   "cell_type": "markdown",
   "metadata": {},
   "source": [
    "* 多くの映画の評価は2~4点の間に収まっている"
   ]
  },
  {
   "cell_type": "code",
   "execution_count": 15,
   "metadata": {},
   "outputs": [
    {
     "name": "stdout",
     "output_type": "stream",
     "text": [
      "         No       Yes\n",
      "0  0.019576  0.980424\n"
     ]
    },
    {
     "data": {
      "text/plain": [
       "<matplotlib.axes._subplots.AxesSubplot at 0x7fcb36ccfbe0>"
      ]
     },
     "execution_count": 15,
     "metadata": {},
     "output_type": "execute_result"
    },
    {
     "data": {
      "image/png": "[encoded data removed]",
      "text/plain": [
       "<Figure size 432x288 with 1 Axes>"
      ]
     },
     "metadata": {
      "needs_background": "light"
     },
     "output_type": "display_data"
    }
   ],
   "source": [
    "# 評価が存在する映画と存在しない映画の割合\n",
    "rating_count = len(df_rating['movieId'].unique())\n",
    "movie_count = len(df_dict['movie']['movieId'].unique())\n",
    "has_rating = pd.DataFrame(\n",
    "    {'Yes': [rating_count], 'No': [movie_count - rating_count]}\n",
    ").apply(lambda x:x/sum(x),axis=1)\n",
    "print(has_rating)\n",
    "has_rating.plot(kind=\"barh\", title='Whether the movie has a rating')"
   ]
  },
  {
   "cell_type": "markdown",
   "metadata": {},
   "source": [
    "* 殆どのmovieにratingはありそう"
   ]
  },
  {
   "cell_type": "code",
   "execution_count": 16,
   "metadata": {},
   "outputs": [
    {
     "name": "stdout",
     "output_type": "stream",
     "text": [
      "       rating_num    rating\n",
      "0           49695  3.921240\n",
      "1           22243  3.211977\n",
      "2           12735  3.151040\n",
      "3            2756  2.861393\n",
      "4           12161  3.064592\n",
      "...           ...       ...\n",
      "26739           1  4.000000\n",
      "26740           1  4.000000\n",
      "26741           1  2.500000\n",
      "26742           1  3.000000\n",
      "26743           1  4.000000\n",
      "\n",
      "[26744 rows x 2 columns]\n"
     ]
    },
    {
     "data": {
      "text/plain": [
       "<matplotlib.axes._subplots.AxesSubplot at 0x7fcb36d035f8>"
      ]
     },
     "execution_count": 16,
     "metadata": {},
     "output_type": "execute_result"
    },
    {
     "data": {
      "image/png": "[encoded data removed]",
      "text/plain": [
       "<Figure size 432x288 with 1 Axes>"
      ]
     },
     "metadata": {
      "needs_background": "light"
     },
     "output_type": "display_data"
    }
   ],
   "source": [
    "# movie毎のレーティングおよびレートの散布図\n",
    "movie_rating_num = df_rating['movieId'].value_counts().sort_index()\n",
    "movie_rating_num = pd.DataFrame(movie_rating_num).reset_index().rename(columns={'index':'movieId', 'movieId':'rating_num'})\n",
    "rating_movie_mean = df_rating[['movieId','rating']].groupby('movieId').mean()\n",
    "movie_scatter = pd.merge(movie_rating_num, rating_movie_mean, on='movieId').drop('movieId', axis=1)\n",
    "print(movie_scatter)\n",
    "movie_scatter.plot(kind='scatter', x='rating', y='rating_num', alpha=0.5, title='rating and rating_num scatter')"
   ]
  },
  {
   "cell_type": "markdown",
   "metadata": {},
   "source": [
    "* 高いレーティングのものは評価数も多く、低いレーティングのものは評価数が少ない"
   ]
  }
 ],
 "metadata": {
  "kernelspec": {
   "display_name": "Python 3",
   "language": "python",
   "name": "python3"
  },
  "language_info": {
   "codemirror_mode": {
    "name": "ipython",
    "version": 3
   },
   "file_extension": ".py",
   "mimetype": "text/x-python",
   "name": "python",
   "nbconvert_exporter": "python",
   "pygments_lexer": "ipython3",
   "version": "3.5.3"
  }
 },
 "nbformat": 4,
 "nbformat_minor": 4
}
