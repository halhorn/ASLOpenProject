{
 "cells": [
  {
   "cell_type": "code",
   "execution_count": 1,
   "metadata": {},
   "outputs": [
    {
     "data": {
      "text/plain": [
       "'/home/jupyter/ASLOpenProject/youtube8m'"
      ]
     },
     "execution_count": 1,
     "metadata": {},
     "output_type": "execute_result"
    }
   ],
   "source": [
    "# youtube8m のディレクトリに移動\n",
    "import os\n",
    "while os.getcwd().split('/')[-1] != 'youtube8m': os.chdir('..')\n",
    "os.getcwd()"
   ]
  },
  {
   "cell_type": "markdown",
   "metadata": {},
   "source": [
    "## トレーニング"
   ]
  },
  {
   "cell_type": "code",
   "execution_count": 2,
   "metadata": {},
   "outputs": [
    {
     "name": "stdout",
     "output_type": "stream",
     "text": [
      "jobId: youtube8m_191210_053750\n",
      "state: QUEUED\n"
     ]
    },
    {
     "name": "stderr",
     "output_type": "stream",
     "text": [
      "Job [youtube8m_191210_053750] submitted successfully.\n",
      "Your job is still active. You may view the status of your job with the command\n",
      "\n",
      "  $ gcloud ai-platform jobs describe youtube8m_191210_053750\n",
      "\n",
      "or continue streaming the logs with the command\n",
      "\n",
      "  $ gcloud ai-platform jobs stream-logs youtube8m_191210_053750\n"
     ]
    }
   ],
   "source": [
    "%%bash\n",
    "\n",
    "JOBNAME=youtube8m_$(date -u +%y%m%d_%H%M%S)\n",
    "BUCKET=asl-mixi-project-bucket\n",
    "OUTDIR=gs://$BUCKET/model/youtube8m/video/auc/$(date -u +%y%m%d_%H%M%S)\n",
    "\n",
    "gcloud ai-platform jobs submit training $JOBNAME \\\n",
    "       --region=us-central1 \\\n",
    "       --module-name=video.task \\\n",
    "       --package-path=$(pwd)/video \\\n",
    "       --job-dir=$OUTDIR \\\n",
    "       --staging-bucket=gs://$BUCKET \\\n",
    "       --scale-tier=BASIC_GPU \\\n",
    "       --runtime-version=1.14 \\\n",
    "       --python-version=3.5 \\\n",
    "       -- \\\n",
    "       --train_data_path=gs://$BUCKET/data/youtube-8m/train/train00*.tfrecord \\\n",
    "       --eval_data_path=gs://$BUCKET/data/youtube-8m/valid/validate00*.tfrecord \\\n",
    "       --output_dir=${OUTDIR} \\\n",
    "       --model=dnn \\\n",
    "       --train_steps=300 \\\n",
    "       --layer_num=10 \\\n",
    "       --hidden_dim=64 \\\n",
    "       --dropout=0.1 \\\n",
    "       --kernel_regularizer=0.0001 \\\n",
    "       --batch_size=128 \\\n",
    "       --learning_rate=0.01"
   ]
  },
  {
   "cell_type": "markdown",
   "metadata": {},
   "source": [
    "## モデル生成"
   ]
  },
  {
   "cell_type": "code",
   "execution_count": 9,
   "metadata": {},
   "outputs": [
    {
     "name": "stdout",
     "output_type": "stream",
     "text": [
      "\u001b[1;33mWARNING:\u001b[0m `--regions` flag will soon be required. Please explicitly specify a region. Using [us-central1] by default.\n",
      "Created ml engine model [projects/qwiklabs-gcp-ml-83914069970b/models/youtube8mkojo].\n",
      "\n",
      "\n",
      "To take a quick anonymous survey, run:\n",
      "  $ gcloud alpha survey\n",
      "\n"
     ]
    }
   ],
   "source": [
    "!gcloud ai-platform models create youtube8mkojo"
   ]
  },
  {
   "cell_type": "markdown",
   "metadata": {},
   "source": [
    "## バージョンの作成 \n",
    "\n",
    "`--origin`のパスに気をつける。 \\\n",
    "学習時の`output_dir`に`export/exporter/{timestamp}`のようなディレクトリになります"
   ]
  },
  {
   "cell_type": "code",
   "execution_count": 14,
   "metadata": {},
   "outputs": [
    {
     "name": "stdout",
     "output_type": "stream",
     "text": [
      "Creating version (this might take a few minutes)......done.                    \n"
     ]
    }
   ],
   "source": [
    "VERSION='v0'\n",
    "TFVERSION=1.14\n",
    "\n",
    "!gcloud ai-platform versions delete {VERSION} --model youtube8mkojo --quiet\n",
    "!gcloud ai-platform versions create {VERSION} --model youtube8mkojo \\\n",
    "    --origin gs://asl-mixi-project-bucket/model/youtube8m/video/auc/191210_031819/export/exporter/1575948073/ \\\n",
    "    --python-version=3.5 \\\n",
    "    --runtime-version={TFVERSION}"
   ]
  },
  {
   "cell_type": "markdown",
   "metadata": {},
   "source": [
    "これで推論APIの生成処理は完了"
   ]
  },
  {
   "cell_type": "markdown",
   "metadata": {},
   "source": [
    "## 検証\n",
    "\n",
    "とりあえずすでにfeature化が完了したベクトルを取ってくる \\\n",
    "ついでにボキャブラリーファイルも取ってくる"
   ]
  },
  {
   "cell_type": "code",
   "execution_count": 3,
   "metadata": {},
   "outputs": [
    {
     "name": "stdout",
     "output_type": "stream",
     "text": [
      "Copying gs://asl-mixi-project-bucket/data/youtube-8m/features/feature_child.pb...\n",
      "/ [1 files][ 73.5 KiB/ 73.5 KiB]                                                \n",
      "Operation completed over 1 objects/73.5 KiB.                                     \n",
      "Copying gs://asl-mixi-project-bucket/data/youtube-8m/vocabulary.csv...\n",
      "/ [1 files][  3.4 MiB/  3.4 MiB]                                                \n",
      "Operation completed over 1 objects/3.4 MiB.                                      \n"
     ]
    }
   ],
   "source": [
    "!gsutil cp gs://asl-mixi-project-bucket/data/youtube-8m/features/feature_child.pb .\n",
    "!gsutil cp gs://asl-mixi-project-bucket/data/youtube-8m/vocabulary.csv ."
   ]
  },
  {
   "cell_type": "code",
   "execution_count": 4,
   "metadata": {},
   "outputs": [],
   "source": [
    "import tensorflow as tf\n",
    "tf.enable_eager_execution()"
   ]
  },
  {
   "cell_type": "markdown",
   "metadata": {},
   "source": [
    "featureファイルから平均化されたリクエストを取得する関数"
   ]
  },
  {
   "cell_type": "code",
   "execution_count": 5,
   "metadata": {},
   "outputs": [],
   "source": [
    "def get_feature(file_name):\n",
    "    example = open(file_name, 'rb').read()\n",
    "    context_features = {    \n",
    "        \"RGB/feature/flxxxxx\": tf.VarLenFeature(tf.float32),\n",
    "        \"RGB/feature/timestamp\": tf.VarLenFeature(tf.int64),\n",
    "        \"RGB/feature/dimensions\": tf.VarLenFeature(tf.int64),\n",
    "        \"RGB/feature/rate\": tf.VarLenFeature(tf.float32),\n",
    "        \"AUDIO/feature/timestamp\": tf.VarLenFeature(tf.int64),\n",
    "        \"AUDIO/feature/dimensions\": tf.VarLenFeature(tf.int64),\n",
    "        \"AUDIO/feature/rate\": tf.VarLenFeature(tf.float32),\n",
    "    }\n",
    "    sequence_features = {\n",
    "        \"RGB/feature/floats\": tf.VarLenFeature(tf.float32),\n",
    "        \"AUDIO/feature/floats\": tf.VarLenFeature(tf.float32),\n",
    "    }\n",
    "    _, seq = tf.parse_single_sequence_example(example, context_features, sequence_features)\n",
    "\n",
    "    mean_audio = tf.reduce_mean(tf.sparse.to_dense(seq['AUDIO/feature/floats']), axis=-2)\n",
    "    mean_rgb = tf.reduce_mean(tf.sparse.to_dense(seq['RGB/feature/floats']), axis=-2)\n",
    "    return {\n",
    "        'mean_rgb': mean_rgb.numpy().tolist(),\n",
    "        'mean_audio': mean_audio.numpy().tolist(),\n",
    "    }"
   ]
  },
  {
   "cell_type": "markdown",
   "metadata": {},
   "source": [
    "ボキャブラリーファイルからラベルdictを生成する"
   ]
  },
  {
   "cell_type": "code",
   "execution_count": 6,
   "metadata": {},
   "outputs": [],
   "source": [
    "import csv\n",
    "\n",
    "labels = {}\n",
    "with open('./vocabulary.csv', 'r') as c:\n",
    "    reader = csv.reader(c)\n",
    "    next(reader, None)\n",
    "    for r in reader:\n",
    "        labels[r[0]] = r[3]"
   ]
  },
  {
   "cell_type": "markdown",
   "metadata": {},
   "source": [
    "推論APIにリクエストを投げる関数"
   ]
  },
  {
   "cell_type": "code",
   "execution_count": 7,
   "metadata": {},
   "outputs": [],
   "source": [
    "from googleapiclient import discovery\n",
    "from oauth2client.client import GoogleCredentials\n",
    "import json\n",
    "\n",
    "PROJECT = 'qwiklabs-gcp-ml-83914069970b'\n",
    "MODEL_NAME = 'youtube8mkojo'\n",
    "VERSION = 'v0'\n",
    "\n",
    "credentials = GoogleCredentials.get_application_default()\n",
    "api = discovery.build(\n",
    "    \"ml\",\n",
    "    \"v1\",\n",
    "    credentials = credentials,\n",
    "    discoveryServiceUrl = \"https://storage.googleapis.com/cloud-ml/discovery/ml_v1_discovery.json\"\n",
    ")\n",
    "\n",
    "def show_predict(prediction):\n",
    "    for i, index in enumerate(prediction[\"predicted_topk\"]):\n",
    "        print(\"{}th({}:{}) probality is {}\".format(\n",
    "            (i+1),\n",
    "            index,\n",
    "            labels[\"{}\".format(index)],\n",
    "            prediction['probabilities'][index]\n",
    "        ))\n",
    "\n",
    "def predict(feature_file, model_name=MODEL_NAME, version=VERSION):\n",
    "    request_data = {\"instances\":\n",
    "      [\n",
    "          get_feature(feature_file)\n",
    "      ]\n",
    "    }\n",
    "    parent = \"projects/{}/models/{}/versions/{}\".format(PROJECT,MODEL_NAME, VERSION)\n",
    "    response = api.projects().predict(body = request_data, name = parent).execute()\n",
    "    show_predict(response['predictions'][0])\n",
    "    return None"
   ]
  },
  {
   "cell_type": "code",
   "execution_count": 8,
   "metadata": {},
   "outputs": [
    {
     "name": "stdout",
     "output_type": "stream",
     "text": [
      "1th(0:Game) probality is 0.1902475655078888\n",
      "2th(1:Video game) probality is 0.1257742941379547\n",
      "3th(2:Vehicle) probality is 0.09998852014541626\n",
      "4th(3:Concert) probality is 0.09328439831733704\n",
      "5th(4:Musician) probality is 0.06331360340118408\n"
     ]
    }
   ],
   "source": [
    "predict(\"./feature_child.pb\", 'youtube8mkojo', 'v0')"
   ]
  },
  {
   "cell_type": "code",
   "execution_count": null,
   "metadata": {},
   "outputs": [],
   "source": []
  }
 ],
 "metadata": {
  "kernelspec": {
   "display_name": "Python 3",
   "language": "python",
   "name": "python3"
  },
  "language_info": {
   "codemirror_mode": {
    "name": "ipython",
    "version": 3
   },
   "file_extension": ".py",
   "mimetype": "text/x-python",
   "name": "python",
   "nbconvert_exporter": "python",
   "pygments_lexer": "ipython3",
   "version": "3.5.3"
  }
 },
 "nbformat": 4,
 "nbformat_minor": 4
}
