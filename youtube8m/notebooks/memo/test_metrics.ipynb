{
 "cells": [
  {
   "cell_type": "code",
   "execution_count": 1,
   "metadata": {},
   "outputs": [],
   "source": [
    "import tensorflow as tf"
   ]
  },
  {
   "cell_type": "markdown",
   "metadata": {},
   "source": [
    "# Recall"
   ]
  },
  {
   "cell_type": "code",
   "execution_count": 2,
   "metadata": {},
   "outputs": [
    {
     "name": "stdout",
     "output_type": "stream",
     "text": [
      "WARNING:tensorflow:From /usr/local/lib/python3.5/dist-packages/tensorflow_core/python/ops/metrics_impl.py:2200: div (from tensorflow.python.ops.math_ops) is deprecated and will be removed in a future version.\n",
      "Instructions for updating:\n",
      "Deprecated in favor of operator or tf.math.divide.\n",
      "WARNING:tensorflow:From /usr/local/lib/python3.5/dist-packages/tensorflow_core/python/ops/metrics_impl.py:2200: where (from tensorflow.python.ops.array_ops) is deprecated and will be removed in a future version.\n",
      "Instructions for updating:\n",
      "Use tf.where in 2.0, which has the same broadcast rule as np.where\n",
      "[1.0, 1.0]\n"
     ]
    }
   ],
   "source": [
    "# Recall 1\n",
    "# expect: 2/3 = 66.7%\n",
    "with tf.Graph().as_default():\n",
    "    acc, update_op = tf.metrics.recall(\n",
    "        labels=     tf.constant([[1.0, 1.0, 1.0, 0.0, 0.0]]),\n",
    "        predictions=tf.constant([[0.6, 0.6, 0.1, 0.4, 0.6]]),\n",
    "    )\n",
    "    with tf.Session() as sess:\n",
    "        sess.run(tf.local_variables_initializer())\n",
    "        print(sess.run([acc, update_op]))"
   ]
  },
  {
   "cell_type": "code",
   "execution_count": 3,
   "metadata": {},
   "outputs": [
    {
     "name": "stdout",
     "output_type": "stream",
     "text": [
      "[0.6666667, 0.6666667]\n"
     ]
    }
   ],
   "source": [
    "# Recall 2\n",
    "# expect: 2/3 = 66.7%\n",
    "with tf.Graph().as_default():\n",
    "    acc, update_op = tf.metrics.recall(\n",
    "        labels=     tf.constant([[1.0, 1.0, 1.0, 0.0, 0.0]]) > 0.5,\n",
    "        predictions=tf.constant([[0.6, 0.6, 0.1, 0.4, 0.6]]) > 0.5,\n",
    "    )\n",
    "    with tf.Session() as sess:\n",
    "        sess.run(tf.local_variables_initializer())\n",
    "        print(sess.run([acc, update_op]))"
   ]
  },
  {
   "cell_type": "markdown",
   "metadata": {},
   "source": [
    "# Precision"
   ]
  },
  {
   "cell_type": "code",
   "execution_count": 4,
   "metadata": {},
   "outputs": [
    {
     "name": "stdout",
     "output_type": "stream",
     "text": [
      "[0.6, 0.6]\n"
     ]
    }
   ],
   "source": [
    "# Precision 1\n",
    "# expect: 2/3 = 66.7%\n",
    "with tf.Graph().as_default():\n",
    "    acc, update_op = tf.metrics.precision(\n",
    "        labels=     tf.constant([[1.0, 1.0, 1.0, 0.0, 0.0]]),\n",
    "        predictions=tf.constant([[0.6, 0.6, 0.1, 0.4, 0.6]]),\n",
    "    )\n",
    "    with tf.Session() as sess:\n",
    "        sess.run(tf.local_variables_initializer())\n",
    "        print(sess.run([acc, update_op]))"
   ]
  },
  {
   "cell_type": "code",
   "execution_count": 5,
   "metadata": {},
   "outputs": [
    {
     "name": "stdout",
     "output_type": "stream",
     "text": [
      "[0.6666667, 0.6666667]\n"
     ]
    }
   ],
   "source": [
    "# Precision 2\n",
    "# expect: 2/3 = 66.7%\n",
    "with tf.Graph().as_default():\n",
    "    acc, update_op = tf.metrics.precision(\n",
    "        labels=     tf.constant([[1.0, 1.0, 1.0, 0.0, 0.0]]) > 0.5,\n",
    "        predictions=tf.constant([[0.6, 0.6, 0.1, 0.4, 0.6]]) > 0.5,\n",
    "    )\n",
    "    with tf.Session() as sess:\n",
    "        sess.run(tf.local_variables_initializer())\n",
    "        print(sess.run([acc, update_op]))"
   ]
  },
  {
   "cell_type": "markdown",
   "metadata": {},
   "source": [
    "# Accuracy"
   ]
  },
  {
   "cell_type": "code",
   "execution_count": 6,
   "metadata": {},
   "outputs": [
    {
     "name": "stdout",
     "output_type": "stream",
     "text": [
      "[0.4, 0.4]\n"
     ]
    }
   ],
   "source": [
    "# expect: 2/5 = 40%\n",
    "with tf.Graph().as_default():\n",
    "    acc, update_op = tf.metrics.accuracy(\n",
    "        labels=     tf.constant([[1,    1,   1  , 0,   0]]),\n",
    "        predictions=tf.constant([[0.6, 0.6, 0.1, 0.4, 0.6]]),\n",
    "    )\n",
    "    with tf.Session() as sess:\n",
    "        sess.run(tf.local_variables_initializer())\n",
    "        print(sess.run([acc, update_op]))"
   ]
  },
  {
   "cell_type": "code",
   "execution_count": 7,
   "metadata": {},
   "outputs": [
    {
     "name": "stdout",
     "output_type": "stream",
     "text": [
      "[0.0, 0.0]\n"
     ]
    }
   ],
   "source": [
    "# expect: 2/5 = 40%\n",
    "with tf.Graph().as_default():\n",
    "    acc, update_op = tf.metrics.accuracy(\n",
    "        labels=     tf.constant([[1.0, 1.0, 1.0, 0.0, 0.0]]),\n",
    "        predictions=tf.constant([[0.6, 0.6, 0.1, 0.4, 0.6]]),\n",
    "    )\n",
    "    with tf.Session() as sess:\n",
    "        sess.run(tf.local_variables_initializer())\n",
    "        print(sess.run([acc, update_op]))"
   ]
  },
  {
   "cell_type": "code",
   "execution_count": 8,
   "metadata": {},
   "outputs": [
    {
     "name": "stdout",
     "output_type": "stream",
     "text": [
      "[0.6, 0.6]\n"
     ]
    }
   ],
   "source": [
    "# expect: 2/5 = 40%\n",
    "with tf.Graph().as_default():\n",
    "    acc, update_op = tf.metrics.accuracy(\n",
    "        labels=     tf.constant([[1.0, 1.0, 1.0, 0.0, 0.0]]) > 0.5,\n",
    "        predictions=tf.constant([[0.6, 0.6, 0.1, 0.4, 0.6]]) > 0.5,\n",
    "    )\n",
    "    with tf.Session() as sess:\n",
    "        sess.run(tf.local_variables_initializer())\n",
    "        print(sess.run([acc, update_op]))"
   ]
  },
  {
   "cell_type": "markdown",
   "metadata": {},
   "source": [
    "# Top N Recall"
   ]
  },
  {
   "cell_type": "code",
   "execution_count": 9,
   "metadata": {},
   "outputs": [
    {
     "name": "stdout",
     "output_type": "stream",
     "text": [
      "[0.6666666666666666, 0.6666666666666666]\n"
     ]
    }
   ],
   "source": [
    "# expect: 2/3 = 66.7%\n",
    "with tf.Graph().as_default():\n",
    "    acc, update_op = tf.metrics.recall_at_top_k(\n",
    "        labels=tf.constant([[1, 2, 3]], dtype=tf.int64),\n",
    "        predictions_idx=tf.constant([[2, 3, 4, 5, 6, 7]]),\n",
    "    )\n",
    "    with tf.Session() as sess:\n",
    "        sess.run(tf.local_variables_initializer())\n",
    "        print(sess.run([acc, update_op]))"
   ]
  },
  {
   "cell_type": "code",
   "execution_count": 10,
   "metadata": {},
   "outputs": [
    {
     "name": "stdout",
     "output_type": "stream",
     "text": [
      "[array([[3, 2, 1],\n",
      "       [3, 2, 1]], dtype=int32), array([[0., 1., 1., 1.],\n",
      "       [0., 1., 1., 1.]], dtype=float32)]\n"
     ]
    }
   ],
   "source": [
    "def multi_hot(indices):\n",
    "    return tf.reduce_sum(tf.one_hot(indices, 4), axis=-2)\n",
    "\n",
    "with tf.Graph().as_default():\n",
    "    topk = tf.math.top_k([[0.1, 0.2, 0.3, 0.4],\n",
    "                          [0.5, 0.6, 0.7, 0.8]], k=3)\n",
    "    multihot_topk = multi_hot(topk.indices)\n",
    "    with tf.Session() as sess:\n",
    "        print(sess.run([topk.indices, multihot_topk]))\n",
    "        "
   ]
  },
  {
   "cell_type": "markdown",
   "metadata": {},
   "source": [
    "# count"
   ]
  },
  {
   "cell_type": "code",
   "execution_count": 11,
   "metadata": {},
   "outputs": [
    {
     "name": "stdout",
     "output_type": "stream",
     "text": [
      "WARNING:tensorflow:From /usr/local/lib/python3.5/dist-packages/tensorflow_core/python/util/deprecation.py:507: calling count_nonzero (from tensorflow.python.ops.math_ops) with axis is deprecated and will be removed in a future version.\n",
      "Instructions for updating:\n",
      "reduction_indices is deprecated, use axis instead\n",
      "[array([3, 2]), (2.5, 2.5)]\n"
     ]
    }
   ],
   "source": [
    "# expect: (3 + 2)/2 = 2.5\n",
    "with tf.Graph().as_default():\n",
    "    t = tf.constant([[0.9, 0.9, 0.1, 0.9], [0.1, 0.1, 0.9, 0.9]])\n",
    "    multihot = tf.cast(t >= 0.5, tf.float32)\n",
    "    count = tf.math.count_nonzero(multihot, axis=-1)\n",
    "    metrics = tf.metrics.mean(count)\n",
    "    with tf.Session() as sess:\n",
    "        sess.run(tf.local_variables_initializer())\n",
    "        print(sess.run([count, metrics]))\n",
    "        "
   ]
  },
  {
   "cell_type": "code",
   "execution_count": null,
   "metadata": {},
   "outputs": [],
   "source": []
  }
 ],
 "metadata": {
  "kernelspec": {
   "display_name": "Python 3",
   "language": "python",
   "name": "python3"
  },
  "language_info": {
   "codemirror_mode": {
    "name": "ipython",
    "version": 3
   },
   "file_extension": ".py",
   "mimetype": "text/x-python",
   "name": "python",
   "nbconvert_exporter": "python",
   "pygments_lexer": "ipython3",
   "version": "3.5.3"
  }
 },
 "nbformat": 4,
 "nbformat_minor": 4
}
