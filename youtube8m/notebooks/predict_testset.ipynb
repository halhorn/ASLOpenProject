{
 "cells": [
  {
   "cell_type": "code",
   "execution_count": 1,
   "metadata": {},
   "outputs": [
    {
     "data": {
      "text/plain": [
       "'/home/jupyter/ASLOpenProject/youtube8m'"
      ]
     },
     "execution_count": 1,
     "metadata": {},
     "output_type": "execute_result"
    }
   ],
   "source": [
    "# youtube8m のディレクトリに移動\n",
    "import os\n",
    "while os.getcwd().split('/')[-1] != 'youtube8m': os.chdir('..')\n",
    "os.getcwd()"
   ]
  },
  {
   "cell_type": "code",
   "execution_count": 2,
   "metadata": {},
   "outputs": [],
   "source": [
    "import tensorflow as tf\n",
    "from video.data import read_dataset"
   ]
  },
  {
   "cell_type": "code",
   "execution_count": 3,
   "metadata": {},
   "outputs": [],
   "source": [
    "tf.enable_eager_execution()"
   ]
  },
  {
   "cell_type": "markdown",
   "metadata": {},
   "source": [
    "# カテゴリ一覧"
   ]
  },
  {
   "cell_type": "code",
   "execution_count": 4,
   "metadata": {},
   "outputs": [
    {
     "name": "stdout",
     "output_type": "stream",
     "text": [
      "Copying gs://asl-mixi-project-bucket/data/youtube-8m/vocabulary.csv...\n",
      "/ [1 files][  3.4 MiB/  3.4 MiB]                                                \n",
      "Operation completed over 1 objects/3.4 MiB.                                      \n"
     ]
    }
   ],
   "source": [
    "!gsutil cp gs://asl-mixi-project-bucket/data/youtube-8m/vocabulary.csv ."
   ]
  },
  {
   "cell_type": "code",
   "execution_count": 5,
   "metadata": {},
   "outputs": [],
   "source": [
    "import csv\n",
    "\n",
    "label_map = {}\n",
    "with open('./vocabulary.csv', 'r') as c:\n",
    "    reader = csv.reader(c)\n",
    "    next(reader, None)\n",
    "    for r in reader:\n",
    "        label_map[r[0]] = r[3]"
   ]
  },
  {
   "cell_type": "markdown",
   "metadata": {},
   "source": [
    "# 評価データセットの読み込み"
   ]
  },
  {
   "cell_type": "code",
   "execution_count": 6,
   "metadata": {},
   "outputs": [
    {
     "name": "stdout",
     "output_type": "stream",
     "text": [
      "WARNING:tensorflow:From /usr/local/lib/python3.5/dist-packages/tensorflow_core/python/autograph/converters/directives.py:119: The name tf.FixedLenFeature is deprecated. Please use tf.io.FixedLenFeature instead.\n",
      "\n",
      "WARNING:tensorflow:From /usr/local/lib/python3.5/dist-packages/tensorflow_core/python/autograph/converters/directives.py:119: The name tf.VarLenFeature is deprecated. Please use tf.io.VarLenFeature instead.\n",
      "\n",
      "WARNING:tensorflow:From /usr/local/lib/python3.5/dist-packages/tensorflow_core/python/autograph/converters/directives.py:119: The name tf.parse_single_sequence_example is deprecated. Please use tf.io.parse_single_sequence_example instead.\n",
      "\n"
     ]
    }
   ],
   "source": [
    "data = read_dataset(\n",
    "    'gs://asl-mixi-project-bucket/data/youtube-8m/valid/*.tfrecord',\n",
    "    tf.estimator.ModeKeys.EVAL,\n",
    "    batch_size=5\n",
    ").shuffle(1024)"
   ]
  },
  {
   "cell_type": "markdown",
   "metadata": {},
   "source": [
    "# 推論"
   ]
  },
  {
   "cell_type": "code",
   "execution_count": 7,
   "metadata": {},
   "outputs": [],
   "source": [
    "from googleapiclient import discovery\n",
    "from oauth2client.client import GoogleCredentials\n",
    "import json\n",
    "\n",
    "PROJECT = 'qwiklabs-gcp-ml-83914069970b'\n",
    "MODEL_NAME = 'youtube8mkojo'\n",
    "VERSION = 'v1'\n",
    "\n",
    "credentials = GoogleCredentials.get_application_default()\n",
    "api = discovery.build(\n",
    "    \"ml\",\n",
    "    \"v1\",\n",
    "    credentials = credentials,\n",
    "    discoveryServiceUrl = \"https://storage.googleapis.com/cloud-ml/discovery/ml_v1_discovery.json\"\n",
    ")\n",
    "\n",
    "def convert_data(data):\n",
    "    batch, labels = next(iter(data))\n",
    "    batch.pop('id')\n",
    "    feature = [{'mean_rgb': r.numpy().tolist(), 'mean_audio': a.numpy().tolist()} for r, a in zip(batch['mean_rgb'], batch['mean_audio'])]\n",
    "    labels = [[label_map[str(i)] for i, v in enumerate(label) if v] for label in labels]\n",
    "    return feature, labels\n",
    "\n",
    "def show_predict(prediction, label):\n",
    "    print('labels:', label)\n",
    "    for i, index in enumerate(prediction[\"predicted_topk\"]):\n",
    "        print(\"{}th({}:{}) probality is {}\".format(\n",
    "            (i+1),\n",
    "            index,\n",
    "            label_map[\"{}\".format(index)],\n",
    "            prediction['probabilities'][index]\n",
    "        ))\n",
    "    print('')\n",
    "\n",
    "def predict(data, model_name=MODEL_NAME, version=VERSION):\n",
    "    feature, labels = convert_data(data)\n",
    "    request_data = {\"instances\": feature}\n",
    "    parent = \"projects/{}/models/{}/versions/{}\".format(PROJECT,MODEL_NAME, VERSION)\n",
    "    response = api.projects().predict(body = request_data, name = parent).execute()\n",
    "    for p, l in zip(response['predictions'], labels):\n",
    "        show_predict(p, l)\n",
    "    return None"
   ]
  },
  {
   "cell_type": "code",
   "execution_count": 8,
   "metadata": {},
   "outputs": [
    {
     "name": "stdout",
     "output_type": "stream",
     "text": [
      "labels: ['Game', 'Cartoon']\n",
      "1th(5:Cartoon) probality is 0.9971925020217896\n",
      "2th(0:Game) probality is 0.991986870765686\n",
      "3th(769:Penguin) probality is 0.487371563911438\n",
      "4th(1:Video game) probality is 0.4732784032821655\n",
      "5th(1183:Monkey) probality is 0.026076853275299072\n",
      "\n",
      "labels: ['Dentist']\n",
      "1th(1493:Dentist) probality is 0.85809725522995\n",
      "2th(674:Skin) probality is 0.06330987811088562\n",
      "3th(579:Medicine) probality is 0.03888842463493347\n",
      "4th(2647:Birth) probality is 0.030201762914657593\n",
      "5th(866:Face) probality is 0.025571435689926147\n",
      "\n",
      "labels: ['Game', 'Guild Wars']\n",
      "1th(0:Game) probality is 0.8760881423950195\n",
      "2th(591:Guild Wars) probality is 0.8667747974395752\n",
      "3th(1:Video game) probality is 0.13755053281784058\n",
      "4th(262:Farm) probality is 0.05680587887763977\n",
      "5th(856:Silkroad Online) probality is 0.014575213193893433\n",
      "\n",
      "labels: ['Cartoon', 'Sailor Moon', 'Sailor Moon (character)']\n",
      "1th(5:Cartoon) probality is 0.9866054058074951\n",
      "2th(597:Sailor Moon) probality is 0.8544175028800964\n",
      "3th(1030:Sailor Moon (character)) probality is 0.536772608757019\n",
      "4th(16:Animation) probality is 0.09889563918113708\n",
      "5th(3053:Tuxedo Mask) probality is 0.06584039330482483\n",
      "\n",
      "labels: ['Food', 'Cuisine', 'Dish (food)']\n",
      "1th(11:Food) probality is 0.8396593928337097\n",
      "2th(29:Cuisine) probality is 0.34719085693359375\n",
      "3th(32:Dish (food)) probality is 0.32379037141799927\n",
      "4th(406:Restaurant) probality is 0.26415932178497314\n",
      "5th(221:Outline of meals) probality is 0.0748731791973114\n",
      "\n"
     ]
    }
   ],
   "source": [
    "predict(data, 'youtube8mkojo', 'v1')"
   ]
  },
  {
   "cell_type": "code",
   "execution_count": null,
   "metadata": {},
   "outputs": [],
   "source": []
  }
 ],
 "metadata": {
  "kernelspec": {
   "display_name": "Python 3",
   "language": "python",
   "name": "python3"
  },
  "language_info": {
   "codemirror_mode": {
    "name": "ipython",
    "version": 3
   },
   "file_extension": ".py",
   "mimetype": "text/x-python",
   "name": "python",
   "nbconvert_exporter": "python",
   "pygments_lexer": "ipython3",
   "version": "3.5.3"
  }
 },
 "nbformat": 4,
 "nbformat_minor": 4
}
