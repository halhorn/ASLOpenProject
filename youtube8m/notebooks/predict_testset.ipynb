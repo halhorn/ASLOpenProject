{
 "cells": [
  {
   "cell_type": "code",
   "execution_count": 1,
   "metadata": {},
   "outputs": [
    {
     "data": {
      "text/plain": [
       "'/home/jupyter/ASLOpenProject/youtube8m'"
      ]
     },
     "execution_count": 1,
     "metadata": {},
     "output_type": "execute_result"
    }
   ],
   "source": [
    "# youtube8m のディレクトリに移動\n",
    "import os\n",
    "while os.getcwd().split('/')[-1] != 'youtube8m': os.chdir('..')\n",
    "os.getcwd()"
   ]
  },
  {
   "cell_type": "code",
   "execution_count": 2,
   "metadata": {},
   "outputs": [],
   "source": [
    "import tensorflow as tf\n",
    "from video.data import read_dataset"
   ]
  },
  {
   "cell_type": "code",
   "execution_count": 3,
   "metadata": {},
   "outputs": [],
   "source": [
    "tf.enable_eager_execution()"
   ]
  },
  {
   "cell_type": "markdown",
   "metadata": {},
   "source": [
    "# カテゴリ一覧"
   ]
  },
  {
   "cell_type": "code",
   "execution_count": 4,
   "metadata": {},
   "outputs": [
    {
     "name": "stdout",
     "output_type": "stream",
     "text": [
      "Copying gs://asl-mixi-project-bucket/data/youtube-8m/vocabulary.csv...\n",
      "/ [1 files][  3.4 MiB/  3.4 MiB]                                                \n",
      "Operation completed over 1 objects/3.4 MiB.                                      \n"
     ]
    }
   ],
   "source": [
    "!gsutil cp gs://asl-mixi-project-bucket/data/youtube-8m/vocabulary.csv ."
   ]
  },
  {
   "cell_type": "code",
   "execution_count": 5,
   "metadata": {},
   "outputs": [],
   "source": [
    "import csv\n",
    "\n",
    "label_map = {}\n",
    "with open('./vocabulary.csv', 'r') as c:\n",
    "    reader = csv.reader(c)\n",
    "    next(reader, None)\n",
    "    for r in reader:\n",
    "        label_map[r[0]] = r[3]"
   ]
  },
  {
   "cell_type": "markdown",
   "metadata": {},
   "source": [
    "# 評価データセットの読み込み"
   ]
  },
  {
   "cell_type": "code",
   "execution_count": 6,
   "metadata": {},
   "outputs": [
    {
     "name": "stdout",
     "output_type": "stream",
     "text": [
      "WARNING:tensorflow:From /usr/local/lib/python3.5/dist-packages/tensorflow_core/python/autograph/converters/directives.py:119: The name tf.FixedLenFeature is deprecated. Please use tf.io.FixedLenFeature instead.\n",
      "\n",
      "WARNING:tensorflow:From /usr/local/lib/python3.5/dist-packages/tensorflow_core/python/autograph/converters/directives.py:119: The name tf.VarLenFeature is deprecated. Please use tf.io.VarLenFeature instead.\n",
      "\n",
      "WARNING:tensorflow:From /usr/local/lib/python3.5/dist-packages/tensorflow_core/python/autograph/converters/directives.py:119: The name tf.parse_single_sequence_example is deprecated. Please use tf.io.parse_single_sequence_example instead.\n",
      "\n"
     ]
    }
   ],
   "source": [
    "data = read_dataset(\n",
    "    'gs://asl-mixi-project-bucket/data/youtube-8m/valid/*.tfrecord',\n",
    "    tf.estimator.ModeKeys.EVAL,\n",
    "    batch_size=5\n",
    ").shuffle(1024)\n",
    "data_iter = iter(data)"
   ]
  },
  {
   "cell_type": "markdown",
   "metadata": {},
   "source": [
    "# 推論"
   ]
  },
  {
   "cell_type": "code",
   "execution_count": 7,
   "metadata": {},
   "outputs": [],
   "source": [
    "from googleapiclient import discovery\n",
    "from oauth2client.client import GoogleCredentials\n",
    "import json\n",
    "\n",
    "PROJECT = 'qwiklabs-gcp-ml-83914069970b'\n",
    "MODEL_NAME = 'youtube8mhal'\n",
    "VERSION = 'v0'\n",
    "\n",
    "credentials = GoogleCredentials.get_application_default()\n",
    "api = discovery.build(\n",
    "    \"ml\",\n",
    "    \"v1\",\n",
    "    credentials = credentials,\n",
    "    discoveryServiceUrl = \"https://storage.googleapis.com/cloud-ml/discovery/ml_v1_discovery.json\"\n",
    ")\n",
    "\n",
    "def convert_data(data_iter):\n",
    "    batch, labels = next(data_iter)\n",
    "    batch.pop('id')\n",
    "    feature = [{'mean_rgb': r.numpy().tolist(), 'mean_audio': a.numpy().tolist()} for r, a in zip(batch['mean_rgb'], batch['mean_audio'])]\n",
    "    labels = [[label_map[str(i)] for i, v in enumerate(label) if v] for label in labels]\n",
    "    return feature, labels\n",
    "\n",
    "def show_predict(prediction, label):\n",
    "    print('labels:', label)\n",
    "    for i, index in enumerate(prediction[\"predicted_topk\"]):\n",
    "        prob = prediction['probabilities'][index]\n",
    "        print(\"{:>20} {}th({}:{}) probality is {}\".format(\n",
    "            '=' * int(prob * 20),\n",
    "            (i+1),\n",
    "            index,\n",
    "            label_map[\"{}\".format(index)],\n",
    "            prob,\n",
    "        ))\n",
    "    print('')\n",
    "\n",
    "def predict(feature, labels=[], model_name=MODEL_NAME, version=VERSION):\n",
    "    request_data = {\"instances\": feature}\n",
    "    parent = \"projects/{}/models/{}/versions/{}\".format(PROJECT,MODEL_NAME, VERSION)\n",
    "    response = api.projects().predict(body = request_data, name = parent).execute()\n",
    "    if 'predictions' not in response:\n",
    "        print('ERROR:', response)\n",
    "    labels += [''] * 10\n",
    "    for p, l in zip(response['predictions'], labels):\n",
    "        show_predict(p, l)\n",
    "    return None"
   ]
  },
  {
   "cell_type": "markdown",
   "metadata": {},
   "source": [
    "# 評価データからの推論"
   ]
  },
  {
   "cell_type": "code",
   "execution_count": 8,
   "metadata": {},
   "outputs": [
    {
     "name": "stdout",
     "output_type": "stream",
     "text": [
      "labels: ['Game', 'Video game', 'Cartoon', 'Fighting game', 'Street Fighter', 'Ryu (Street Fighter)', 'Street Fighter II: The World Warrior']\n",
      " =================== 1th(1864:Street Fighter II: The World Warrior) probality is 0.9997466802597046\n",
      " =================== 2th(69:Fighting game) probality is 0.9994351267814636\n",
      " =================== 3th(236:Street Fighter) probality is 0.9983654618263245\n",
      " =================== 4th(1:Video game) probality is 0.9964624047279358\n",
      " =================== 5th(0:Game) probality is 0.9929423332214355\n",
      "\n",
      "labels: ['Dance']\n",
      "    ================ 1th(13:Musical ensemble) probality is 0.823073148727417\n",
      "            ======== 2th(8:Dance) probality is 0.4208844304084778\n",
      "               ===== 3th(4:Musician) probality is 0.2575816512107849\n",
      "                   = 4th(3:Concert) probality is 0.08166596293449402\n",
      "                   = 5th(175:Parade) probality is 0.057628899812698364\n",
      "\n",
      "labels: ['Concert']\n",
      " =================== 1th(3:Concert) probality is 0.9989173412322998\n",
      "                  == 2th(4:Musician) probality is 0.11304605007171631\n",
      "                     3th(38:Drummer) probality is 0.00876203179359436\n",
      "                     4th(690:Red Bull) probality is 0.00814443826675415\n",
      "                     5th(28:Drum kit) probality is 0.0052938759326934814\n",
      "\n",
      "labels: ['Room', 'Hotel']\n",
      " =================== 1th(191:Hotel) probality is 0.9960482716560364\n",
      "    ================ 2th(184:Room) probality is 0.8170643448829651\n",
      "        ============ 3th(985:Suite (hotel)) probality is 0.6279097199440002\n",
      "                 === 4th(364:Apartment) probality is 0.17162320017814636\n",
      "                 === 5th(380:Living room) probality is 0.16077709197998047\n",
      "\n",
      "labels: ['Vehicle', 'Car']\n",
      "            ======== 1th(2:Vehicle) probality is 0.42737844586372375\n",
      "             ======= 2th(7:Car) probality is 0.36337149143218994\n",
      "                 === 3th(62:Machine) probality is 0.1837085783481598\n",
      "                     4th(498:Printing) probality is 0.04340216517448425\n",
      "                     5th(45:Train) probality is 0.03682434558868408\n",
      "\n"
     ]
    }
   ],
   "source": [
    "feature, labels = convert_data(data_iter)\n",
    "predict(feature, labels=labels, model_name='youtube8mkojo', version='v1')"
   ]
  },
  {
   "cell_type": "markdown",
   "metadata": {},
   "source": [
    "# GCS からの予測"
   ]
  },
  {
   "cell_type": "code",
   "execution_count": 9,
   "metadata": {},
   "outputs": [],
   "source": [
    "import requests\n",
    "\n",
    "def tag_image(file):\n",
    "    job_id = 'haljob'\n",
    "\n",
    "    file_prefix, ext = file.rsplit('.', 1)\n",
    "    response = requests.get(\"http://35.223.176.253:8080/predict/{}/{}/{}\".format(job_id, file_prefix, ext))\n",
    "    feature = response.json()\n",
    "    print(file)\n",
    "    predict([feature], model_name='youtube8mkojo', version='v1')"
   ]
  },
  {
   "cell_type": "code",
   "execution_count": 10,
   "metadata": {},
   "outputs": [
    {
     "name": "stdout",
     "output_type": "stream",
     "text": [
      "aibo.mov\n",
      "labels: \n",
      "        ============ 1th(26:Toy) probality is 0.6493330001831055\n",
      "              ====== 2th(15:Animal) probality is 0.3113280236721039\n",
      "               ===== 3th(738:Bowser (character)) probality is 0.2834187150001526\n",
      "                ==== 4th(326:Figurine) probality is 0.2309437394142151\n",
      "                ==== 5th(782:Stuffed toy) probality is 0.2085438370704651\n",
      "\n",
      "art_robot.mov\n",
      "labels: \n",
      "                   = 1th(2:Vehicle) probality is 0.06031396985054016\n",
      "                     2th(26:Toy) probality is 0.03662163019180298\n",
      "                     3th(1:Video game) probality is 0.03249591588973999\n",
      "                     4th(0:Game) probality is 0.01539844274520874\n",
      "                     5th(1750:Predator (alien)) probality is 0.009896695613861084\n",
      "\n",
      "cycling_bridge.mp4\n",
      "labels: \n",
      " =================== 1th(871:Bridge) probality is 0.9993628263473511\n",
      "                     2th(179:Weather) probality is 0.01919502019882202\n",
      "                     3th(45:Train) probality is 0.0113411545753479\n",
      "                     4th(31:Piano) probality is 0.01000303030014038\n",
      "                     5th(56:Transport) probality is 0.009934991598129272\n",
      "\n",
      "indoor_climbing.mov\n",
      "labels: \n",
      " =================== 1th(353:Climbing) probality is 0.9559639096260071\n",
      "            ======== 2th(673:Rock climbing) probality is 0.4182576835155487\n",
      "                     3th(797:Turtle) probality is 0.007031738758087158\n",
      "                     4th(2646:Sand art and play) probality is 0.004620969295501709\n",
      "                     5th(1455:Kettlebell) probality is 0.0041619837284088135\n",
      "\n",
      "mountain_climbing.mp4\n",
      "labels: \n",
      "           ========= 1th(666:Mountain) probality is 0.4594510793685913\n",
      "                ==== 2th(519:Hiking) probality is 0.2222156524658203\n",
      "                 === 3th(353:Climbing) probality is 0.1710701584815979\n",
      "                   = 4th(291:Tree) probality is 0.08583420515060425\n",
      "                   = 5th(1002:Volcano) probality is 0.062157630920410156\n",
      "\n",
      "outdoor_climbing.mov\n",
      "labels: \n",
      " =================== 1th(353:Climbing) probality is 0.9563990235328674\n",
      "   ================= 2th(673:Rock climbing) probality is 0.8867788910865784\n",
      "        ============ 3th(60:Outdoor recreation) probality is 0.6210595965385437\n",
      "                     4th(1918:Canyon) probality is 0.012675702571868896\n",
      "                     5th(1615:Rock (geology)) probality is 0.003924012184143066\n",
      "\n",
      "parrot.mov\n",
      "labels: \n",
      " =================== 1th(15:Animal) probality is 0.999725878238678\n",
      " =================== 2th(96:Bird) probality is 0.9979029297828674\n",
      " =================== 3th(463:Parrot) probality is 0.9751848578453064\n",
      " =================== 4th(18:Pet) probality is 0.9675488471984863\n",
      "     =============== 5th(1812:Cockatiel) probality is 0.7781449556350708\n",
      "\n",
      "qoobo.mov\n",
      "labels: \n",
      "              ====== 1th(15:Animal) probality is 0.3329368829727173\n",
      "                ==== 2th(18:Pet) probality is 0.24648424983024597\n",
      "                ==== 3th(170:Cat) probality is 0.23119884729385376\n",
      "                 === 4th(451:Unidentified flying object) probality is 0.18125268816947937\n",
      "                 === 5th(1666:Nest) probality is 0.15657970309257507\n",
      "\n",
      "rabbit.mov\n",
      "labels: \n",
      " =================== 1th(862:Rabbit) probality is 0.9999825954437256\n",
      " =================== 2th(15:Animal) probality is 0.9976228475570679\n",
      " =================== 3th(18:Pet) probality is 0.9969497919082642\n",
      "     =============== 4th(3539:Hare) probality is 0.7944639325141907\n",
      "                     5th(363:Wildlife) probality is 0.03400370478630066\n",
      "\n",
      "restaurant.mov\n",
      "labels: \n",
      "                   = 1th(2:Vehicle) probality is 0.06915551424026489\n",
      "                     2th(899:Ceiling) probality is 0.0390467643737793\n",
      "                     3th(145:Airport) probality is 0.012697398662567139\n",
      "                     4th(161:Gym) probality is 0.007952779531478882\n",
      "                     5th(45:Train) probality is 0.007688581943511963\n",
      "\n",
      "robot_arm.mov\n",
      "labels: \n",
      " =================== 1th(62:Machine) probality is 0.9780985713005066\n",
      "    ================ 2th(259:Robot) probality is 0.8413463830947876\n",
      "                     3th(26:Toy) probality is 0.02498793601989746\n",
      "                     4th(157:Halo (series)) probality is 0.018456637859344482\n",
      "                     5th(382:Bag) probality is 0.012317478656768799\n",
      "\n",
      "snowboarding.mov\n",
      "labels: \n",
      " =================== 1th(160:Skiing) probality is 0.9607166051864624\n",
      "   ================= 2th(231:Snowboarding) probality is 0.8927627801895142\n",
      "            ======== 3th(491:Snowboard) probality is 0.4081687331199646\n",
      "               ===== 4th(273:Ski) probality is 0.28075873851776123\n",
      "                   = 5th(82:Winter sport) probality is 0.0601806640625\n",
      "\n",
      "sunset.mp4\n",
      "labels: \n",
      "     =============== 1th(2374:Sunset) probality is 0.7606006860733032\n",
      "          ========== 2th(2:Vehicle) probality is 0.5242913961410522\n",
      "                ==== 3th(76:Boat) probality is 0.2284868061542511\n",
      "                  == 4th(146:Photography) probality is 0.11729764938354492\n",
      "                   = 5th(7:Car) probality is 0.06005293130874634\n",
      "\n"
     ]
    }
   ],
   "source": [
    "image_list = [\n",
    "    'aibo.mov',\n",
    "    'art_robot.mov',\n",
    "    'cycling_bridge.mp4',\n",
    "    'indoor_climbing.mov',\n",
    "    'mountain_climbing.mp4',\n",
    "    'outdoor_climbing.mov',\n",
    "    'parrot.mov',\n",
    "    'qoobo.mov',\n",
    "    'rabbit.mov',\n",
    "    'restaurant.mov',\n",
    "    'robot_arm.mov',\n",
    "    'snowboarding.mov',\n",
    "    'sunset.mp4',\n",
    "]\n",
    "for file in image_list:\n",
    "    try:\n",
    "        tag_image(file)\n",
    "    except Exception as e:\n",
    "        print('ERROR:', e)"
   ]
  },
  {
   "cell_type": "code",
   "execution_count": null,
   "metadata": {},
   "outputs": [],
   "source": []
  }
 ],
 "metadata": {
  "kernelspec": {
   "display_name": "Python 3",
   "language": "python",
   "name": "python3"
  },
  "language_info": {
   "codemirror_mode": {
    "name": "ipython",
    "version": 3
   },
   "file_extension": ".py",
   "mimetype": "text/x-python",
   "name": "python",
   "nbconvert_exporter": "python",
   "pygments_lexer": "ipython3",
   "version": "3.5.3"
  }
 },
 "nbformat": 4,
 "nbformat_minor": 4
}
