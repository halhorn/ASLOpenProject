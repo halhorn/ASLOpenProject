{
 "cells": [
  {
   "cell_type": "code",
   "execution_count": 1,
   "metadata": {},
   "outputs": [
    {
     "data": {
      "text/plain": [
       "'/home/jupyter/ASLOpenProject/youtube8m'"
      ]
     },
     "execution_count": 1,
     "metadata": {},
     "output_type": "execute_result"
    }
   ],
   "source": [
    "# youtube8m のディレクトリに移動\n",
    "import os\n",
    "while os.getcwd().split('/')[-1] != 'youtube8m': os.chdir('..')\n",
    "os.getcwd()"
   ]
  },
  {
   "cell_type": "code",
   "execution_count": 2,
   "metadata": {},
   "outputs": [],
   "source": [
    "import tensorflow as tf\n",
    "from video.data import read_dataset"
   ]
  },
  {
   "cell_type": "code",
   "execution_count": 3,
   "metadata": {},
   "outputs": [],
   "source": [
    "tf.enable_eager_execution()"
   ]
  },
  {
   "cell_type": "code",
   "execution_count": 4,
   "metadata": {},
   "outputs": [
    {
     "name": "stdout",
     "output_type": "stream",
     "text": [
      "Copying gs://asl-mixi-project-bucket/data/youtube-8m/vocabulary.csv...\n",
      "/ [1 files][  3.4 MiB/  3.4 MiB]                                                \n",
      "Operation completed over 1 objects/3.4 MiB.                                      \n"
     ]
    }
   ],
   "source": [
    "!gsutil cp gs://asl-mixi-project-bucket/data/youtube-8m/vocabulary.csv ."
   ]
  },
  {
   "cell_type": "code",
   "execution_count": 5,
   "metadata": {},
   "outputs": [],
   "source": [
    "import csv\n",
    "\n",
    "label_map = {}\n",
    "with open('./vocabulary.csv', 'r') as c:\n",
    "    reader = csv.reader(c)\n",
    "    next(reader, None)\n",
    "    for r in reader:\n",
    "        label_map[r[0]] = r[3]"
   ]
  },
  {
   "cell_type": "code",
   "execution_count": 6,
   "metadata": {},
   "outputs": [
    {
     "name": "stdout",
     "output_type": "stream",
     "text": [
      "WARNING:tensorflow:From /usr/local/lib/python3.5/dist-packages/tensorflow_core/python/autograph/converters/directives.py:119: The name tf.FixedLenFeature is deprecated. Please use tf.io.FixedLenFeature instead.\n",
      "\n",
      "WARNING:tensorflow:From /usr/local/lib/python3.5/dist-packages/tensorflow_core/python/autograph/converters/directives.py:119: The name tf.VarLenFeature is deprecated. Please use tf.io.VarLenFeature instead.\n",
      "\n",
      "WARNING:tensorflow:From /usr/local/lib/python3.5/dist-packages/tensorflow_core/python/autograph/converters/directives.py:119: The name tf.parse_single_sequence_example is deprecated. Please use tf.io.parse_single_sequence_example instead.\n",
      "\n"
     ]
    },
    {
     "data": {
      "text/plain": [
       "[['Musician',\n",
       "  'Guitar',\n",
       "  'String instrument',\n",
       "  'Musical ensemble',\n",
       "  'Drum kit',\n",
       "  'Drum'],\n",
       " ['Game', 'Association football'],\n",
       " ['Performance art', 'Dance'],\n",
       " ['Skateboarding', 'Surfing', 'Surfboard', 'Bodyboarding'],\n",
       " ['Game', 'Video game', 'Silkroad Online']]"
      ]
     },
     "execution_count": 6,
     "metadata": {},
     "output_type": "execute_result"
    }
   ],
   "source": [
    "data = read_dataset(\n",
    "    'gs://asl-mixi-project-bucket/data/youtube-8m/valid/*.tfrecord',\n",
    "    tf.estimator.ModeKeys.EVAL,\n",
    "    batch_size=5\n",
    ").shuffle(1024)\n",
    "batch, labels = next(iter(data))\n",
    "batch.pop('id')\n",
    "feature = [{'mean_rgb': r.numpy().tolist(), 'mean_audio': a.numpy().tolist()} for r, a in zip(batch['mean_rgb'], batch['mean_audio'])]\n",
    "labels = [[label_map[str(i)] for i, v in enumerate(label) if v] for label in labels]\n",
    "labels"
   ]
  },
  {
   "cell_type": "code",
   "execution_count": 7,
   "metadata": {},
   "outputs": [],
   "source": [
    "from googleapiclient import discovery\n",
    "from oauth2client.client import GoogleCredentials\n",
    "import json\n",
    "\n",
    "PROJECT = 'qwiklabs-gcp-ml-83914069970b'\n",
    "MODEL_NAME = 'youtube8mkojo'\n",
    "VERSION = 'v1'\n",
    "\n",
    "credentials = GoogleCredentials.get_application_default()\n",
    "api = discovery.build(\n",
    "    \"ml\",\n",
    "    \"v1\",\n",
    "    credentials = credentials,\n",
    "    discoveryServiceUrl = \"https://storage.googleapis.com/cloud-ml/discovery/ml_v1_discovery.json\"\n",
    ")\n",
    "\n",
    "def show_predict(prediction, label):\n",
    "    print(label)\n",
    "    for i, index in enumerate(prediction[\"predicted_topk\"]):\n",
    "        print(\"{}th({}:{}) probality is {}\".format(\n",
    "            (i+1),\n",
    "            index,\n",
    "            label_map[\"{}\".format(index)],\n",
    "            prediction['probabilities'][index]\n",
    "        ))\n",
    "    print('')\n",
    "\n",
    "def predict(model_name=MODEL_NAME, version=VERSION):\n",
    "    request_data = {\"instances\": feature}\n",
    "    parent = \"projects/{}/models/{}/versions/{}\".format(PROJECT,MODEL_NAME, VERSION)\n",
    "    response = api.projects().predict(body = request_data, name = parent).execute()\n",
    "    for p, l in zip(response['predictions'], labels):\n",
    "        show_predict(p, l)\n",
    "    return None"
   ]
  },
  {
   "cell_type": "code",
   "execution_count": 8,
   "metadata": {},
   "outputs": [
    {
     "name": "stdout",
     "output_type": "stream",
     "text": [
      "['Musician', 'Guitar', 'String instrument', 'Musical ensemble', 'Drum kit', 'Drum']\n",
      "1th(4:Musician) probality is 0.9946284294128418\n",
      "2th(9:Guitar) probality is 0.9855870604515076\n",
      "3th(10:String instrument) probality is 0.8845663070678711\n",
      "4th(13:Musical ensemble) probality is 0.768027663230896\n",
      "5th(33:Drum) probality is 0.7544289827346802\n",
      "\n",
      "['Game', 'Association football']\n",
      "1th(12:Association football) probality is 0.9842694401741028\n",
      "2th(0:Game) probality is 0.9665849208831787\n",
      "3th(91:Highlight film) probality is 0.06655606627464294\n",
      "4th(237:Stadium) probality is 0.039057791233062744\n",
      "5th(312:Rugby football) probality is 0.014034807682037354\n",
      "\n",
      "['Performance art', 'Dance']\n",
      "1th(6:Performance art) probality is 0.9520819187164307\n",
      "2th(8:Dance) probality is 0.8863418698310852\n",
      "3th(3:Concert) probality is 0.013432294130325317\n",
      "4th(812:Dance studio) probality is 0.011701822280883789\n",
      "5th(206:Ballet) probality is 0.011263459920883179\n",
      "\n",
      "['Skateboarding', 'Surfing', 'Surfboard', 'Bodyboarding']\n",
      "1th(182:Surfing) probality is 0.9696422815322876\n",
      "2th(392:Surfboard) probality is 0.8670464754104614\n",
      "3th(452:Longboard (skateboard)) probality is 0.1395057737827301\n",
      "4th(634:Bodyboarding) probality is 0.13061144948005676\n",
      "5th(166:Extreme sport) probality is 0.018785208463668823\n",
      "\n",
      "['Game', 'Video game', 'Silkroad Online']\n",
      "1th(1:Video game) probality is 0.8264834880828857\n",
      "2th(0:Game) probality is 0.8056908845901489\n",
      "3th(25:Trailer (promotion)) probality is 0.37358421087265015\n",
      "4th(856:Silkroad Online) probality is 0.324954628944397\n",
      "5th(1006:Perfect World (video game)) probality is 0.09608069062232971\n",
      "\n"
     ]
    }
   ],
   "source": [
    "predict('youtube8mkojo', 'v1')"
   ]
  },
  {
   "cell_type": "code",
   "execution_count": null,
   "metadata": {},
   "outputs": [],
   "source": []
  }
 ],
 "metadata": {
  "kernelspec": {
   "display_name": "Python 3",
   "language": "python",
   "name": "python3"
  },
  "language_info": {
   "codemirror_mode": {
    "name": "ipython",
    "version": 3
   },
   "file_extension": ".py",
   "mimetype": "text/x-python",
   "name": "python",
   "nbconvert_exporter": "python",
   "pygments_lexer": "ipython3",
   "version": "3.5.3"
  }
 },
 "nbformat": 4,
 "nbformat_minor": 4
}
