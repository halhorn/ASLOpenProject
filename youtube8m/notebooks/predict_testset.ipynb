{
 "cells": [
  {
   "cell_type": "code",
   "execution_count": 1,
   "metadata": {},
   "outputs": [
    {
     "data": {
      "text/plain": [
       "'/home/jupyter/ASLOpenProject/youtube8m'"
      ]
     },
     "execution_count": 1,
     "metadata": {},
     "output_type": "execute_result"
    }
   ],
   "source": [
    "# youtube8m のディレクトリに移動\n",
    "import os\n",
    "while os.getcwd().split('/')[-1] != 'youtube8m': os.chdir('..')\n",
    "os.getcwd()"
   ]
  },
  {
   "cell_type": "code",
   "execution_count": 2,
   "metadata": {},
   "outputs": [],
   "source": [
    "import tensorflow as tf\n",
    "from video.data import read_dataset"
   ]
  },
  {
   "cell_type": "code",
   "execution_count": 3,
   "metadata": {},
   "outputs": [],
   "source": [
    "tf.enable_eager_execution()"
   ]
  },
  {
   "cell_type": "markdown",
   "metadata": {},
   "source": [
    "# カテゴリ一覧"
   ]
  },
  {
   "cell_type": "code",
   "execution_count": 4,
   "metadata": {},
   "outputs": [
    {
     "name": "stdout",
     "output_type": "stream",
     "text": [
      "Copying gs://asl-mixi-project-bucket/data/youtube-8m/vocabulary.csv...\n",
      "/ [1 files][  3.4 MiB/  3.4 MiB]                                                \n",
      "Operation completed over 1 objects/3.4 MiB.                                      \n"
     ]
    }
   ],
   "source": [
    "!gsutil cp gs://asl-mixi-project-bucket/data/youtube-8m/vocabulary.csv ."
   ]
  },
  {
   "cell_type": "code",
   "execution_count": 5,
   "metadata": {},
   "outputs": [],
   "source": [
    "import csv\n",
    "\n",
    "label_map = {}\n",
    "with open('./vocabulary.csv', 'r') as c:\n",
    "    reader = csv.reader(c)\n",
    "    next(reader, None)\n",
    "    for r in reader:\n",
    "        label_map[r[0]] = r[3]"
   ]
  },
  {
   "cell_type": "markdown",
   "metadata": {},
   "source": [
    "# 評価データセットの読み込み"
   ]
  },
  {
   "cell_type": "code",
   "execution_count": 6,
   "metadata": {},
   "outputs": [
    {
     "name": "stdout",
     "output_type": "stream",
     "text": [
      "WARNING:tensorflow:From /usr/local/lib/python3.5/dist-packages/tensorflow_core/python/autograph/converters/directives.py:119: The name tf.FixedLenFeature is deprecated. Please use tf.io.FixedLenFeature instead.\n",
      "\n",
      "WARNING:tensorflow:From /usr/local/lib/python3.5/dist-packages/tensorflow_core/python/autograph/converters/directives.py:119: The name tf.VarLenFeature is deprecated. Please use tf.io.VarLenFeature instead.\n",
      "\n",
      "WARNING:tensorflow:From /usr/local/lib/python3.5/dist-packages/tensorflow_core/python/autograph/converters/directives.py:119: The name tf.parse_single_sequence_example is deprecated. Please use tf.io.parse_single_sequence_example instead.\n",
      "\n"
     ]
    }
   ],
   "source": [
    "data = read_dataset(\n",
    "    'gs://asl-mixi-project-bucket/data/youtube-8m/valid/*.tfrecord',\n",
    "    tf.estimator.ModeKeys.EVAL,\n",
    "    batch_size=5\n",
    ").shuffle(1024)\n",
    "data_iter = iter(data)"
   ]
  },
  {
   "cell_type": "markdown",
   "metadata": {},
   "source": [
    "# 推論"
   ]
  },
  {
   "cell_type": "code",
   "execution_count": 7,
   "metadata": {},
   "outputs": [],
   "source": [
    "from googleapiclient import discovery\n",
    "from oauth2client.client import GoogleCredentials\n",
    "import json\n",
    "\n",
    "PROJECT = 'qwiklabs-gcp-ml-83914069970b'\n",
    "MODEL_NAME = 'youtube8mkojo'\n",
    "VERSION = 'v1'\n",
    "\n",
    "credentials = GoogleCredentials.get_application_default()\n",
    "api = discovery.build(\n",
    "    \"ml\",\n",
    "    \"v1\",\n",
    "    credentials = credentials,\n",
    "    discoveryServiceUrl = \"https://storage.googleapis.com/cloud-ml/discovery/ml_v1_discovery.json\"\n",
    ")\n",
    "\n",
    "def convert_data(data_iter):\n",
    "    batch, labels = next(data_iter)\n",
    "    batch.pop('id')\n",
    "    feature = [{'mean_rgb': r.numpy().tolist(), 'mean_audio': a.numpy().tolist()} for r, a in zip(batch['mean_rgb'], batch['mean_audio'])]\n",
    "    labels = [[label_map[str(i)] for i, v in enumerate(label) if v] for label in labels]\n",
    "    return feature, labels\n",
    "\n",
    "def show_predict(prediction, label):\n",
    "    print('labels:', label)\n",
    "    for i, index in enumerate(prediction[\"predicted_topk\"]):\n",
    "        print(\"{}th({}:{}) probality is {}\".format(\n",
    "            (i+1),\n",
    "            index,\n",
    "            label_map[\"{}\".format(index)],\n",
    "            prediction['probabilities'][index]\n",
    "        ))\n",
    "    print('')\n",
    "\n",
    "def predict(data_iter, model_name=MODEL_NAME, version=VERSION):\n",
    "    feature, labels = convert_data(data_iter)\n",
    "    request_data = {\"instances\": feature}\n",
    "    parent = \"projects/{}/models/{}/versions/{}\".format(PROJECT,MODEL_NAME, VERSION)\n",
    "    response = api.projects().predict(body = request_data, name = parent).execute()\n",
    "    for p, l in zip(response['predictions'], labels):\n",
    "        show_predict(p, l)\n",
    "    return None"
   ]
  },
  {
   "cell_type": "code",
   "execution_count": 8,
   "metadata": {},
   "outputs": [
    {
     "name": "stdout",
     "output_type": "stream",
     "text": [
      "labels: ['Square dance']\n",
      "1th(8:Dance) probality is 0.9692925214767456\n",
      "2th(835:Aerobics) probality is 0.0675254762172699\n",
      "3th(206:Ballet) probality is 0.008715659379959106\n",
      "4th(6:Performance art) probality is 0.007174193859100342\n",
      "5th(812:Dance studio) probality is 0.0058457255363464355\n",
      "\n",
      "labels: ['Art', 'Drawing', 'Mehndi']\n",
      "1th(49:Art) probality is 0.9657893180847168\n",
      "2th(80:Drawing) probality is 0.9537800550460815\n",
      "3th(265:Sketch (drawing)) probality is 0.8648155927658081\n",
      "4th(5:Cartoon) probality is 0.46875593066215515\n",
      "5th(694:Pencil) probality is 0.3122357428073883\n",
      "\n",
      "labels: ['Game', 'Video game', 'Strategy video game', 'League of Legends']\n",
      "1th(111:League of Legends) probality is 0.9994308948516846\n",
      "2th(0:Game) probality is 0.9622862339019775\n",
      "3th(42:Strategy video game) probality is 0.9238297939300537\n",
      "4th(1:Video game) probality is 0.6591159105300903\n",
      "5th(3143:Riven) probality is 0.05941206216812134\n",
      "\n",
      "labels: ['Guitar', 'Accordion']\n",
      "1th(9:Guitar) probality is 0.928152322769165\n",
      "2th(4:Musician) probality is 0.9044057130813599\n",
      "3th(10:String instrument) probality is 0.6997443437576294\n",
      "4th(34:Acoustic guitar) probality is 0.43033477663993835\n",
      "5th(33:Drum) probality is 0.3255055546760559\n",
      "\n",
      "labels: ['Concert']\n",
      "1th(3:Concert) probality is 0.9942152500152588\n",
      "2th(6:Performance art) probality is 0.30648088455200195\n",
      "3th(4:Musician) probality is 0.19836220145225525\n",
      "4th(13:Musical ensemble) probality is 0.007538795471191406\n",
      "5th(41:Choir) probality is 0.003542870283126831\n",
      "\n"
     ]
    }
   ],
   "source": [
    "predict(data_iter, 'youtube8mkojo', 'v1')"
   ]
  },
  {
   "cell_type": "code",
   "execution_count": null,
   "metadata": {},
   "outputs": [],
   "source": []
  }
 ],
 "metadata": {
  "kernelspec": {
   "display_name": "Python 3",
   "language": "python",
   "name": "python3"
  },
  "language_info": {
   "codemirror_mode": {
    "name": "ipython",
    "version": 3
   },
   "file_extension": ".py",
   "mimetype": "text/x-python",
   "name": "python",
   "nbconvert_exporter": "python",
   "pygments_lexer": "ipython3",
   "version": "3.5.3"
  }
 },
 "nbformat": 4,
 "nbformat_minor": 4
}
