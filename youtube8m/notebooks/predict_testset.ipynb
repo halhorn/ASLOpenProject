{
 "cells": [
  {
   "cell_type": "code",
   "execution_count": 1,
   "metadata": {},
   "outputs": [
    {
     "data": {
      "text/plain": [
       "'/home/jupyter/ASLOpenProject/youtube8m'"
      ]
     },
     "execution_count": 1,
     "metadata": {},
     "output_type": "execute_result"
    }
   ],
   "source": [
    "# youtube8m のディレクトリに移動\n",
    "import os\n",
    "while os.getcwd().split('/')[-1] != 'youtube8m': os.chdir('..')\n",
    "os.getcwd()"
   ]
  },
  {
   "cell_type": "code",
   "execution_count": 2,
   "metadata": {},
   "outputs": [],
   "source": [
    "import tensorflow as tf\n",
    "from video.data import read_dataset"
   ]
  },
  {
   "cell_type": "code",
   "execution_count": 3,
   "metadata": {},
   "outputs": [],
   "source": [
    "tf.enable_eager_execution()"
   ]
  },
  {
   "cell_type": "markdown",
   "metadata": {},
   "source": [
    "# カテゴリ一覧"
   ]
  },
  {
   "cell_type": "code",
   "execution_count": 4,
   "metadata": {},
   "outputs": [
    {
     "name": "stdout",
     "output_type": "stream",
     "text": [
      "Copying gs://asl-mixi-project-bucket/data/youtube-8m/vocabulary.csv...\n",
      "/ [1 files][  3.4 MiB/  3.4 MiB]                                                \n",
      "Operation completed over 1 objects/3.4 MiB.                                      \n"
     ]
    }
   ],
   "source": [
    "!gsutil cp gs://asl-mixi-project-bucket/data/youtube-8m/vocabulary.csv ."
   ]
  },
  {
   "cell_type": "code",
   "execution_count": 5,
   "metadata": {},
   "outputs": [],
   "source": [
    "import csv\n",
    "\n",
    "label_map = {}\n",
    "with open('./vocabulary.csv', 'r') as c:\n",
    "    reader = csv.reader(c)\n",
    "    next(reader, None)\n",
    "    for r in reader:\n",
    "        label_map[r[0]] = r[3]"
   ]
  },
  {
   "cell_type": "markdown",
   "metadata": {},
   "source": [
    "# 評価データセットの読み込み"
   ]
  },
  {
   "cell_type": "code",
   "execution_count": 6,
   "metadata": {},
   "outputs": [
    {
     "name": "stdout",
     "output_type": "stream",
     "text": [
      "WARNING:tensorflow:From /usr/local/lib/python3.5/dist-packages/tensorflow_core/python/autograph/converters/directives.py:119: The name tf.FixedLenFeature is deprecated. Please use tf.io.FixedLenFeature instead.\n",
      "\n",
      "WARNING:tensorflow:From /usr/local/lib/python3.5/dist-packages/tensorflow_core/python/autograph/converters/directives.py:119: The name tf.VarLenFeature is deprecated. Please use tf.io.VarLenFeature instead.\n",
      "\n",
      "WARNING:tensorflow:From /usr/local/lib/python3.5/dist-packages/tensorflow_core/python/autograph/converters/directives.py:119: The name tf.parse_single_sequence_example is deprecated. Please use tf.io.parse_single_sequence_example instead.\n",
      "\n"
     ]
    }
   ],
   "source": [
    "data = read_dataset(\n",
    "    'gs://asl-mixi-project-bucket/data/youtube-8m/valid/*.tfrecord',\n",
    "    tf.estimator.ModeKeys.EVAL,\n",
    "    batch_size=5\n",
    ").shuffle(1024)"
   ]
  },
  {
   "cell_type": "markdown",
   "metadata": {},
   "source": [
    "# 推論"
   ]
  },
  {
   "cell_type": "code",
   "execution_count": 7,
   "metadata": {},
   "outputs": [],
   "source": [
    "from googleapiclient import discovery\n",
    "from oauth2client.client import GoogleCredentials\n",
    "import json\n",
    "\n",
    "PROJECT = 'qwiklabs-gcp-ml-83914069970b'\n",
    "MODEL_NAME = 'youtube8mkojo'\n",
    "VERSION = 'v1'\n",
    "\n",
    "credentials = GoogleCredentials.get_application_default()\n",
    "api = discovery.build(\n",
    "    \"ml\",\n",
    "    \"v1\",\n",
    "    credentials = credentials,\n",
    "    discoveryServiceUrl = \"https://storage.googleapis.com/cloud-ml/discovery/ml_v1_discovery.json\"\n",
    ")\n",
    "\n",
    "def convert_data(data):\n",
    "    batch, labels = next(iter(data))\n",
    "    batch.pop('id')\n",
    "    feature = [{'mean_rgb': r.numpy().tolist(), 'mean_audio': a.numpy().tolist()} for r, a in zip(batch['mean_rgb'], batch['mean_audio'])]\n",
    "    labels = [[label_map[str(i)] for i, v in enumerate(label) if v] for label in labels]\n",
    "    return feature, labels\n",
    "\n",
    "def show_predict(prediction, label):\n",
    "    print('labels:', label)\n",
    "    for i, index in enumerate(prediction[\"predicted_topk\"]):\n",
    "        print(\"{}th({}:{}) probality is {}\".format(\n",
    "            (i+1),\n",
    "            index,\n",
    "            label_map[\"{}\".format(index)],\n",
    "            prediction['probabilities'][index]\n",
    "        ))\n",
    "    print('')\n",
    "\n",
    "def predict(model_name=MODEL_NAME, version=VERSION):\n",
    "    feature, labels = convert_data(data)\n",
    "    request_data = {\"instances\": feature}\n",
    "    parent = \"projects/{}/models/{}/versions/{}\".format(PROJECT,MODEL_NAME, VERSION)\n",
    "    response = api.projects().predict(body = request_data, name = parent).execute()\n",
    "    for p, l in zip(response['predictions'], labels):\n",
    "        show_predict(p, l)\n",
    "    return None"
   ]
  },
  {
   "cell_type": "code",
   "execution_count": 8,
   "metadata": {},
   "outputs": [
    {
     "name": "stdout",
     "output_type": "stream",
     "text": [
      "labels: ['Vehicle', 'Car', 'Sports car', 'Supercar', 'Slide show', 'Audi']\n",
      "1th(2:Vehicle) probality is 0.9885274171829224\n",
      "2th(7:Car) probality is 0.9848949909210205\n",
      "3th(48:Sports car) probality is 0.880866527557373\n",
      "4th(213:Coupé) probality is 0.5943225622177124\n",
      "5th(177:Supercar) probality is 0.35532230138778687\n",
      "\n",
      "labels: ['Airplane', 'Extreme sport', 'Parachuting', 'Parachute']\n",
      "1th(398:Parachuting) probality is 0.9763474464416504\n",
      "2th(501:Parachute) probality is 0.9586477279663086\n",
      "3th(166:Extreme sport) probality is 0.5617824196815491\n",
      "4th(333:Jumping) probality is 0.25855499505996704\n",
      "5th(44:Aircraft) probality is 0.015628278255462646\n",
      "\n",
      "labels: ['Dental braces']\n",
      "1th(11:Food) probality is 0.7975030541419983\n",
      "2th(32:Dish (food)) probality is 0.2644324004650116\n",
      "3th(29:Cuisine) probality is 0.2557116150856018\n",
      "4th(368:Eating) probality is 0.1173916757106781\n",
      "5th(20:Recipe) probality is 0.10123005509376526\n",
      "\n",
      "labels: ['Concert', 'Performance art', 'Dance', 'Resort', 'Suite (hotel)', 'Spa']\n",
      "1th(3:Concert) probality is 0.9520572423934937\n",
      "2th(6:Performance art) probality is 0.7306961417198181\n",
      "3th(8:Dance) probality is 0.4969978928565979\n",
      "4th(13:Musical ensemble) probality is 0.08737343549728394\n",
      "5th(4:Musician) probality is 0.03198564052581787\n",
      "\n",
      "labels: ['Vehicle', 'Train', 'Bus']\n",
      "1th(2:Vehicle) probality is 0.9324420690536499\n",
      "2th(218:Bus) probality is 0.9069726467132568\n",
      "3th(44:Aircraft) probality is 0.17425572872161865\n",
      "4th(266:Mercedes-Benz) probality is 0.1677297055721283\n",
      "5th(7:Car) probality is 0.1583063304424286\n",
      "\n"
     ]
    }
   ],
   "source": [
    "predict('youtube8mkojo', 'v1')"
   ]
  },
  {
   "cell_type": "code",
   "execution_count": null,
   "metadata": {},
   "outputs": [],
   "source": []
  }
 ],
 "metadata": {
  "kernelspec": {
   "display_name": "Python 3",
   "language": "python",
   "name": "python3"
  },
  "language_info": {
   "codemirror_mode": {
    "name": "ipython",
    "version": 3
   },
   "file_extension": ".py",
   "mimetype": "text/x-python",
   "name": "python",
   "nbconvert_exporter": "python",
   "pygments_lexer": "ipython3",
   "version": "3.5.3"
  }
 },
 "nbformat": 4,
 "nbformat_minor": 4
}
