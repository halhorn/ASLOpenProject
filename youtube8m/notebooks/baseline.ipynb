{
 "cells": [
  {
   "cell_type": "code",
   "execution_count": 1,
   "metadata": {},
   "outputs": [
    {
     "data": {
      "text/plain": [
       "'/home/jupyter/ASLOpenProject/youtube8m'"
      ]
     },
     "execution_count": 1,
     "metadata": {},
     "output_type": "execute_result"
    }
   ],
   "source": [
    "# youtube8m のディレクトリに移動\n",
    "import os\n",
    "while os.getcwd().split('/')[-1] != 'youtube8m': os.chdir('..')\n",
    "os.getcwd()"
   ]
  },
  {
   "cell_type": "code",
   "execution_count": 2,
   "metadata": {},
   "outputs": [
    {
     "name": "stdout",
     "output_type": "stream",
     "text": [
      "1.15.0\n"
     ]
    }
   ],
   "source": [
    "import tensorflow as tf\n",
    "tf.enable_eager_execution()\n",
    "print(tf.__version__)"
   ]
  },
  {
   "cell_type": "code",
   "execution_count": 3,
   "metadata": {},
   "outputs": [
    {
     "name": "stderr",
     "output_type": "stream",
     "text": [
      "IOPub data rate exceeded.\n",
      "The notebook server will temporarily stop sending output\n",
      "to the client in order to avoid crashing it.\n",
      "To change this limit, set the config variable\n",
      "`--NotebookApp.iopub_data_rate_limit`.\n",
      "\n",
      "Current values:\n",
      "NotebookApp.iopub_data_rate_limit=1000000.0 (bytes/sec)\n",
      "NotebookApp.rate_limit_window=3.0 (secs)\n",
      "\n"
     ]
    }
   ],
   "source": [
    "import sys\n",
    "from video.data import read_dataset, multi_hot, CLASS_NUM"
   ]
  },
  {
   "cell_type": "code",
   "execution_count": 4,
   "metadata": {},
   "outputs": [
    {
     "name": "stdout",
     "output_type": "stream",
     "text": [
      "WARNING:tensorflow:From /usr/local/lib/python3.5/dist-packages/tensorflow_core/python/autograph/converters/directives.py:119: The name tf.FixedLenFeature is deprecated. Please use tf.io.FixedLenFeature instead.\n",
      "\n",
      "WARNING:tensorflow:From /usr/local/lib/python3.5/dist-packages/tensorflow_core/python/autograph/converters/directives.py:119: The name tf.VarLenFeature is deprecated. Please use tf.io.VarLenFeature instead.\n",
      "\n",
      "WARNING:tensorflow:From /usr/local/lib/python3.5/dist-packages/tensorflow_core/python/autograph/converters/directives.py:119: The name tf.parse_single_sequence_example is deprecated. Please use tf.io.parse_single_sequence_example instead.\n",
      "\n"
     ]
    }
   ],
   "source": [
    "eval_data_path = 'gs://asl-mixi-project-bucket/data/youtube-8m/valid/*.tfrecord'\n",
    "batch_size = 128\n",
    "ds = read_dataset(eval_data_path, tf.estimator.ModeKeys.EVAL, batch_size=batch_size)"
   ]
  },
  {
   "cell_type": "code",
   "execution_count": 5,
   "metadata": {},
   "outputs": [
    {
     "data": {
      "text/plain": [
       "<tf.Tensor: id=77, shape=(3862,), dtype=float32, numpy=array([1., 1., 0., ..., 0., 0., 0.], dtype=float32)>"
      ]
     },
     "execution_count": 5,
     "metadata": {},
     "output_type": "execute_result"
    }
   ],
   "source": [
    "prediction2 = multi_hot(list(range(2)), CLASS_NUM)\n",
    "prediction3 = multi_hot(list(range(3)), CLASS_NUM)\n",
    "prediction5 = multi_hot(list(range(5)), CLASS_NUM)\n",
    "prediction10 = multi_hot(list(range(10)), CLASS_NUM)\n",
    "prediction2"
   ]
  },
  {
   "cell_type": "code",
   "execution_count": 6,
   "metadata": {},
   "outputs": [
    {
     "data": {
      "text/plain": [
       "<tf.Tensor: id=110, shape=(), dtype=float64, numpy=0.8333333333333333>"
      ]
     },
     "execution_count": 6,
     "metadata": {},
     "output_type": "execute_result"
    }
   ],
   "source": [
    "def get_recall(label, predict):\n",
    "    return tf.reduce_mean(\n",
    "        tf.reduce_sum(label * predict, axis=-1) / tf.reduce_sum(label, axis=-1)\n",
    "    )\n",
    "get_recall(\n",
    "    label=tf.constant([[1, 1, 0, 0], [1, 1, 1, 0]]),\n",
    "    predict=tf.constant([1, 1, 0, 0]),\n",
    ")"
   ]
  },
  {
   "cell_type": "code",
   "execution_count": 7,
   "metadata": {},
   "outputs": [
    {
     "name": "stdout",
     "output_type": "stream",
     "text": [
      "99\n",
      "recall: 0.13280897\n",
      "recall top 2: 0.1039775\n",
      "recall top 5: 0.20871462\n",
      "recall top 10: 0.31437227\n"
     ]
    }
   ],
   "source": [
    "recall = 0.0\n",
    "recall2 = 0.0\n",
    "recall5 = 0.0\n",
    "recall10 = 0.0\n",
    "\n",
    "step = 100\n",
    "for i, (feature, label) in enumerate(ds.take(step)):\n",
    "    sys.stdout.write('\\r{}'.format(i))\n",
    "    label = label[:, :CLASS_NUM]\n",
    "    recall += get_recall(label, prediction3) / step\n",
    "    recall2 += get_recall(label, prediction2) / step\n",
    "    recall5 += get_recall(label, prediction5) / step\n",
    "    recall10 += get_recall(label, prediction10) / step\n",
    "\n",
    "print('')\n",
    "print('recall:', recall.numpy())\n",
    "print('recall top 2:', recall2.numpy())\n",
    "print('recall top 5:', recall5.numpy())\n",
    "print('recall top 10:', recall10.numpy())\n"
   ]
  },
  {
   "cell_type": "code",
   "execution_count": null,
   "metadata": {},
   "outputs": [],
   "source": []
  }
 ],
 "metadata": {
  "kernelspec": {
   "display_name": "Python 3",
   "language": "python",
   "name": "python3"
  },
  "language_info": {
   "codemirror_mode": {
    "name": "ipython",
    "version": 3
   },
   "file_extension": ".py",
   "mimetype": "text/x-python",
   "name": "python",
   "nbconvert_exporter": "python",
   "pygments_lexer": "ipython3",
   "version": "3.5.3"
  }
 },
 "nbformat": 4,
 "nbformat_minor": 4
}
