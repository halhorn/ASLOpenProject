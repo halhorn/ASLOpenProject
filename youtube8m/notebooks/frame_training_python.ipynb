{
 "cells": [
  {
   "cell_type": "markdown",
   "metadata": {},
   "source": [
    "# Frame レベルでの学習"
   ]
  },
  {
   "cell_type": "code",
   "execution_count": 1,
   "metadata": {},
   "outputs": [
    {
     "data": {
      "text/plain": [
       "'/home/jupyter/ASLOpenProject/youtube8m'"
      ]
     },
     "execution_count": 1,
     "metadata": {},
     "output_type": "execute_result"
    }
   ],
   "source": [
    "# youtube8m のディレクトリに移動\n",
    "import os\n",
    "while os.getcwd().split('/')[-1] != 'youtube8m': os.chdir('..')\n",
    "os.getcwd()"
   ]
  },
  {
   "cell_type": "code",
   "execution_count": 2,
   "metadata": {},
   "outputs": [
    {
     "name": "stderr",
     "output_type": "stream",
     "text": [
      "IOPub data rate exceeded.\n",
      "The notebook server will temporarily stop sending output\n",
      "to the client in order to avoid crashing it.\n",
      "To change this limit, set the config variable\n",
      "`--NotebookApp.iopub_data_rate_limit`.\n",
      "\n",
      "Current values:\n",
      "NotebookApp.iopub_data_rate_limit=1000000.0 (bytes/sec)\n",
      "NotebookApp.rate_limit_window=3.0 (secs)\n",
      "\n"
     ]
    }
   ],
   "source": [
    "from datetime import datetime\n",
    "import json\n",
    "from frame.models import create_model\n",
    "from frame.estimator import train_and_evaluate"
   ]
  },
  {
   "cell_type": "markdown",
   "metadata": {},
   "source": [
    "# 学習させる"
   ]
  },
  {
   "cell_type": "code",
   "execution_count": null,
   "metadata": {},
   "outputs": [
    {
     "name": "stdout",
     "output_type": "stream",
     "text": [
      "INFO:tensorflow:Using config: {'_cluster_spec': <tensorflow.python.training.server_lib.ClusterSpec object at 0x7f8f6c373240>, '_train_distribute': None, '_eval_distribute': None, '_device_fn': None, '_save_summary_steps': 100, '_log_step_count_steps': 100, '_tf_random_seed': None, '_session_config': allow_soft_placement: true\n",
      "graph_options {\n",
      "  rewrite_options {\n",
      "    meta_optimizer_iterations: ONE\n",
      "  }\n",
      "}\n",
      ", '_keep_checkpoint_every_n_hours': 10000, '_master': '', '_protocol': None, '_keep_checkpoint_max': 5, '_session_creation_timeout_secs': 7200, '_num_ps_replicas': 0, '_model_dir': 'trained/frame_large/attention/pr4l2h512d006r1e3_lr2e4/20191212_033017', '_save_checkpoints_steps': 1000, '_is_chief': True, '_num_worker_replicas': 1, '_evaluation_master': '', '_task_id': 0, '_service': None, '_experimental_distribute': None, '_task_type': 'worker', '_global_id_in_cluster': 0, '_save_checkpoints_secs': None, '_experimental_max_worker_delay_secs': None}\n",
      "INFO:tensorflow:Not using Distribute Coordinator.\n",
      "INFO:tensorflow:Running training and evaluation locally (non-distributed).\n",
      "INFO:tensorflow:Start train and evaluate loop. The evaluate will happen after every checkpoint. Checkpoint frequency is determined based on RunConfig arguments: save_checkpoints_steps 1000 or save_checkpoints_secs None.\n",
      "INFO:tensorflow:Calling model_fn.\n",
      "----------------------------------\n",
      "Model: attention\n",
      "INFO:tensorflow:Done calling model_fn.\n",
      "INFO:tensorflow:Create CheckpointSaverHook.\n",
      "INFO:tensorflow:Graph was finalized.\n",
      "INFO:tensorflow:Running local_init_op.\n",
      "INFO:tensorflow:Done running local_init_op.\n",
      "INFO:tensorflow:Saving checkpoints for 0 into trained/frame_large/attention/pr4l2h512d006r1e3_lr2e4/20191212_033017/model.ckpt.\n",
      "INFO:tensorflow:loss = 0.7278337, step = 0\n",
      "INFO:tensorflow:global_step/sec: 1.66553\n",
      "INFO:tensorflow:loss = 0.014420341, step = 100 (60.043 sec)\n",
      "INFO:tensorflow:global_step/sec: 1.60771\n",
      "INFO:tensorflow:loss = 0.008878772, step = 200 (62.200 sec)\n",
      "INFO:tensorflow:global_step/sec: 1.68783\n",
      "INFO:tensorflow:loss = 0.007876857, step = 300 (59.248 sec)\n",
      "INFO:tensorflow:global_step/sec: 1.55914\n",
      "INFO:tensorflow:loss = 0.007580421, step = 400 (64.138 sec)\n",
      "INFO:tensorflow:global_step/sec: 1.60467\n",
      "INFO:tensorflow:loss = 0.0070512868, step = 500 (62.318 sec)\n",
      "INFO:tensorflow:global_step/sec: 1.46206\n",
      "INFO:tensorflow:loss = 0.006086421, step = 600 (68.397 sec)\n",
      "INFO:tensorflow:global_step/sec: 1.51313\n",
      "INFO:tensorflow:loss = 0.0056364546, step = 700 (66.090 sec)\n",
      "INFO:tensorflow:global_step/sec: 1.46089\n",
      "INFO:tensorflow:loss = 0.0051450846, step = 800 (68.450 sec)\n",
      "INFO:tensorflow:global_step/sec: 1.46127\n",
      "INFO:tensorflow:loss = 0.0046747415, step = 900 (68.434 sec)\n",
      "INFO:tensorflow:Saving checkpoints for 1000 into trained/frame_large/attention/pr4l2h512d006r1e3_lr2e4/20191212_033017/model.ckpt.\n",
      "INFO:tensorflow:Calling model_fn.\n",
      "----------------------------------\n",
      "Model: attention\n",
      "WARNING:tensorflow:From /home/jupyter/ASLOpenProject/youtube8m/frame/estimator.py:36: The name tf.metrics.accuracy is deprecated. Please use tf.compat.v1.metrics.accuracy instead.\n",
      "\n",
      "WARNING:tensorflow:From /home/jupyter/ASLOpenProject/youtube8m/frame/estimator.py:37: The name tf.metrics.recall is deprecated. Please use tf.compat.v1.metrics.recall instead.\n",
      "\n",
      "WARNING:tensorflow:From /usr/local/lib/python3.5/dist-packages/tensorflow_core/python/ops/metrics_impl.py:2200: div (from tensorflow.python.ops.math_ops) is deprecated and will be removed in a future version.\n",
      "Instructions for updating:\n",
      "Deprecated in favor of operator or tf.math.divide.\n",
      "WARNING:tensorflow:From /home/jupyter/ASLOpenProject/youtube8m/frame/estimator.py:38: The name tf.metrics.precision is deprecated. Please use tf.compat.v1.metrics.precision instead.\n",
      "\n",
      "WARNING:tensorflow:From /home/jupyter/ASLOpenProject/youtube8m/frame/estimator.py:39: The name tf.metrics.auc is deprecated. Please use tf.compat.v1.metrics.auc instead.\n",
      "\n",
      "WARNING:tensorflow:From /home/jupyter/ASLOpenProject/youtube8m/frame/estimator.py:40: The name tf.metrics.mean is deprecated. Please use tf.compat.v1.metrics.mean instead.\n",
      "\n",
      "WARNING:tensorflow:From /usr/local/lib/python3.5/dist-packages/tensorflow_core/python/util/deprecation.py:507: calling count_nonzero (from tensorflow.python.ops.math_ops) with axis is deprecated and will be removed in a future version.\n",
      "Instructions for updating:\n",
      "reduction_indices is deprecated, use axis instead\n",
      "INFO:tensorflow:Done calling model_fn.\n",
      "INFO:tensorflow:Starting evaluation at 2019-12-12T03:41:35Z\n",
      "INFO:tensorflow:Graph was finalized.\n",
      "INFO:tensorflow:Restoring parameters from trained/frame_large/attention/pr4l2h512d006r1e3_lr2e4/20191212_033017/model.ckpt-1000\n",
      "INFO:tensorflow:Running local_init_op.\n",
      "INFO:tensorflow:Done running local_init_op.\n",
      "INFO:tensorflow:Evaluation [10/100]\n",
      "INFO:tensorflow:Evaluation [20/100]\n",
      "INFO:tensorflow:Evaluation [30/100]\n",
      "INFO:tensorflow:Evaluation [40/100]\n",
      "INFO:tensorflow:Evaluation [50/100]\n",
      "INFO:tensorflow:Evaluation [60/100]\n",
      "INFO:tensorflow:Evaluation [70/100]\n",
      "INFO:tensorflow:Evaluation [80/100]\n",
      "INFO:tensorflow:Evaluation [90/100]\n",
      "INFO:tensorflow:Evaluation [100/100]\n",
      "INFO:tensorflow:Finished evaluation at 2019-12-12-03:47:12\n",
      "INFO:tensorflow:Saving dict for global step 1000: category_accuracy = 0.95956564, category_auc = 0.7331231, category_precision = 0.88221174, category_predicted_tag_count = 0.91132814, category_recall = 0.4708547, category_recall_top10 = 0.9273426, category_recall_top2 = 0.6544656, category_recall_top5 = 0.8358803, global_step = 1000, loss = 0.007467489, tag_accuracy = 0.99904, tag_auc = 0.5906929, tag_precision = 0.8836908, tag_predicted_tag_count = 0.9034375, tag_recall = 0.1814131, tag_recall_top10 = 0.37631813, tag_recall_top2 = 0.21244453, tag_recall_top5 = 0.3238239\n",
      "INFO:tensorflow:Saving 'checkpoint_path' summary for global step 1000: trained/frame_large/attention/pr4l2h512d006r1e3_lr2e4/20191212_033017/model.ckpt-1000\n",
      "WARNING:tensorflow:From /home/jupyter/ASLOpenProject/youtube8m/frame/estimator.py:108: The name tf.placeholder is deprecated. Please use tf.compat.v1.placeholder instead.\n",
      "\n",
      "INFO:tensorflow:Calling model_fn.\n",
      "----------------------------------\n",
      "Model: attention\n",
      "INFO:tensorflow:Done calling model_fn.\n",
      "WARNING:tensorflow:From /usr/local/lib/python3.5/dist-packages/tensorflow_core/python/saved_model/signature_def_utils_impl.py:201: build_tensor_info (from tensorflow.python.saved_model.utils_impl) is deprecated and will be removed in a future version.\n",
      "Instructions for updating:\n",
      "This function will only be available through the v1 compatibility library as tf.compat.v1.saved_model.utils.build_tensor_info or tf.compat.v1.saved_model.build_tensor_info.\n",
      "INFO:tensorflow:Signatures INCLUDED in export for Regress: None\n",
      "INFO:tensorflow:Signatures INCLUDED in export for Train: None\n",
      "INFO:tensorflow:Signatures INCLUDED in export for Classify: None\n",
      "INFO:tensorflow:Signatures INCLUDED in export for Predict: ['serving_default']\n",
      "INFO:tensorflow:Signatures INCLUDED in export for Eval: None\n",
      "INFO:tensorflow:Restoring parameters from trained/frame_large/attention/pr4l2h512d006r1e3_lr2e4/20191212_033017/model.ckpt-1000\n",
      "INFO:tensorflow:Assets added to graph.\n",
      "INFO:tensorflow:No assets to write.\n",
      "INFO:tensorflow:SavedModel written to: trained/frame_large/attention/pr4l2h512d006r1e3_lr2e4/20191212_033017/export/exporter/temp-b'1576122432'/saved_model.pb\n",
      "INFO:tensorflow:global_step/sec: 0.239725\n",
      "INFO:tensorflow:loss = 0.0046444414, step = 1000 (417.144 sec)\n",
      "INFO:tensorflow:global_step/sec: 1.83265\n",
      "INFO:tensorflow:loss = 0.0039761937, step = 1100 (54.566 sec)\n",
      "INFO:tensorflow:global_step/sec: 1.54559\n",
      "INFO:tensorflow:loss = 0.004090767, step = 1200 (64.700 sec)\n",
      "INFO:tensorflow:global_step/sec: 1.54774\n",
      "INFO:tensorflow:loss = 0.0038997165, step = 1300 (64.610 sec)\n",
      "INFO:tensorflow:global_step/sec: 1.5845\n",
      "INFO:tensorflow:loss = 0.0039850613, step = 1400 (63.112 sec)\n",
      "INFO:tensorflow:global_step/sec: 1.46923\n",
      "INFO:tensorflow:loss = 0.003405178, step = 1500 (68.063 sec)\n",
      "INFO:tensorflow:global_step/sec: 1.62727\n",
      "INFO:tensorflow:loss = 0.0034012222, step = 1600 (61.452 sec)\n",
      "INFO:tensorflow:global_step/sec: 1.62456\n",
      "INFO:tensorflow:loss = 0.0030458816, step = 1700 (61.555 sec)\n",
      "INFO:tensorflow:global_step/sec: 1.7032\n",
      "INFO:tensorflow:loss = 0.0032875482, step = 1800 (58.714 sec)\n",
      "INFO:tensorflow:global_step/sec: 1.61988\n",
      "INFO:tensorflow:loss = 0.0033182283, step = 1900 (61.732 sec)\n",
      "INFO:tensorflow:Saving checkpoints for 2000 into trained/frame_large/attention/pr4l2h512d006r1e3_lr2e4/20191212_033017/model.ckpt.\n",
      "INFO:tensorflow:Calling model_fn.\n",
      "----------------------------------\n",
      "Model: attention\n",
      "INFO:tensorflow:Done calling model_fn.\n",
      "INFO:tensorflow:Starting evaluation at 2019-12-12T03:57:44Z\n",
      "INFO:tensorflow:Graph was finalized.\n",
      "INFO:tensorflow:Restoring parameters from trained/frame_large/attention/pr4l2h512d006r1e3_lr2e4/20191212_033017/model.ckpt-2000\n",
      "INFO:tensorflow:Running local_init_op.\n",
      "INFO:tensorflow:Done running local_init_op.\n",
      "INFO:tensorflow:Evaluation [10/100]\n",
      "INFO:tensorflow:Evaluation [20/100]\n",
      "INFO:tensorflow:Evaluation [30/100]\n"
     ]
    }
   ],
   "source": [
    "model_name = 'attention/pr4l2h512d006r1e3_lr2e4'\n",
    "#model_name = 'tmp'\n",
    "out_dir = 'trained/frame_large/{}/{}'.format(model_name, datetime.now().strftime('%Y%m%d_%H%M%S'))\n",
    "os.makedirs(out_dir)\n",
    "params = {\n",
    "    'train_data_path': 'gs://asl-mixi-project-bucket/data/youtube-8m-frame/train/train*.tfrecord',  # 1/10 data\n",
    "    'eval_data_path': 'gs://asl-mixi-project-bucket/data/youtube-8m-frame/validate/*.tfrecord',\n",
    "    \n",
    "    # model params\n",
    "    'model': 'attention',\n",
    "    'pre_layer_num': 4,\n",
    "    'layer_num': 2,\n",
    "    'hidden_dim': 512,\n",
    "    'dropout': 0.006,\n",
    "    'kernel_regularizer': 0.001,\n",
    "    \n",
    "    # training params\n",
    "    'batch_size': 128,\n",
    "    'learning_rate': 0.00023,\n",
    "    'category_weight': 1.789,\n",
    "    'log_interval_step': 100,\n",
    "    'train_steps': 100000,\n",
    "    'eval_interval_step': 1000,\n",
    "}\n",
    "\n",
    "with open(os.path.join(out_dir, 'params.json'), 'w') as f:\n",
    "    json.dump(params, f, ensure_ascii=False, indent=2)\n",
    "\n",
    "train_and_evaluate(out_dir, params)"
   ]
  },
  {
   "cell_type": "code",
   "execution_count": null,
   "metadata": {},
   "outputs": [],
   "source": []
  },
  {
   "cell_type": "code",
   "execution_count": null,
   "metadata": {},
   "outputs": [],
   "source": []
  }
 ],
 "metadata": {
  "kernelspec": {
   "display_name": "Python 3",
   "language": "python",
   "name": "python3"
  },
  "language_info": {
   "codemirror_mode": {
    "name": "ipython",
    "version": 3
   },
   "file_extension": ".py",
   "mimetype": "text/x-python",
   "name": "python",
   "nbconvert_exporter": "python",
   "pygments_lexer": "ipython3",
   "version": "3.5.3"
  }
 },
 "nbformat": 4,
 "nbformat_minor": 4
}
