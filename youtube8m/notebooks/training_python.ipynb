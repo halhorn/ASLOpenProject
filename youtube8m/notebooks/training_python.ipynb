{
 "cells": [
  {
   "cell_type": "code",
   "execution_count": null,
   "metadata": {},
   "outputs": [],
   "source": [
    "# youtube8m のディレクトリに移動\n",
    "import os\n",
    "while os.getcwd().split('/')[-1] != 'youtube8m': os.chdir('..')\n",
    "os.getcwd()"
   ]
  },
  {
   "cell_type": "code",
   "execution_count": null,
   "metadata": {},
   "outputs": [],
   "source": [
    "from datetime import datetime\n",
    "import json\n",
    "from video.models import create_model\n",
    "from video.estimator import train_and_evaluate"
   ]
  },
  {
   "cell_type": "markdown",
   "metadata": {},
   "source": [
    "# 学習させる"
   ]
  },
  {
   "cell_type": "code",
   "execution_count": null,
   "metadata": {},
   "outputs": [],
   "source": [
    "#model_name = 'dnn/l2h1024d04r1e1_lr1e3'\n",
    "model_name = 'tmp'\n",
    "out_dir = 'trained/video_medium/{}/{}'.format(model_name, datetime.now().strftime('%Y%m%d_%H%M%S'))\n",
    "os.makedirs(out_dir)\n",
    "params = {\n",
    "    'train_data_path': 'gs://asl-mixi-project-bucket/data/youtube-8m/train/train*0.tfrecord',  # 1/10 data\n",
    "    'eval_data_path': 'gs://asl-mixi-project-bucket/data/youtube-8m/valid/*.tfrecord',\n",
    "    \n",
    "    # model params\n",
    "    'model': 'dnn',\n",
    "    'layer_num': 2,\n",
    "    'hidden_dim': 1024,\n",
    "    'dropout': 0.4,\n",
    "    'kernel_regularizer': 0.1,\n",
    "    \n",
    "    # training params\n",
    "    'batch_size': 512,\n",
    "    'learning_rate': 0.001,\n",
    "    'train_steps': 30000,\n",
    "    'eval_interval_step': 1000,\n",
    "}\n",
    "\n",
    "with open(os.path.join(out_dir, 'params.json'), 'w') as f:\n",
    "    json.dump(params, f, ensure_ascii=False, indent=2)\n",
    "\n",
    "train_and_evaluate(out_dir, params)"
   ]
  },
  {
   "cell_type": "code",
   "execution_count": null,
   "metadata": {},
   "outputs": [],
   "source": []
  }
 ],
 "metadata": {
  "kernelspec": {
   "display_name": "Python 3",
   "language": "python",
   "name": "python3"
  },
  "language_info": {
   "codemirror_mode": {
    "name": "ipython",
    "version": 3
   },
   "file_extension": ".py",
   "mimetype": "text/x-python",
   "name": "python",
   "nbconvert_exporter": "python",
   "pygments_lexer": "ipython3",
   "version": "3.5.3"
  }
 },
 "nbformat": 4,
 "nbformat_minor": 4
}
