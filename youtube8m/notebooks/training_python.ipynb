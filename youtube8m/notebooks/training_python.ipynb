{
 "cells": [
  {
   "cell_type": "code",
   "execution_count": 1,
   "metadata": {},
   "outputs": [
    {
     "data": {
      "text/plain": [
       "'/home/jupyter/ASLOpenProject/youtube8m'"
      ]
     },
     "execution_count": 1,
     "metadata": {},
     "output_type": "execute_result"
    }
   ],
   "source": [
    "# youtube8m のディレクトリに移動\n",
    "import os\n",
    "while os.getcwd().split('/')[-1] != 'youtube8m': os.chdir('..')\n",
    "os.getcwd()"
   ]
  },
  {
   "cell_type": "code",
   "execution_count": 2,
   "metadata": {},
   "outputs": [
    {
     "name": "stderr",
     "output_type": "stream",
     "text": [
      "IOPub data rate exceeded.\n",
      "The notebook server will temporarily stop sending output\n",
      "to the client in order to avoid crashing it.\n",
      "To change this limit, set the config variable\n",
      "`--NotebookApp.iopub_data_rate_limit`.\n",
      "\n",
      "Current values:\n",
      "NotebookApp.iopub_data_rate_limit=1000000.0 (bytes/sec)\n",
      "NotebookApp.rate_limit_window=3.0 (secs)\n",
      "\n"
     ]
    }
   ],
   "source": [
    "from datetime import datetime\n",
    "import json\n",
    "from video.models import create_model\n",
    "#from video.estimator import train_and_evaluate\n",
    "from video.estimator_with_category import train_and_evaluate"
   ]
  },
  {
   "cell_type": "markdown",
   "metadata": {},
   "source": [
    "# 学習させる"
   ]
  },
  {
   "cell_type": "code",
   "execution_count": null,
   "metadata": {},
   "outputs": [
    {
     "name": "stdout",
     "output_type": "stream",
     "text": [
      "INFO:tensorflow:Using config: {'_session_creation_timeout_secs': 7200, '_save_checkpoints_steps': 1000, '_cluster_spec': <tensorflow.python.training.server_lib.ClusterSpec object at 0x7fcf04ebb470>, '_train_distribute': None, '_global_id_in_cluster': 0, '_model_dir': 'trained/video_medium/tmp/20191211_103519', '_evaluation_master': '', '_keep_checkpoint_max': 5, '_tf_random_seed': None, '_master': '', '_session_config': allow_soft_placement: true\n",
      "graph_options {\n",
      "  rewrite_options {\n",
      "    meta_optimizer_iterations: ONE\n",
      "  }\n",
      "}\n",
      ", '_num_worker_replicas': 1, '_experimental_max_worker_delay_secs': None, '_log_step_count_steps': 100, '_protocol': None, '_save_summary_steps': 100, '_keep_checkpoint_every_n_hours': 10000, '_experimental_distribute': None, '_service': None, '_task_id': 0, '_save_checkpoints_secs': None, '_eval_distribute': None, '_num_ps_replicas': 0, '_is_chief': True, '_device_fn': None, '_task_type': 'worker'}\n",
      "INFO:tensorflow:Not using Distribute Coordinator.\n",
      "INFO:tensorflow:Running training and evaluation locally (non-distributed).\n",
      "INFO:tensorflow:Start train and evaluate loop. The evaluate will happen after every checkpoint. Checkpoint frequency is determined based on RunConfig arguments: save_checkpoints_steps 1000 or save_checkpoints_secs None.\n",
      "WARNING:tensorflow:From /usr/local/lib/python3.5/dist-packages/tensorflow_core/python/training/training_util.py:236: Variable.initialized_value (from tensorflow.python.ops.variables) is deprecated and will be removed in a future version.\n",
      "Instructions for updating:\n",
      "Use Variable.read_value. Variables in 2.X are initialized automatically both in eager and graph (inside tf.defun) contexts.\n",
      "WARNING:tensorflow:From /usr/local/lib/python3.5/dist-packages/tensorflow_core/python/autograph/converters/directives.py:119: The name tf.FixedLenFeature is deprecated. Please use tf.io.FixedLenFeature instead.\n",
      "\n",
      "WARNING:tensorflow:From /usr/local/lib/python3.5/dist-packages/tensorflow_core/python/autograph/converters/directives.py:119: The name tf.VarLenFeature is deprecated. Please use tf.io.VarLenFeature instead.\n",
      "\n",
      "WARNING:tensorflow:From /usr/local/lib/python3.5/dist-packages/tensorflow_core/python/autograph/converters/directives.py:119: The name tf.parse_single_sequence_example is deprecated. Please use tf.io.parse_single_sequence_example instead.\n",
      "\n",
      "INFO:tensorflow:Calling model_fn.\n",
      "----------------------------------\n",
      "Model: dnn\n",
      "layer_num: 2\n",
      "hidden_dim: 1024\n",
      "dropout: 0.4\n",
      "WARNING:tensorflow:From /usr/local/lib/python3.5/dist-packages/tensorflow_core/python/ops/resource_variable_ops.py:1630: calling BaseResourceVariable.__init__ (from tensorflow.python.ops.resource_variable_ops) with constraint is deprecated and will be removed in a future version.\n",
      "Instructions for updating:\n",
      "If using Keras pass *_constraint arguments to layers.\n",
      "WARNING:tensorflow:From /usr/local/lib/python3.5/dist-packages/tensorflow_core/python/ops/nn_impl.py:183: where (from tensorflow.python.ops.array_ops) is deprecated and will be removed in a future version.\n",
      "Instructions for updating:\n",
      "Use tf.where in 2.0, which has the same broadcast rule as np.where\n",
      "WARNING:tensorflow:From /home/jupyter/ASLOpenProject/youtube8m/video/estimator_with_category.py:85: The name tf.train.AdamOptimizer is deprecated. Please use tf.compat.v1.train.AdamOptimizer instead.\n",
      "\n",
      "WARNING:tensorflow:From /home/jupyter/ASLOpenProject/youtube8m/video/estimator_with_category.py:87: The name tf.get_collection is deprecated. Please use tf.compat.v1.get_collection instead.\n",
      "\n",
      "WARNING:tensorflow:From /home/jupyter/ASLOpenProject/youtube8m/video/estimator_with_category.py:87: The name tf.GraphKeys is deprecated. Please use tf.compat.v1.GraphKeys instead.\n",
      "\n",
      "WARNING:tensorflow:From /home/jupyter/ASLOpenProject/youtube8m/video/estimator_with_category.py:91: The name tf.train.get_or_create_global_step is deprecated. Please use tf.compat.v1.train.get_or_create_global_step instead.\n",
      "\n",
      "INFO:tensorflow:Done calling model_fn.\n",
      "INFO:tensorflow:Create CheckpointSaverHook.\n",
      "INFO:tensorflow:Graph was finalized.\n",
      "INFO:tensorflow:Running local_init_op.\n",
      "INFO:tensorflow:Done running local_init_op.\n",
      "INFO:tensorflow:Saving checkpoints for 0 into trained/video_medium/tmp/20191211_103519/model.ckpt.\n",
      "INFO:tensorflow:loss = 0.6963421, step = 0\n",
      "INFO:tensorflow:global_step/sec: 6.22859\n",
      "INFO:tensorflow:loss = 0.0065821125, step = 100 (16.056 sec)\n",
      "INFO:tensorflow:global_step/sec: 5.8493\n",
      "INFO:tensorflow:loss = 0.0043575056, step = 200 (17.096 sec)\n",
      "INFO:tensorflow:global_step/sec: 5.20109\n",
      "INFO:tensorflow:loss = 0.0034488342, step = 300 (19.226 sec)\n",
      "INFO:tensorflow:global_step/sec: 4.82286\n",
      "INFO:tensorflow:loss = 0.0029319571, step = 400 (20.736 sec)\n",
      "INFO:tensorflow:global_step/sec: 4.91418\n",
      "INFO:tensorflow:loss = 0.0027107869, step = 500 (20.349 sec)\n",
      "INFO:tensorflow:global_step/sec: 4.92411\n",
      "INFO:tensorflow:loss = 0.0025452857, step = 600 (20.308 sec)\n",
      "INFO:tensorflow:global_step/sec: 6.36513\n",
      "INFO:tensorflow:loss = 0.0017811698, step = 1600 (15.711 sec)\n",
      "INFO:tensorflow:global_step/sec: 5.48431\n",
      "INFO:tensorflow:loss = 0.0017779836, step = 1700 (18.234 sec)\n",
      "INFO:tensorflow:global_step/sec: 5.63564\n",
      "INFO:tensorflow:loss = 0.0018599675, step = 1800 (17.744 sec)\n",
      "INFO:tensorflow:global_step/sec: 5.53361\n",
      "INFO:tensorflow:loss = 0.0017423982, step = 1900 (18.072 sec)\n",
      "INFO:tensorflow:Saving checkpoints for 2000 into trained/video_medium/tmp/20191211_103519/model.ckpt.\n",
      "INFO:tensorflow:Calling model_fn.\n",
      "----------------------------------\n",
      "Model: dnn\n",
      "layer_num: 2\n",
      "hidden_dim: 1024\n",
      "dropout: 0.4\n",
      "INFO:tensorflow:Done calling model_fn.\n",
      "INFO:tensorflow:Starting evaluation at 2019-12-11T10:42:00Z\n",
      "INFO:tensorflow:Graph was finalized.\n",
      "INFO:tensorflow:Restoring parameters from trained/video_medium/tmp/20191211_103519/model.ckpt-2000\n",
      "INFO:tensorflow:Running local_init_op.\n",
      "INFO:tensorflow:Done running local_init_op.\n",
      "INFO:tensorflow:Evaluation [10/100]\n",
      "INFO:tensorflow:Evaluation [20/100]\n",
      "INFO:tensorflow:Evaluation [30/100]\n",
      "INFO:tensorflow:Evaluation [40/100]\n",
      "INFO:tensorflow:Evaluation [50/100]\n",
      "INFO:tensorflow:Evaluation [60/100]\n",
      "INFO:tensorflow:Evaluation [70/100]\n",
      "INFO:tensorflow:Evaluation [80/100]\n",
      "INFO:tensorflow:Evaluation [90/100]\n",
      "INFO:tensorflow:Evaluation [100/100]\n",
      "INFO:tensorflow:Finished evaluation at 2019-12-11-10:42:41\n",
      "INFO:tensorflow:Saving dict for global step 2000: category_accuracy = 0.9807109, category_auc = 0.87949777, category_precision = 0.8774025, category_predicted_tag_count = 1.2316406, category_recall = 0.7653968, category_recall_top10 = 0.9835381, category_recall_top2 = 0.8344539, category_recall_top5 = 0.9495767, global_step = 2000, loss = 0.0018885854, tag_accuracy = 0.9996133, tag_auc = 0.8065072, tag_precision = 0.8486762, tag_predicted_tag_count = 2.174043, tag_recall = 0.6130996, tag_recall_top10 = 0.85113025, tag_recall_top2 = 0.47674274, tag_recall_top5 = 0.7541942\n",
      "INFO:tensorflow:Saving 'checkpoint_path' summary for global step 2000: trained/video_medium/tmp/20191211_103519/model.ckpt-2000\n",
      "INFO:tensorflow:Calling model_fn.\n",
      "----------------------------------\n",
      "Model: dnn\n",
      "layer_num: 2\n",
      "hidden_dim: 1024\n",
      "dropout: 0.4\n",
      "INFO:tensorflow:Done calling model_fn.\n",
      "INFO:tensorflow:Signatures INCLUDED in export for Train: None\n",
      "INFO:tensorflow:Signatures INCLUDED in export for Predict: ['serving_default']\n",
      "INFO:tensorflow:Signatures INCLUDED in export for Eval: None\n",
      "INFO:tensorflow:Signatures INCLUDED in export for Regress: None\n",
      "INFO:tensorflow:Signatures INCLUDED in export for Classify: None\n",
      "INFO:tensorflow:Restoring parameters from trained/video_medium/tmp/20191211_103519/model.ckpt-2000\n",
      "INFO:tensorflow:Assets added to graph.\n",
      "INFO:tensorflow:No assets to write.\n",
      "INFO:tensorflow:SavedModel written to: trained/video_medium/tmp/20191211_103519/export/exporter/temp-b'1576060961'/saved_model.pb\n",
      "INFO:tensorflow:global_step/sec: 1.69544\n",
      "INFO:tensorflow:loss = 0.0017809906, step = 2000 (58.982 sec)\n",
      "INFO:tensorflow:global_step/sec: 5.78094\n",
      "INFO:tensorflow:loss = 0.0017069315, step = 2100 (17.299 sec)\n",
      "INFO:tensorflow:global_step/sec: 6.03228\n",
      "INFO:tensorflow:loss = 0.0016176458, step = 2200 (16.581 sec)\n",
      "INFO:tensorflow:global_step/sec: 6.1675\n",
      "INFO:tensorflow:loss = 0.0015438817, step = 2300 (16.217 sec)\n",
      "INFO:tensorflow:global_step/sec: 6.44676\n",
      "INFO:tensorflow:loss = 0.0015953613, step = 2400 (15.505 sec)\n"
     ]
    }
   ],
   "source": [
    "#model_name = 'dnn/l2h1024d04r1e1_lr1e3'\n",
    "model_name = 'tmp'\n",
    "out_dir = 'trained/video_medium/{}/{}'.format(model_name, datetime.now().strftime('%Y%m%d_%H%M%S'))\n",
    "os.makedirs(out_dir)\n",
    "params = {\n",
    "    'train_data_path': 'gs://asl-mixi-project-bucket/data/youtube-8m/train/train*0.tfrecord',  # 1/10 data\n",
    "    'eval_data_path': 'gs://asl-mixi-project-bucket/data/youtube-8m/valid/*.tfrecord',\n",
    "    \n",
    "    # model params\n",
    "    'model': 'dnn',\n",
    "    'layer_num': 2,\n",
    "    'hidden_dim': 1024,\n",
    "    'dropout': 0.4,\n",
    "    'kernel_regularizer': 0.1,\n",
    "    \n",
    "    # training params\n",
    "    'batch_size': 512,\n",
    "    'learning_rate': 0.001,\n",
    "    'log_interval_step': 100,\n",
    "    'train_steps': 30000,\n",
    "    'eval_interval_step': 1000,\n",
    "}\n",
    "\n",
    "with open(os.path.join(out_dir, 'params.json'), 'w') as f:\n",
    "    json.dump(params, f, ensure_ascii=False, indent=2)\n",
    "\n",
    "train_and_evaluate(out_dir, params)"
   ]
  },
  {
   "cell_type": "code",
   "execution_count": null,
   "metadata": {},
   "outputs": [],
   "source": []
  },
  {
   "cell_type": "code",
   "execution_count": null,
   "metadata": {},
   "outputs": [],
   "source": []
  }
 ],
 "metadata": {
  "kernelspec": {
   "display_name": "Python 3",
   "language": "python",
   "name": "python3"
  },
  "language_info": {
   "codemirror_mode": {
    "name": "ipython",
    "version": 3
   },
   "file_extension": ".py",
   "mimetype": "text/x-python",
   "name": "python",
   "nbconvert_exporter": "python",
   "pygments_lexer": "ipython3",
   "version": "3.5.3"
  }
 },
 "nbformat": 4,
 "nbformat_minor": 4
}
