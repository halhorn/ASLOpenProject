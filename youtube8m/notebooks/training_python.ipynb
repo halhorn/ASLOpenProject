{
 "cells": [
  {
   "cell_type": "code",
   "execution_count": 1,
   "metadata": {},
   "outputs": [
    {
     "data": {
      "text/plain": [
       "'/home/jupyter/ASLOpenProject/youtube8m'"
      ]
     },
     "execution_count": 1,
     "metadata": {},
     "output_type": "execute_result"
    }
   ],
   "source": [
    "# youtube8m のディレクトリに移動\n",
    "import os\n",
    "while os.getcwd().split('/')[-1] != 'youtube8m': os.chdir('..')\n",
    "os.getcwd()"
   ]
  },
  {
   "cell_type": "code",
   "execution_count": 2,
   "metadata": {},
   "outputs": [
    {
     "name": "stderr",
     "output_type": "stream",
     "text": [
      "IOPub data rate exceeded.\n",
      "The notebook server will temporarily stop sending output\n",
      "to the client in order to avoid crashing it.\n",
      "To change this limit, set the config variable\n",
      "`--NotebookApp.iopub_data_rate_limit`.\n",
      "\n",
      "Current values:\n",
      "NotebookApp.iopub_data_rate_limit=1000000.0 (bytes/sec)\n",
      "NotebookApp.rate_limit_window=3.0 (secs)\n",
      "\n"
     ]
    }
   ],
   "source": [
    "from datetime import datetime\n",
    "import json\n",
    "from video.models import create_model\n",
    "#from video.estimator import train_and_evaluate\n",
    "from video.estimator_with_category import train_and_evaluate"
   ]
  },
  {
   "cell_type": "markdown",
   "metadata": {},
   "source": [
    "# 学習させる"
   ]
  },
  {
   "cell_type": "code",
   "execution_count": null,
   "metadata": {},
   "outputs": [
    {
     "name": "stdout",
     "output_type": "stream",
     "text": [
      "INFO:tensorflow:Using config: {'_session_config': allow_soft_placement: true\n",
      "graph_options {\n",
      "  rewrite_options {\n",
      "    meta_optimizer_iterations: ONE\n",
      "  }\n",
      "}\n",
      ", '_master': '', '_global_id_in_cluster': 0, '_task_type': 'worker', '_keep_checkpoint_every_n_hours': 10000, '_keep_checkpoint_max': 5, '_save_checkpoints_secs': None, '_session_creation_timeout_secs': 7200, '_experimental_max_worker_delay_secs': None, '_service': None, '_tf_random_seed': None, '_protocol': None, '_save_summary_steps': 100, '_save_checkpoints_steps': 1000, '_num_worker_replicas': 1, '_log_step_count_steps': 100, '_train_distribute': None, '_task_id': 0, '_is_chief': True, '_device_fn': None, '_num_ps_replicas': 0, '_evaluation_master': '', '_model_dir': 'trained/video_medium/tmp/20191211_093911', '_cluster_spec': <tensorflow.python.training.server_lib.ClusterSpec object at 0x7fecdbf7c438>, '_eval_distribute': None, '_experimental_distribute': None}\n",
      "INFO:tensorflow:Not using Distribute Coordinator.\n",
      "INFO:tensorflow:Running training and evaluation locally (non-distributed).\n",
      "INFO:tensorflow:Start train and evaluate loop. The evaluate will happen after every checkpoint. Checkpoint frequency is determined based on RunConfig arguments: save_checkpoints_steps 1000 or save_checkpoints_secs None.\n",
      "WARNING:tensorflow:From /usr/local/lib/python3.5/dist-packages/tensorflow_core/python/training/training_util.py:236: Variable.initialized_value (from tensorflow.python.ops.variables) is deprecated and will be removed in a future version.\n",
      "Instructions for updating:\n",
      "Use Variable.read_value. Variables in 2.X are initialized automatically both in eager and graph (inside tf.defun) contexts.\n",
      "WARNING:tensorflow:From /usr/local/lib/python3.5/dist-packages/tensorflow_core/python/autograph/converters/directives.py:119: The name tf.FixedLenFeature is deprecated. Please use tf.io.FixedLenFeature instead.\n",
      "\n",
      "WARNING:tensorflow:From /usr/local/lib/python3.5/dist-packages/tensorflow_core/python/autograph/converters/directives.py:119: The name tf.VarLenFeature is deprecated. Please use tf.io.VarLenFeature instead.\n",
      "\n",
      "WARNING:tensorflow:From /usr/local/lib/python3.5/dist-packages/tensorflow_core/python/autograph/converters/directives.py:119: The name tf.parse_single_sequence_example is deprecated. Please use tf.io.parse_single_sequence_example instead.\n",
      "\n",
      "INFO:tensorflow:Calling model_fn.\n",
      "----------------------------------\n",
      "Model: dnn\n",
      "layer_num: 2\n",
      "hidden_dim: 1024\n",
      "dropout: 0.4\n",
      "WARNING:tensorflow:From /usr/local/lib/python3.5/dist-packages/tensorflow_core/python/ops/resource_variable_ops.py:1630: calling BaseResourceVariable.__init__ (from tensorflow.python.ops.resource_variable_ops) with constraint is deprecated and will be removed in a future version.\n",
      "Instructions for updating:\n",
      "If using Keras pass *_constraint arguments to layers.\n",
      "WARNING:tensorflow:From /usr/local/lib/python3.5/dist-packages/tensorflow_core/python/ops/nn_impl.py:183: where (from tensorflow.python.ops.array_ops) is deprecated and will be removed in a future version.\n",
      "Instructions for updating:\n",
      "Use tf.where in 2.0, which has the same broadcast rule as np.where\n",
      "WARNING:tensorflow:From /home/jupyter/ASLOpenProject/youtube8m/video/estimator_with_category.py:73: The name tf.train.AdamOptimizer is deprecated. Please use tf.compat.v1.train.AdamOptimizer instead.\n",
      "\n",
      "WARNING:tensorflow:From /home/jupyter/ASLOpenProject/youtube8m/video/estimator_with_category.py:75: The name tf.get_collection is deprecated. Please use tf.compat.v1.get_collection instead.\n",
      "\n",
      "WARNING:tensorflow:From /home/jupyter/ASLOpenProject/youtube8m/video/estimator_with_category.py:75: The name tf.GraphKeys is deprecated. Please use tf.compat.v1.GraphKeys instead.\n",
      "\n",
      "WARNING:tensorflow:From /home/jupyter/ASLOpenProject/youtube8m/video/estimator_with_category.py:79: The name tf.train.get_or_create_global_step is deprecated. Please use tf.compat.v1.train.get_or_create_global_step instead.\n",
      "\n",
      "INFO:tensorflow:Done calling model_fn.\n",
      "INFO:tensorflow:Create CheckpointSaverHook.\n",
      "INFO:tensorflow:Graph was finalized.\n",
      "INFO:tensorflow:Running local_init_op.\n",
      "INFO:tensorflow:Done running local_init_op.\n",
      "INFO:tensorflow:Saving checkpoints for 0 into trained/video_medium/tmp/20191211_093911/model.ckpt.\n",
      "INFO:tensorflow:loss = 0.69779325, step = 0\n",
      "INFO:tensorflow:global_step/sec: 5.19312\n",
      "INFO:tensorflow:loss = 0.0071090497, step = 100 (19.258 sec)\n",
      "INFO:tensorflow:global_step/sec: 5.20651\n",
      "INFO:tensorflow:loss = 0.004517396, step = 200 (19.212 sec)\n",
      "INFO:tensorflow:global_step/sec: 5.05764\n",
      "INFO:tensorflow:loss = 0.0032776261, step = 300 (19.767 sec)\n",
      "INFO:tensorflow:global_step/sec: 6.05716\n",
      "INFO:tensorflow:loss = 0.0032062407, step = 400 (16.510 sec)\n",
      "INFO:tensorflow:global_step/sec: 6.18284\n",
      "INFO:tensorflow:loss = 0.0029139414, step = 500 (16.180 sec)\n"
     ]
    }
   ],
   "source": [
    "#model_name = 'dnn/l2h1024d04r1e1_lr1e3'\n",
    "model_name = 'tmp'\n",
    "out_dir = 'trained/video_medium/{}/{}'.format(model_name, datetime.now().strftime('%Y%m%d_%H%M%S'))\n",
    "os.makedirs(out_dir)\n",
    "params = {\n",
    "    'train_data_path': 'gs://asl-mixi-project-bucket/data/youtube-8m/train/train*0.tfrecord',  # 1/10 data\n",
    "    'eval_data_path': 'gs://asl-mixi-project-bucket/data/youtube-8m/valid/*.tfrecord',\n",
    "    \n",
    "    # model params\n",
    "    'model': 'dnn',\n",
    "    'layer_num': 2,\n",
    "    'hidden_dim': 1024,\n",
    "    'dropout': 0.4,\n",
    "    'kernel_regularizer': 0.1,\n",
    "    \n",
    "    # training params\n",
    "    'batch_size': 512,\n",
    "    'learning_rate': 0.001,\n",
    "    'log_interval_step': 100,\n",
    "    'train_steps': 30000,\n",
    "    'eval_interval_step': 1000,\n",
    "}\n",
    "\n",
    "with open(os.path.join(out_dir, 'params.json'), 'w') as f:\n",
    "    json.dump(params, f, ensure_ascii=False, indent=2)\n",
    "\n",
    "train_and_evaluate(out_dir, params)"
   ]
  },
  {
   "cell_type": "code",
   "execution_count": null,
   "metadata": {},
   "outputs": [],
   "source": []
  },
  {
   "cell_type": "code",
   "execution_count": null,
   "metadata": {},
   "outputs": [],
   "source": []
  }
 ],
 "metadata": {
  "kernelspec": {
   "display_name": "Python 3",
   "language": "python",
   "name": "python3"
  },
  "language_info": {
   "codemirror_mode": {
    "name": "ipython",
    "version": 3
   },
   "file_extension": ".py",
   "mimetype": "text/x-python",
   "name": "python",
   "nbconvert_exporter": "python",
   "pygments_lexer": "ipython3",
   "version": "3.5.3"
  }
 },
 "nbformat": 4,
 "nbformat_minor": 4
}
