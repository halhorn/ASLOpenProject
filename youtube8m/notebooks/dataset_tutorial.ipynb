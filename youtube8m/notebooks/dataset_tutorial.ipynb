{
 "cells": [
  {
   "cell_type": "markdown",
   "metadata": {},
   "source": [
    "## youtube8Mのデータセット準備\n",
    "\n",
    "とりあえずローカルでDatasetAPIで学習を開始できるようにするのが目的"
   ]
  },
  {
   "cell_type": "markdown",
   "metadata": {},
   "source": [
    "### ローカルへのデータダウンロード\n",
    "\n",
    "youtube8mのデータは以下のコマンドで取って来れます。\n",
    "下のセルを実行すると全データの1/100のトレーニングデータを取得します。\n",
    "\n",
    "環境変数からオプションを渡すような作りになってるみたい。\n",
    "このpartition=2の部分がよくわからないけど、とりあえずこのままでw"
   ]
  },
  {
   "cell_type": "code",
   "execution_count": 1,
   "metadata": {},
   "outputs": [
    {
     "data": {
      "text/plain": [
       "'/home/jupyter/ASLOpenProject/youtube8m'"
      ]
     },
     "execution_count": 1,
     "metadata": {},
     "output_type": "execute_result"
    }
   ],
   "source": [
    "# youtube8m のディレクトリに移動\n",
    "import os\n",
    "while os.getcwd().split('/')[-1] != 'youtube8m': os.chdir('..')\n",
    "os.getcwd()"
   ]
  },
  {
   "cell_type": "code",
   "execution_count": 2,
   "metadata": {},
   "outputs": [],
   "source": [
    "BUCKET=\"asl-mixi-project-bucket\""
   ]
  },
  {
   "cell_type": "code",
   "execution_count": 3,
   "metadata": {},
   "outputs": [
    {
     "name": "stdout",
     "output_type": "stream",
     "text": [
      "Resuming Download ...\n",
      "Files remaining 0\n",
      "All done. No more files to download.\n"
     ]
    },
    {
     "name": "stderr",
     "output_type": "stream",
     "text": [
      "bash: line 1: PWD: command not found\n",
      "mkdir: cannot create directory ‘./data/video/’: File exists\n",
      "  % Total    % Received % Xferd  Average Speed   Time    Time     Time  Current\n",
      "                                 Dload  Upload   Total   Spent    Left  Speed\n",
      "100  4450  100  4450    0     0   7889      0 --:--:-- --:--:-- --:--:--  7890\n"
     ]
    }
   ],
   "source": [
    "%%bash \n",
    "CURRENT_DIR=$(PWD)\n",
    "mkdir ./data/video/\n",
    "cd ./data/video/\n",
    "curl data.yt8m.org/download.py > download.py\n",
    "\n",
    "shard=1,100 partition=2/video/train mirror=us python download.py\n",
    "cd $CURRENT_DIR"
   ]
  },
  {
   "cell_type": "code",
   "execution_count": 4,
   "metadata": {},
   "outputs": [
    {
     "name": "stdout",
     "output_type": "stream",
     "text": [
      "41\n"
     ]
    }
   ],
   "source": [
    "!ls ./data/video/*.tfrecord -l | wc -l"
   ]
  },
  {
   "cell_type": "code",
   "execution_count": 5,
   "metadata": {},
   "outputs": [
    {
     "name": "stdout",
     "output_type": "stream",
     "text": [
      "-rw-r--r-- 1 jupyter jupyter 4.6M Dec  6 08:34 ./data/video/train0093.tfrecord\n",
      "-rw-r--r-- 1 jupyter jupyter 4.7M Dec  6 08:34 ./data/video/train0111.tfrecord\n",
      "-rw-r--r-- 1 jupyter jupyter 4.6M Dec  6 08:34 ./data/video/train0208.tfrecord\n",
      "-rw-r--r-- 1 jupyter jupyter 4.7M Dec  6 08:34 ./data/video/train0274.tfrecord\n",
      "-rw-r--r-- 1 jupyter jupyter 4.4M Dec  6 08:34 ./data/video/train0276.tfrecord\n",
      "-rw-r--r-- 1 jupyter jupyter 4.5M Dec  6 08:34 ./data/video/train0352.tfrecord\n",
      "-rw-r--r-- 1 jupyter jupyter 4.5M Dec  6 08:34 ./data/video/train0434.tfrecord\n",
      "-rw-r--r-- 1 jupyter jupyter 4.5M Dec  6 08:34 ./data/video/train0477.tfrecord\n",
      "-rw-r--r-- 1 jupyter jupyter 4.5M Dec  6 08:34 ./data/video/train0503.tfrecord\n",
      "-rw-r--r-- 1 jupyter jupyter 4.6M Dec  6 08:34 ./data/video/train0580.tfrecord\n"
     ]
    }
   ],
   "source": [
    "!ls ./data/video/*.tfrecord -alh | head"
   ]
  },
  {
   "cell_type": "markdown",
   "metadata": {},
   "source": [
    "### storageへのコピー\n",
    "\n",
    "必要があれば実行。ローカルで実行する分には必要ありません。"
   ]
  },
  {
   "cell_type": "code",
   "execution_count": null,
   "metadata": {},
   "outputs": [],
   "source": [
    "import os\n",
    "os.environ['BUCKET'] = BUCKET\n",
    "\n",
    "!gsutil cp ./data/video/*.tfrecord gs://$BUCKET/data/youtube-8m/"
   ]
  },
  {
   "cell_type": "markdown",
   "metadata": {},
   "source": [
    "### データセットの作成用のコード"
   ]
  },
  {
   "cell_type": "code",
   "execution_count": 6,
   "metadata": {},
   "outputs": [
    {
     "name": "stdout",
     "output_type": "stream",
     "text": [
      "1.15.0\n"
     ]
    }
   ],
   "source": [
    "import tensorflow as tf\n",
    "\n",
    "print(tf.__version__)"
   ]
  },
  {
   "cell_type": "code",
   "execution_count": 7,
   "metadata": {},
   "outputs": [],
   "source": [
    "tf.enable_eager_execution()"
   ]
  },
  {
   "cell_type": "code",
   "execution_count": 8,
   "metadata": {},
   "outputs": [],
   "source": [
    "from data import read_dataset"
   ]
  },
  {
   "cell_type": "code",
   "execution_count": 9,
   "metadata": {},
   "outputs": [
    {
     "name": "stdout",
     "output_type": "stream",
     "text": [
      "WARNING:tensorflow:From /usr/local/lib/python3.5/dist-packages/tensorflow_core/python/autograph/converters/directives.py:119: The name tf.FixedLenFeature is deprecated. Please use tf.io.FixedLenFeature instead.\n",
      "\n",
      "WARNING:tensorflow:From /usr/local/lib/python3.5/dist-packages/tensorflow_core/python/autograph/converters/directives.py:119: The name tf.VarLenFeature is deprecated. Please use tf.io.VarLenFeature instead.\n",
      "\n",
      "WARNING:tensorflow:From /usr/local/lib/python3.5/dist-packages/tensorflow_core/python/autograph/converters/directives.py:119: The name tf.parse_single_sequence_example is deprecated. Please use tf.io.parse_single_sequence_example instead.\n",
      "\n"
     ]
    }
   ],
   "source": [
    "ds = read_dataset(\"./data/video/*.tfrecord\", tf.estimator.ModeKeys.TRAIN, batch_size=2)"
   ]
  },
  {
   "cell_type": "code",
   "execution_count": 10,
   "metadata": {},
   "outputs": [
    {
     "name": "stdout",
     "output_type": "stream",
     "text": [
      "({'mean_rgb': <tf.Tensor: id=68, shape=(2, 1024), dtype=float32, numpy=\n",
      "array([[ 1.373725  ,  0.68594223, -0.5504293 , ..., -0.62593025,\n",
      "        -0.29531184,  0.19984008],\n",
      "       [ 0.24126838, -0.22392769, -0.40628064, ...,  0.03575367,\n",
      "        -0.09794731, -0.25015318]], dtype=float32)>, 'id': <tf.Tensor: id=66, shape=(2,), dtype=string, numpy=array([b'BJ8D', b'168D'], dtype=object)>, 'mean_audio': <tf.Tensor: id=67, shape=(2, 128), dtype=float32, numpy=\n",
      "array([[-8.70360315e-01, -7.25822508e-01,  1.46465373e+00,\n",
      "        -2.57819921e-01, -1.03489387e+00,  1.77717257e+00,\n",
      "        -1.28906322e+00,  7.10747316e-02, -5.47767209e-04,\n",
      "        -1.91772079e+00, -9.11558330e-01, -5.77750981e-01,\n",
      "         7.72561491e-01,  1.28476143e-01,  5.48299491e-01,\n",
      "        -5.88093579e-01,  3.70923907e-01,  2.55776286e-01,\n",
      "         1.83466017e+00, -1.59220472e-01, -3.02637845e-01,\n",
      "         9.67519462e-01,  2.44227067e-01, -1.87686753e+00,\n",
      "         1.17506099e+00, -2.14036241e-01, -4.54932600e-01,\n",
      "         7.44033158e-01,  4.77280289e-01,  4.21516448e-01,\n",
      "         1.46439517e+00, -7.34096587e-01, -5.49739778e-01,\n",
      "         4.03675467e-01,  9.82947171e-01,  1.31813359e+00,\n",
      "        -1.53445855e-01, -1.61675119e+00, -1.51135931e-02,\n",
      "         1.60341692e+00,  1.45362163e+00, -9.09662187e-01,\n",
      "         8.39098871e-01,  3.73509556e-01, -1.21769929e+00,\n",
      "        -4.05374318e-01, -1.67751396e+00,  4.95276488e-02,\n",
      "        -1.18711956e-01,  1.33097565e+00, -9.62323248e-01,\n",
      "        -7.31510937e-01, -5.40690005e-01,  9.47765186e-02,\n",
      "         1.88439083e+00,  9.44679558e-01, -1.45257965e-01,\n",
      "        -5.41379511e-01, -1.09488094e+00,  9.22356784e-01,\n",
      "         3.39034230e-01, -9.62150872e-01, -1.35777250e-01,\n",
      "        -1.30828321e+00,  9.33819830e-01,  1.73294082e-01,\n",
      "         8.40908825e-01, -1.51635900e-01, -7.11773813e-01,\n",
      "         8.23412597e-01,  6.78012908e-01, -9.42844689e-01,\n",
      "        -5.66891253e-01, -1.20192683e+00, -1.15073097e+00,\n",
      "         4.54698950e-01,  9.65278566e-01,  1.57866374e-01,\n",
      "        -1.50393069e+00,  5.73294103e-01,  3.36017638e-01,\n",
      "         1.17187202e+00,  1.20719202e-01,  5.62865317e-01,\n",
      "         2.10355058e-01, -6.34031951e-01, -3.63659173e-01,\n",
      "        -1.17167473e+00, -1.03498006e+00, -1.19106710e+00,\n",
      "         4.89863783e-01,  7.59805620e-01, -1.42394793e+00,\n",
      "         6.53276861e-01, -1.00188375e+00,  1.33373368e+00,\n",
      "         6.80339992e-01,  1.12014182e-01, -1.55917740e+00,\n",
      "         8.72626126e-01,  2.60344297e-01,  1.28633010e+00,\n",
      "         1.05205305e-01,  3.61960322e-01,  6.32074535e-01,\n",
      "        -1.59392849e-01, -5.34570634e-01,  4.61163074e-01,\n",
      "        -7.17634618e-01,  3.73164803e-01, -2.07744494e-01,\n",
      "         1.11024737e+00,  1.10981643e+00,  1.22651541e+00,\n",
      "         1.31442750e+00,  9.18564498e-01, -5.35087764e-01,\n",
      "         7.45498359e-01, -7.42284477e-01,  1.91221252e-01,\n",
      "        -1.06574929e+00, -2.79625565e-01,  1.35657358e+00,\n",
      "         1.04879510e+00, -7.59263575e-01, -1.44782209e+00,\n",
      "        -4.39418703e-01,  1.38301626e-01],\n",
      "       [ 8.66636038e-01, -3.78339469e-01, -8.73437524e-01,\n",
      "         2.18841910e-01,  5.26685059e-01, -4.91942406e-01,\n",
      "        -4.15839463e-01,  3.51409316e-02, -4.85814959e-01,\n",
      "         7.30085820e-02, -1.69708943e+00, -2.81035542e-01,\n",
      "         2.00827211e-01, -2.75888473e-01,  1.02787994e-01,\n",
      "        -8.88480397e-04,  4.47886020e-01, -5.57015955e-01,\n",
      "         7.99601734e-01, -3.63020837e-01, -3.12806368e-02,\n",
      "        -2.28462011e-01,  4.47028190e-01,  1.01562500e-01,\n",
      "        -4.70618874e-01,  2.31311265e-02, -3.12775731e-01,\n",
      "        -2.56893396e-01, -8.61795366e-01,  1.82291660e-02,\n",
      "        -3.79564941e-01,  4.38419133e-02,  5.34038007e-01,\n",
      "         7.64920354e-01, -1.91207111e-01,  3.37959558e-01,\n",
      "        -4.20618862e-01, -1.12162992e-01, -3.73927683e-01,\n",
      "        -1.54197305e-01, -1.53462008e-01, -4.53339458e-01,\n",
      "        -3.24785531e-01, -3.53339463e-01, -1.12530634e-01,\n",
      "         3.25827211e-01,  3.61366421e-01,  2.54258573e-01,\n",
      "        -6.31280661e-01,  4.25337017e-01, -4.92555141e-01,\n",
      "         6.62346840e-01,  4.43596810e-01, -7.79564977e-01,\n",
      "        -3.34466904e-01, -3.24785531e-01, -1.66697308e-01,\n",
      "        -2.41819859e-01, -2.60324746e-01, -1.07261032e-01,\n",
      "         5.42984068e-01, -1.25612749e-03,  2.54136026e-01,\n",
      "        -7.19669089e-02,  1.61611512e-01, -1.06525734e-01,\n",
      "        -4.41697299e-01, -6.00030661e-01,  2.87959546e-01,\n",
      "         7.17830881e-02,  4.08547789e-01,  3.50949764e-01,\n",
      "        -6.32659346e-02,  2.40778193e-01, -6.12163007e-01,\n",
      "         2.02910542e-01, -2.00520828e-01,  3.85140926e-01,\n",
      "         7.54258573e-01, -1.72579661e-01, -1.61795348e-01,\n",
      "         3.84405643e-01, -1.63296573e-02,  2.31219366e-01,\n",
      "        -4.81004920e-03, -9.40257385e-02,  6.20435059e-01,\n",
      "        -5.33854187e-01,  1.35263488e-01,  5.79993844e-01,\n",
      "        -5.10324776e-01, -5.49050272e-01, -1.00030638e-01,\n",
      "        -2.50030637e-01, -8.72702181e-01,  5.57291657e-02,\n",
      "        -2.21476719e-01,  1.59773290e-01,  4.58792895e-01,\n",
      "         1.79503679e-01,  1.26317397e-01,  3.18474263e-01,\n",
      "        -3.15257348e-02, -1.20251223e-01,  4.31709558e-01,\n",
      "         2.50091910e-01, -2.38633573e-01,  2.62837023e-01,\n",
      "         1.22150734e-01,  2.20925242e-01, -8.60906858e-03,\n",
      "        -1.68412983e-01, -3.95496309e-01, -1.74662992e-01,\n",
      "        -1.54319853e-01,  3.31709564e-01, -4.53584552e-01,\n",
      "        -3.38633567e-01, -3.01133573e-01,  1.56954661e-01,\n",
      "        -3.05545330e-01,  4.58180159e-01, -3.20618868e-01,\n",
      "         3.03308829e-03, -4.41452205e-01,  9.78860259e-02,\n",
      "        -2.06158087e-01, -7.92555153e-01]], dtype=float32)>}, <tf.Tensor: id=69, shape=(2, 3862), dtype=float32, numpy=\n",
      "array([[0., 0., 0., ..., 0., 0., 0.],\n",
      "       [0., 1., 0., ..., 0., 0., 0.]], dtype=float32)>)\n"
     ]
    }
   ],
   "source": [
    "for row in ds.take(1):\n",
    "    print(row)"
   ]
  },
  {
   "cell_type": "code",
   "execution_count": null,
   "metadata": {},
   "outputs": [],
   "source": []
  }
 ],
 "metadata": {
  "kernelspec": {
   "display_name": "Python 3",
   "language": "python",
   "name": "python3"
  },
  "language_info": {
   "codemirror_mode": {
    "name": "ipython",
    "version": 3
   },
   "file_extension": ".py",
   "mimetype": "text/x-python",
   "name": "python",
   "nbconvert_exporter": "python",
   "pygments_lexer": "ipython3",
   "version": "3.5.3"
  }
 },
 "nbformat": 4,
 "nbformat_minor": 4
}
