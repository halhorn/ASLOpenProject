{
 "cells": [
  {
   "cell_type": "markdown",
   "metadata": {},
   "source": [
    "## youtube8Mのデータセット準備\n",
    "\n",
    "とりあえずローカルでDatasetAPIで学習を開始できるようにするのが目的"
   ]
  },
  {
   "cell_type": "markdown",
   "metadata": {},
   "source": [
    "### ローカルへのデータダウンロード\n",
    "\n",
    "youtube8mのデータは以下のコマンドで取って来れます。\n",
    "下のセルを実行すると全データの1/100のトレーニングデータを取得します。\n",
    "\n",
    "環境変数からオプションを渡すような作りになってるみたい。\n",
    "このpartition=2の部分がよくわからないけど、とりあえずこのままでw"
   ]
  },
  {
   "cell_type": "code",
   "execution_count": null,
   "metadata": {},
   "outputs": [],
   "source": [
    "BUCKET=\"asl-mixi-project-bucket\""
   ]
  },
  {
   "cell_type": "code",
   "execution_count": null,
   "metadata": {},
   "outputs": [],
   "source": [
    "%%bash \n",
    "CURRENT_DIR=$(PWD)\n",
    "mkdir ../data/video/\n",
    "cd ../data/video/\n",
    "curl data.yt8m.org/download.py > download.py\n",
    "\n",
    "shard=1,100 partition=2/video/train mirror=us python download.py\n",
    "cd $CURRENT_DIR"
   ]
  },
  {
   "cell_type": "markdown",
   "metadata": {},
   "source": [
    "### storageへのコピー\n",
    "\n",
    "必要があれば実行。ローカルで実行する分には必要ありません。"
   ]
  },
  {
   "cell_type": "code",
   "execution_count": null,
   "metadata": {},
   "outputs": [],
   "source": [
    "import os\n",
    "os.environ['BUCKET'] = BUCKET\n",
    "\n",
    "!gsutil cp ../data/video/*.tfrecord gs://$BUCKET/data/youtube-8m/"
   ]
  },
  {
   "cell_type": "markdown",
   "metadata": {},
   "source": [
    "### データセットの作成用のコード"
   ]
  },
  {
   "cell_type": "code",
   "execution_count": null,
   "metadata": {},
   "outputs": [],
   "source": [
    "import tensorflow as tf\n",
    "\n",
    "print(tf.__version__)"
   ]
  },
  {
   "cell_type": "code",
   "execution_count": null,
   "metadata": {},
   "outputs": [],
   "source": [
    "tf.enable_eager_execution()"
   ]
  },
  {
   "cell_type": "code",
   "execution_count": null,
   "metadata": {},
   "outputs": [],
   "source": [
    "def parse_row(row):\n",
    "  context_features = {\n",
    "      \"id\": tf.FixedLenFeature([], tf.string),\n",
    "      \"labels\": tf.VarLenFeature(tf.int64),\n",
    "      \"mean_rgb\": tf.VarLenFeature(tf.float32),\n",
    "      \"mean_audio\": tf.VarLenFeature(tf.float32)\n",
    "  }\n",
    "  return tf.parse_single_sequence_example(row, context_features)\n",
    "\n",
    "def make_dataset(files_pattern, mode, batch_size=128):\n",
    "    tffiles = tf.io.gfile.glob(files_pattern)\n",
    "    dataset = tf.data.TFRecordDataset(tffiles).map(parse_row)\n",
    "    if mode == tf.estimator.ModeKeys.TRAIN:\n",
    "        dataset = dataset.shuffle(batch_size*10).repeat().batch(batch_size)\n",
    "    else:\n",
    "        dataset = dataset.repeat(1).batch(batch_size)\n",
    "    return dataset"
   ]
  },
  {
   "cell_type": "code",
   "execution_count": null,
   "metadata": {},
   "outputs": [],
   "source": [
    "ds = make_dataset(\"gs://asl-mixi-project-bucket/data/youtube_8m/*.tfrecord\", tf.estimator.ModeKeys.TRAIN, 1)"
   ]
  },
  {
   "cell_type": "code",
   "execution_count": null,
   "metadata": {},
   "outputs": [],
   "source": [
    "for row in ds.take(3):\n",
    "    print(row)"
   ]
  }
 ],
 "metadata": {
  "kernelspec": {
   "display_name": "Python 3",
   "language": "python",
   "name": "python3"
  },
  "language_info": {
   "codemirror_mode": {
    "name": "ipython",
    "version": 3
   },
   "file_extension": ".py",
   "mimetype": "text/x-python",
   "name": "python",
   "nbconvert_exporter": "python",
   "pygments_lexer": "ipython3",
   "version": "3.5.3"
  }
 },
 "nbformat": 4,
 "nbformat_minor": 4
}
