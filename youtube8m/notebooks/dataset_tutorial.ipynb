{
 "cells": [
  {
   "cell_type": "markdown",
   "metadata": {},
   "source": [
    "## youtube8Mのデータセット準備\n",
    "\n",
    "とりあえずローカルでDatasetAPIで学習を開始できるようにするのが目的"
   ]
  },
  {
   "cell_type": "markdown",
   "metadata": {},
   "source": [
    "### ローカルへのデータダウンロード\n",
    "\n",
    "youtube8mのデータは以下のコマンドで取って来れます。\n",
    "下のセルを実行すると全データの1/100のトレーニングデータを取得します。\n",
    "\n",
    "環境変数からオプションを渡すような作りになってるみたい。\n",
    "このpartition=2の部分がよくわからないけど、とりあえずこのままでw"
   ]
  },
  {
   "cell_type": "code",
   "execution_count": 1,
   "metadata": {},
   "outputs": [
    {
     "data": {
      "text/plain": [
       "'/home/jupyter/ASLOpenProject/youtube8m'"
      ]
     },
     "execution_count": 1,
     "metadata": {},
     "output_type": "execute_result"
    }
   ],
   "source": [
    "# youtube8m のディレクトリに移動\n",
    "import os\n",
    "while os.getcwd().split('/')[-1] != 'youtube8m': os.chdir('..')\n",
    "os.getcwd()"
   ]
  },
  {
   "cell_type": "code",
   "execution_count": 2,
   "metadata": {},
   "outputs": [],
   "source": [
    "BUCKET=\"asl-mixi-project-bucket\""
   ]
  },
  {
   "cell_type": "code",
   "execution_count": 3,
   "metadata": {},
   "outputs": [
    {
     "name": "stdout",
     "output_type": "stream",
     "text": [
      "Resuming Download ...\n",
      "Files remaining 0\n",
      "All done. No more files to download.\n",
      "Resuming Download ...\n",
      "Files remaining 0\n",
      "All done. No more files to download.\n"
     ]
    },
    {
     "name": "stderr",
     "output_type": "stream",
     "text": [
      "bash: line 1: PWD: command not found\n",
      "mkdir: cannot create directory ‘./data/video/’: File exists\n",
      "  % Total    % Received % Xferd  Average Speed   Time    Time     Time  Current\n",
      "                                 Dload  Upload   Total   Spent    Left  Speed\n",
      "100  4450  100  4450    0     0  11384      0 --:--:-- --:--:-- --:--:-- 11410\n"
     ]
    }
   ],
   "source": [
    "%%bash \n",
    "CURRENT_DIR=$(PWD)\n",
    "mkdir ./data/video/\n",
    "cd ./data/video/\n",
    "curl data.yt8m.org/download.py > download.py\n",
    "\n",
    "# シャードで1/100をダウンロードするには以下を\n",
    "#shard=1,100 partition=2/video/train mirror=us python download.py\n",
    "#shard=1,100 partition=2/video/validate mirror=us python download.py\n",
    "partition=2/video/train mirror=us python download.py\n",
    "partition=2/video/validate mirror=us python download.py\n",
    "cd $CURRENT_DIR"
   ]
  },
  {
   "cell_type": "code",
   "execution_count": 4,
   "metadata": {},
   "outputs": [
    {
     "name": "stdout",
     "output_type": "stream",
     "text": [
      "3844\n"
     ]
    }
   ],
   "source": [
    "!ls ./data/video/train*.tfrecord -l | wc -l"
   ]
  },
  {
   "cell_type": "code",
   "execution_count": 5,
   "metadata": {},
   "outputs": [
    {
     "name": "stdout",
     "output_type": "stream",
     "text": [
      "-rw-r--r-- 1 jupyter jupyter 4.6M Dec  9 07:47 ./data/video/train0000.tfrecord\n",
      "-rw-r--r-- 1 jupyter jupyter 4.6M Dec  9 07:40 ./data/video/train0001.tfrecord\n",
      "-rw-r--r-- 1 jupyter jupyter 4.6M Dec  9 07:36 ./data/video/train0002.tfrecord\n",
      "-rw-r--r-- 1 jupyter jupyter 4.5M Dec  9 07:51 ./data/video/train0003.tfrecord\n",
      "-rw-r--r-- 1 jupyter jupyter 4.5M Dec  9 07:47 ./data/video/train0004.tfrecord\n",
      "-rw-r--r-- 1 jupyter jupyter 4.7M Dec  9 07:43 ./data/video/train0005.tfrecord\n",
      "-rw-r--r-- 1 jupyter jupyter 4.5M Dec  9 07:41 ./data/video/train0006.tfrecord\n",
      "-rw-r--r-- 1 jupyter jupyter 4.5M Dec  9 07:44 ./data/video/train0007.tfrecord\n",
      "-rw-r--r-- 1 jupyter jupyter 4.5M Dec  9 07:45 ./data/video/train0008.tfrecord\n",
      "-rw-r--r-- 1 jupyter jupyter 4.6M Dec  9 07:42 ./data/video/train0009.tfrecord\n",
      "ls: write error: Broken pipe\n"
     ]
    }
   ],
   "source": [
    "!ls ./data/video/train*.tfrecord -alh | head"
   ]
  },
  {
   "cell_type": "code",
   "execution_count": 6,
   "metadata": {},
   "outputs": [
    {
     "name": "stdout",
     "output_type": "stream",
     "text": [
      "3844\n"
     ]
    }
   ],
   "source": [
    "!ls ./data/video/validate*.tfrecord -l | wc -l"
   ]
  },
  {
   "cell_type": "code",
   "execution_count": 7,
   "metadata": {},
   "outputs": [
    {
     "name": "stdout",
     "output_type": "stream",
     "text": [
      "-rw-r--r-- 1 jupyter jupyter 1.3M Dec  9 07:53 ./data/video/validate0000.tfrecord\n",
      "-rw-r--r-- 1 jupyter jupyter 1.4M Dec  9 07:53 ./data/video/validate0001.tfrecord\n",
      "-rw-r--r-- 1 jupyter jupyter 1.5M Dec  9 07:53 ./data/video/validate0002.tfrecord\n",
      "-rw-r--r-- 1 jupyter jupyter 1.4M Dec  9 07:56 ./data/video/validate0003.tfrecord\n",
      "-rw-r--r-- 1 jupyter jupyter 1.3M Dec  9 07:56 ./data/video/validate0004.tfrecord\n",
      "-rw-r--r-- 1 jupyter jupyter 1.4M Dec  9 07:55 ./data/video/validate0005.tfrecord\n",
      "-rw-r--r-- 1 jupyter jupyter 1.3M Dec  9 07:52 ./data/video/validate0006.tfrecord\n",
      "-rw-r--r-- 1 jupyter jupyter 1.4M Dec  9 08:00 ./data/video/validate0007.tfrecord\n",
      "-rw-r--r-- 1 jupyter jupyter 1.4M Dec  9 07:54 ./data/video/validate0008.tfrecord\n",
      "-rw-r--r-- 1 jupyter jupyter 1.2M Dec  9 07:57 ./data/video/validate0009.tfrecord\n",
      "ls: write error: Broken pipe\n"
     ]
    }
   ],
   "source": [
    "!ls ./data/video/validate*.tfrecord -alh | head"
   ]
  },
  {
   "cell_type": "markdown",
   "metadata": {},
   "source": [
    "### storageへのコピー\n",
    "\n",
    "必要があれば実行。ローカルで実行する分には必要ありません。"
   ]
  },
  {
   "cell_type": "code",
   "execution_count": null,
   "metadata": {},
   "outputs": [],
   "source": [
    "import os\n",
    "os.environ['BUCKET'] = BUCKET\n",
    "\n",
    "!gsutil cp ./data/video/*.tfrecord gs://$BUCKET/data/youtube-8m/"
   ]
  },
  {
   "cell_type": "markdown",
   "metadata": {},
   "source": [
    "### データセットの作成用のコード"
   ]
  },
  {
   "cell_type": "code",
   "execution_count": 8,
   "metadata": {},
   "outputs": [
    {
     "name": "stdout",
     "output_type": "stream",
     "text": [
      "1.15.0\n"
     ]
    }
   ],
   "source": [
    "import tensorflow as tf\n",
    "\n",
    "print(tf.__version__)"
   ]
  },
  {
   "cell_type": "code",
   "execution_count": 9,
   "metadata": {},
   "outputs": [],
   "source": [
    "tf.enable_eager_execution()"
   ]
  },
  {
   "cell_type": "code",
   "execution_count": 10,
   "metadata": {},
   "outputs": [],
   "source": [
    "from data import read_dataset"
   ]
  },
  {
   "cell_type": "code",
   "execution_count": 11,
   "metadata": {},
   "outputs": [
    {
     "name": "stdout",
     "output_type": "stream",
     "text": [
      "WARNING:tensorflow:From /usr/local/lib/python3.5/dist-packages/tensorflow_core/python/autograph/converters/directives.py:119: The name tf.FixedLenFeature is deprecated. Please use tf.io.FixedLenFeature instead.\n",
      "\n",
      "WARNING:tensorflow:From /usr/local/lib/python3.5/dist-packages/tensorflow_core/python/autograph/converters/directives.py:119: The name tf.VarLenFeature is deprecated. Please use tf.io.VarLenFeature instead.\n",
      "\n",
      "WARNING:tensorflow:From /usr/local/lib/python3.5/dist-packages/tensorflow_core/python/autograph/converters/directives.py:119: The name tf.parse_single_sequence_example is deprecated. Please use tf.io.parse_single_sequence_example instead.\n",
      "\n"
     ]
    }
   ],
   "source": [
    "ds = read_dataset(\"./data/video/train*.tfrecord\", tf.estimator.ModeKeys.TRAIN, batch_size=2)"
   ]
  },
  {
   "cell_type": "code",
   "execution_count": 12,
   "metadata": {},
   "outputs": [
    {
     "name": "stdout",
     "output_type": "stream",
     "text": [
      "({'id': <tf.Tensor: id=71, shape=(2,), dtype=string, numpy=array([b'eePZ', b'DmPZ'], dtype=object)>, 'mean_audio': <tf.Tensor: id=72, shape=(2, 128), dtype=float32, numpy=\n",
      "array([[ 0.86669576, -0.7751874 , -0.7579086 , -0.53368247,  0.55297023,\n",
      "         0.15699136,  0.41251042,  0.9507806 ,  0.43265572, -0.37037003,\n",
      "         0.6558467 ,  0.8589721 , -1.0398635 ,  0.24083729,  0.5707268 ,\n",
      "         0.1775348 ,  0.27881876,  0.8346862 , -0.96764284, -0.1853994 ,\n",
      "         0.07656934, -1.1854193 ,  0.5563145 ,  0.6056825 ,  0.04432091,\n",
      "        -0.49474546, -0.38963947,  0.7327652 , -0.27744678,  0.01565564,\n",
      "         0.04838182, -0.53328437, -0.17257966,  0.52597713,  0.04678931,\n",
      "         0.26058447, -0.40970516,  0.16065414, -1.0552312 ,  0.9691741 ,\n",
      "        -0.85592794, -0.29130167, -0.5672049 ,  0.7705078 , -0.7111683 ,\n",
      "        -0.05990921, -0.7342598 ,  0.12378742,  0.9503824 ,  0.21018137,\n",
      "        -0.8548928 ,  0.4956397 ,  0.15022317,  0.23852813,  0.7395334 ,\n",
      "        -0.04700984,  0.1033236 , -1.0866038 ,  1.6456746 ,  0.27905765,\n",
      "        -0.4137661 ,  0.19624686, -0.168678  , -0.565692  ,  0.45431393,\n",
      "         0.1494269 , -0.08761897,  0.8346862 , -0.05019487, -0.36423886,\n",
      "         0.9467993 ,  0.02600699,  0.2257084 ,  0.09360926, -0.26773244,\n",
      "         0.08954834,  0.26329175, -0.13149276, -0.13372229,  0.6001883 ,\n",
      "         0.3883042 , -0.4410777 ,  0.49213618,  0.20452794,  0.62431496,\n",
      "        -0.28692225,  0.0591313 ,  0.59493303,  0.33161065, -0.6237392 ,\n",
      "         1.2722298 ,  0.39101148,  0.03643796,  0.8819839 ,  0.32133892,\n",
      "         0.4850495 ,  0.6010642 , -0.61394525, -0.4120143 , -0.6586949 ,\n",
      "        -0.13260752,  1.1664867 ,  0.9521342 , -0.6136267 ,  0.68061036,\n",
      "        -0.1248042 , -0.01977783, -0.38581744, -0.44346648, -0.67071843,\n",
      "         0.7634211 , -0.43582243, -0.18531978, -0.25793847,  0.4293911 ,\n",
      "        -0.44704965,  1.2960378 , -0.54140615,  0.5569515 ,  0.27977428,\n",
      "         0.11510821,  0.09910344, -0.3025289 ,  0.6544931 ,  0.132387  ,\n",
      "        -0.35587814,  0.02250345, -0.57508785],\n",
      "       [ 1.08673   ,  1.263946  , -1.8959956 , -0.52895623, -1.579094  ,\n",
      "        -0.15041146, -0.10737143, -1.0318893 ,  0.8069698 , -1.5143394 ,\n",
      "        -1.0500387 ,  0.01792431, -1.8913934 , -0.46478513,  0.97303694,\n",
      "        -0.03101427, -0.33391494,  1.6841697 , -1.7736816 , -1.7988315 ,\n",
      "         1.5711896 ,  1.7222834 , -0.23953801,  1.2109238 ,  1.2664092 ,\n",
      "        -0.01571691, -0.55909723, -1.723641  , -1.1093484 ,  1.333173  ,\n",
      "        -1.7751725 , -1.0823836 , -0.53349364, -0.2659843 ,  0.28653556,\n",
      "         0.9695367 ,  1.2710114 , -1.5446101 ,  1.526205  , -1.2291993 ,\n",
      "         1.3513224 ,  1.2801509 , -0.05720127,  1.3504798 , -1.8199626 ,\n",
      "        -1.0005168 , -1.5508327 ,  1.7957237 , -0.32620144, -1.7390033 ,\n",
      "         1.0863411 , -1.0609932 ,  1.1965988 , -0.53219724,  0.55994344,\n",
      "        -0.05473814, -0.61056376,  0.5161904 , -0.9918958 ,  1.2288787 ,\n",
      "        -1.4342877 ,  0.09797617,  0.25762615, -0.16194929,  0.25282952,\n",
      "         0.04391686, -0.10354709, -0.07476731,  1.2182484 , -0.52027047,\n",
      "         1.544484  , -1.5943913 ,  1.1138893 ,  0.7385206 ,  0.42816576,\n",
      "        -0.34350818,  0.15164657, -1.2144853 , -1.1210808 ,  1.4767479 ,\n",
      "         1.0402546 , -1.1847333 , -0.82693064, -1.2595996 , -0.5499577 ,\n",
      "         0.89667976, -0.27415153,  0.9937791 , -1.2387278 , -0.9313546 ,\n",
      "         0.39530239, -1.7839879 , -0.80910534,  0.24569939, -0.36120388,\n",
      "         1.6396388 , -0.75031424, -1.3049731 , -1.0925602 , -1.0228146 ,\n",
      "        -0.244205  , -0.30908912, -1.6559697 ,  0.02531371,  0.23623577,\n",
      "        -1.0022669 ,  0.39582092, -0.17996906, -1.3802931 ,  0.28452617,\n",
      "         0.05694554, -1.5938079 ,  1.3620825 , -1.2529233 ,  0.71700066,\n",
      "        -0.94263315, -0.10283408, -0.79938245, -1.1061075 , -1.5545275 ,\n",
      "        -0.21795318,  0.2923045 ,  1.9007958 ,  0.580556  ,  1.0980734 ,\n",
      "         1.3228668 ,  0.62307745,  0.60460395]], dtype=float32)>, 'mean_rgb': <tf.Tensor: id=73, shape=(2, 1024), dtype=float32, numpy=\n",
      "array([[-1.0406597 ,  1.2167306 , -0.34170476, ..., -0.0858672 ,\n",
      "         0.5188108 ,  0.01485938],\n",
      "       [ 0.7374187 ,  0.31200954,  0.03983324, ..., -0.300533  ,\n",
      "        -0.04332994, -0.68024457]], dtype=float32)>}, <tf.Tensor: id=74, shape=(2, 3862), dtype=float32, numpy=\n",
      "array([[0., 0., 0., ..., 0., 0., 0.],\n",
      "       [1., 0., 0., ..., 0., 0., 0.]], dtype=float32)>)\n"
     ]
    }
   ],
   "source": [
    "for row in ds.take(1):\n",
    "    print(row)"
   ]
  },
  {
   "cell_type": "code",
   "execution_count": null,
   "metadata": {},
   "outputs": [],
   "source": []
  }
 ],
 "metadata": {
  "kernelspec": {
   "display_name": "Python 3",
   "language": "python",
   "name": "python3"
  },
  "language_info": {
   "codemirror_mode": {
    "name": "ipython",
    "version": 3
   },
   "file_extension": ".py",
   "mimetype": "text/x-python",
   "name": "python",
   "nbconvert_exporter": "python",
   "pygments_lexer": "ipython3",
   "version": "3.5.3"
  }
 },
 "nbformat": 4,
 "nbformat_minor": 4
}
