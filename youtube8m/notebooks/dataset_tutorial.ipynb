{
 "cells": [
  {
   "cell_type": "markdown",
   "metadata": {},
   "source": [
    "## youtube8Mのデータセット準備\n",
    "\n",
    "とりあえずローカルでDatasetAPIで学習を開始できるようにするのが目的"
   ]
  },
  {
   "cell_type": "markdown",
   "metadata": {},
   "source": [
    "### ローカルへのデータダウンロード\n",
    "\n",
    "youtube8mのデータは以下のコマンドで取って来れます。\n",
    "下のセルを実行すると全データの1/100のトレーニングデータを取得します。\n",
    "\n",
    "環境変数からオプションを渡すような作りになってるみたい。\n",
    "このpartition=2の部分がよくわからないけど、とりあえずこのままでw"
   ]
  },
  {
   "cell_type": "code",
   "execution_count": 1,
   "metadata": {},
   "outputs": [
    {
     "data": {
      "text/plain": [
       "'/home/jupyter/ASLOpenProject/youtube8m'"
      ]
     },
     "execution_count": 1,
     "metadata": {},
     "output_type": "execute_result"
    }
   ],
   "source": [
    "# youtube8m のディレクトリに移動\n",
    "import os\n",
    "while os.getcwd().split('/')[-1] != 'youtube8m': os.chdir('..')\n",
    "os.getcwd()"
   ]
  },
  {
   "cell_type": "code",
   "execution_count": 2,
   "metadata": {},
   "outputs": [],
   "source": [
    "BUCKET=\"asl-mixi-project-bucket\""
   ]
  },
  {
   "cell_type": "code",
   "execution_count": 3,
   "metadata": {},
   "outputs": [
    {
     "name": "stdout",
     "output_type": "stream",
     "text": [
      "Resuming Download ...\n",
      "Files remaining 0\n",
      "All done. No more files to download.\n",
      "Resuming Download ...\n",
      "Files remaining 0\n",
      "All done. No more files to download.\n"
     ]
    },
    {
     "name": "stderr",
     "output_type": "stream",
     "text": [
      "bash: line 1: PWD: command not found\n",
      "mkdir: cannot create directory ‘./data/video/’: File exists\n",
      "  % Total    % Received % Xferd  Average Speed   Time    Time     Time  Current\n",
      "                                 Dload  Upload   Total   Spent    Left  Speed\n",
      "100  4450  100  4450    0     0   8042      0 --:--:-- --:--:-- --:--:--  8032\n"
     ]
    }
   ],
   "source": [
    "%%bash \n",
    "CURRENT_DIR=$(PWD)\n",
    "mkdir ./data/video/\n",
    "cd ./data/video/\n",
    "curl data.yt8m.org/download.py > download.py\n",
    "\n",
    "shard=1,100 partition=2/video/train mirror=us python download.py\n",
    "shard=1,100 partition=2/video/validate mirror=us python download.py\n",
    "cd $CURRENT_DIR"
   ]
  },
  {
   "cell_type": "code",
   "execution_count": 4,
   "metadata": {},
   "outputs": [
    {
     "name": "stdout",
     "output_type": "stream",
     "text": [
      "41\n"
     ]
    }
   ],
   "source": [
    "!ls ./data/video/train*.tfrecord -l | wc -l"
   ]
  },
  {
   "cell_type": "code",
   "execution_count": 5,
   "metadata": {},
   "outputs": [
    {
     "name": "stdout",
     "output_type": "stream",
     "text": [
      "-rw-r--r-- 1 jupyter jupyter 4.6M Dec  6 08:34 ./data/video/train0093.tfrecord\n",
      "-rw-r--r-- 1 jupyter jupyter 4.7M Dec  6 08:34 ./data/video/train0111.tfrecord\n",
      "-rw-r--r-- 1 jupyter jupyter 4.6M Dec  6 08:34 ./data/video/train0208.tfrecord\n",
      "-rw-r--r-- 1 jupyter jupyter 4.7M Dec  6 08:34 ./data/video/train0274.tfrecord\n",
      "-rw-r--r-- 1 jupyter jupyter 4.4M Dec  6 08:34 ./data/video/train0276.tfrecord\n",
      "-rw-r--r-- 1 jupyter jupyter 4.5M Dec  6 08:34 ./data/video/train0352.tfrecord\n",
      "-rw-r--r-- 1 jupyter jupyter 4.5M Dec  6 08:34 ./data/video/train0434.tfrecord\n",
      "-rw-r--r-- 1 jupyter jupyter 4.5M Dec  6 08:34 ./data/video/train0477.tfrecord\n",
      "-rw-r--r-- 1 jupyter jupyter 4.5M Dec  6 08:34 ./data/video/train0503.tfrecord\n",
      "-rw-r--r-- 1 jupyter jupyter 4.6M Dec  6 08:34 ./data/video/train0580.tfrecord\n"
     ]
    }
   ],
   "source": [
    "!ls ./data/video/train*.tfrecord -alh | head"
   ]
  },
  {
   "cell_type": "code",
   "execution_count": 6,
   "metadata": {},
   "outputs": [
    {
     "name": "stdout",
     "output_type": "stream",
     "text": [
      "39\n"
     ]
    }
   ],
   "source": [
    "!ls ./data/video/validate*.tfrecord -l | wc -l"
   ]
  },
  {
   "cell_type": "code",
   "execution_count": 7,
   "metadata": {},
   "outputs": [
    {
     "name": "stdout",
     "output_type": "stream",
     "text": [
      "-rw-r--r-- 1 jupyter jupyter 1.5M Dec  7 03:01 ./data/video/validate0024.tfrecord\n",
      "-rw-r--r-- 1 jupyter jupyter 1.5M Dec  7 03:01 ./data/video/validate0052.tfrecord\n",
      "-rw-r--r-- 1 jupyter jupyter 1.3M Dec  7 03:01 ./data/video/validate0259.tfrecord\n",
      "-rw-r--r-- 1 jupyter jupyter 1.3M Dec  7 03:01 ./data/video/validate0267.tfrecord\n",
      "-rw-r--r-- 1 jupyter jupyter 1.4M Dec  7 03:01 ./data/video/validate0455.tfrecord\n",
      "-rw-r--r-- 1 jupyter jupyter 1.5M Dec  7 03:01 ./data/video/validate0523.tfrecord\n",
      "-rw-r--r-- 1 jupyter jupyter 1.4M Dec  7 03:01 ./data/video/validate0638.tfrecord\n",
      "-rw-r--r-- 1 jupyter jupyter 1.4M Dec  7 03:01 ./data/video/validate0676.tfrecord\n",
      "-rw-r--r-- 1 jupyter jupyter 1.3M Dec  7 03:01 ./data/video/validate0701.tfrecord\n",
      "-rw-r--r-- 1 jupyter jupyter 1.3M Dec  7 03:01 ./data/video/validate0780.tfrecord\n"
     ]
    }
   ],
   "source": [
    "!ls ./data/video/validate*.tfrecord -alh | head"
   ]
  },
  {
   "cell_type": "markdown",
   "metadata": {},
   "source": [
    "### storageへのコピー\n",
    "\n",
    "必要があれば実行。ローカルで実行する分には必要ありません。"
   ]
  },
  {
   "cell_type": "code",
   "execution_count": null,
   "metadata": {},
   "outputs": [],
   "source": [
    "import os\n",
    "os.environ['BUCKET'] = BUCKET\n",
    "\n",
    "!gsutil cp ./data/video/*.tfrecord gs://$BUCKET/data/youtube-8m/"
   ]
  },
  {
   "cell_type": "markdown",
   "metadata": {},
   "source": [
    "### データセットの作成用のコード"
   ]
  },
  {
   "cell_type": "code",
   "execution_count": 8,
   "metadata": {},
   "outputs": [
    {
     "name": "stdout",
     "output_type": "stream",
     "text": [
      "1.15.0\n"
     ]
    }
   ],
   "source": [
    "import tensorflow as tf\n",
    "\n",
    "print(tf.__version__)"
   ]
  },
  {
   "cell_type": "code",
   "execution_count": 9,
   "metadata": {},
   "outputs": [],
   "source": [
    "tf.enable_eager_execution()"
   ]
  },
  {
   "cell_type": "code",
   "execution_count": 10,
   "metadata": {},
   "outputs": [],
   "source": [
    "from data import read_dataset"
   ]
  },
  {
   "cell_type": "code",
   "execution_count": 11,
   "metadata": {},
   "outputs": [
    {
     "name": "stdout",
     "output_type": "stream",
     "text": [
      "WARNING:tensorflow:From /usr/local/lib/python3.5/dist-packages/tensorflow_core/python/autograph/converters/directives.py:119: The name tf.FixedLenFeature is deprecated. Please use tf.io.FixedLenFeature instead.\n",
      "\n",
      "WARNING:tensorflow:From /usr/local/lib/python3.5/dist-packages/tensorflow_core/python/autograph/converters/directives.py:119: The name tf.VarLenFeature is deprecated. Please use tf.io.VarLenFeature instead.\n",
      "\n",
      "WARNING:tensorflow:From /usr/local/lib/python3.5/dist-packages/tensorflow_core/python/autograph/converters/directives.py:119: The name tf.parse_single_sequence_example is deprecated. Please use tf.io.parse_single_sequence_example instead.\n",
      "\n"
     ]
    }
   ],
   "source": [
    "ds = read_dataset(\"./data/video/train*.tfrecord\", tf.estimator.ModeKeys.TRAIN, batch_size=2)"
   ]
  },
  {
   "cell_type": "code",
   "execution_count": 12,
   "metadata": {},
   "outputs": [
    {
     "name": "stdout",
     "output_type": "stream",
     "text": [
      "({'id': <tf.Tensor: id=66, shape=(2,), dtype=string, numpy=array([b'Vm8D', b'V98D'], dtype=object)>, 'mean_rgb': <tf.Tensor: id=68, shape=(2, 1024), dtype=float32, numpy=\n",
      "array([[ 0.7063481 ,  0.5366782 ,  0.54541487, ...,  0.4460354 ,\n",
      "        -0.12929349,  0.08991724],\n",
      "       [-0.8320534 ,  0.8792135 ,  1.6785632 , ...,  0.3766025 ,\n",
      "        -0.02953384, -0.01896795]], dtype=float32)>, 'mean_audio': <tf.Tensor: id=67, shape=(2, 128), dtype=float32, numpy=\n",
      "array([[ 9.91503000e-02,  1.65189290e+00,  1.16790187e+00,\n",
      "         2.71202922e-01,  9.24069643e-01, -9.65530753e-01,\n",
      "        -6.80397987e-01, -2.82262191e-02,  1.10058987e+00,\n",
      "        -1.50204110e+00,  9.92870808e-01,  4.78698581e-01,\n",
      "         5.67355812e-01, -9.99385297e-01, -9.28300679e-01,\n",
      "         5.52265227e-01,  8.85273144e-02,  9.64873791e-01,\n",
      "        -9.79430020e-01, -1.77307606e+00,  1.17219299e-01,\n",
      "        -3.27357531e-01,  8.26697871e-02,  2.71997154e-01,\n",
      "        -6.55478656e-01,  1.09830642e+00, -8.20879459e-01,\n",
      "        -5.84294736e-01,  1.24891448e+00,  7.14985490e-01,\n",
      "         2.91158229e-01,  1.05849504e+00, -1.51047993e+00,\n",
      "        -3.18124443e-01,  7.99472988e-01,  7.64724910e-01,\n",
      "         3.45188789e-02, -1.20400190e+00, -1.56496257e-01,\n",
      "        -9.93329227e-01, -5.51333666e-01,  7.73660123e-01,\n",
      "         1.09674007e-01, -7.12266922e-01, -1.54006541e+00,\n",
      "        -2.32842743e-01,  4.48418111e-01, -1.06371891e+00,\n",
      "        -1.29355264e+00, -9.97201145e-01, -1.13440645e+00,\n",
      "         1.37718451e+00,  2.74578452e-01, -3.06012273e-01,\n",
      "         9.51669514e-01, -8.49571466e-01,  8.36206615e-01,\n",
      "        -5.15989959e-01, -4.71810222e-01,  1.24891448e+00,\n",
      "        -1.98094666e-01, -9.01395738e-01, -5.37434459e-01,\n",
      "         2.21761376e-01,  6.50056243e-01, -5.69005549e-01,\n",
      "        -2.99139824e-02,  5.42756431e-02,  7.63136387e-01,\n",
      "         3.43677491e-01, -4.00328487e-01,  2.57303685e-01,\n",
      "        -3.19613665e-01,  1.68469995e-02, -3.35498482e-01,\n",
      "        -9.76650119e-01, -7.51879752e-01, -5.55304885e-01,\n",
      "         1.21764123e+00, -1.02629030e+00, -1.29742455e+00,\n",
      "         1.38800609e+00, -3.67268175e-01, -6.08618379e-01,\n",
      "        -7.32321501e-01, -9.67516363e-01,  2.30498031e-01,\n",
      "         8.07216823e-01, -2.33614892e-02, -6.60519823e-02,\n",
      "        -4.77844216e-02,  2.19102912e-02, -2.02264443e-01,\n",
      "         4.62813735e-01, -3.36987704e-01,  8.13173652e-01,\n",
      "        -1.28729796e+00, -3.23485583e-01, -1.03542399e+00,\n",
      "        -4.10653621e-01,  8.49113047e-01, -1.10442376e+00,\n",
      "        -6.60519823e-02,  3.33650172e-01,  1.71724141e-01,\n",
      "         6.20867848e-01, -1.24788368e+00, -1.61559552e-01,\n",
      "        -4.76674974e-01, -9.58382607e-01,  7.64129221e-01,\n",
      "         7.68122524e-02,  4.19924676e-01,  4.72741753e-01,\n",
      "         8.61126006e-01,  5.57648465e-02, -2.49621108e-01,\n",
      "         7.58867323e-01, -3.06310117e-01, -3.38675469e-01,\n",
      "        -1.37831584e-01, -7.95463741e-01, -5.06558299e-01,\n",
      "         4.47623879e-01,  6.66735291e-01, -7.71040797e-01,\n",
      "         1.47636545e+00, -1.26392245e-02],\n",
      "       [ 1.04932427e+00,  1.75187433e+00,  1.84534168e+00,\n",
      "         1.55856788e-01, -3.70080411e-01, -1.17230676e-01,\n",
      "        -4.87849385e-01,  2.94513702e-01, -1.28923106e+00,\n",
      "        -6.41461074e-01,  2.38758355e-01,  8.27847064e-01,\n",
      "         4.73320991e-01,  1.13726485e+00, -3.21070969e-01,\n",
      "         3.84242445e-01,  1.11317530e-01,  5.99136293e-01,\n",
      "        -1.32320452e+00,  3.46205264e-01,  3.61810267e-01,\n",
      "        -9.64939713e-01, -6.15534067e-01,  5.83531260e-01,\n",
      "        -6.22198701e-01, -7.26914108e-02, -4.13969487e-01,\n",
      "        -2.80514240e-01, -6.40761554e-02,  9.70161378e-01,\n",
      "         1.70242652e-01, -2.55074829e-01, -3.14031877e-02,\n",
      "         1.34481192e-01,  1.12938118e+00, -3.62115353e-01,\n",
      "        -1.72904760e-01,  7.57949650e-01,  6.52209520e-01,\n",
      "         9.98851836e-01, -6.89007580e-01,  1.15868986e-01,\n",
      "         8.32317233e-01,  1.23752765e-01, -1.36327350e+00,\n",
      "         8.27847064e-01, -5.01910150e-01, -1.51891720e+00,\n",
      "         7.34867275e-01, -4.66717631e-01,  1.13376999e+00,\n",
      "        -6.74459159e-01,  6.86995685e-01,  3.71937864e-02,\n",
      "         7.72823155e-01, -2.85472065e-01,  6.58223987e-01,\n",
      "        -1.08449674e+00, -8.26120257e-01,  1.12344801e+00,\n",
      "        -1.19738913e+00,  2.14294270e-01,  6.32459462e-01,\n",
      "         5.67032278e-01, -7.19242275e-01, -5.58803380e-01,\n",
      "        -8.49202633e-01, -4.19740081e-01,  3.02153647e-01,\n",
      "         3.32469612e-01,  6.36685789e-01,  2.24453762e-01,\n",
      "        -9.77244303e-02,  9.53337252e-01, -1.22494173e+00,\n",
      "        -7.99217880e-01, -1.04857278e+00, -4.97114867e-01,\n",
      "         9.78370249e-01, -1.09408736e+00, -1.05889475e+00,\n",
      "        -3.47973347e-01,  2.47779995e-01, -5.67499876e-01,\n",
      "         2.38189414e-01, -2.23539725e-01, -9.95743334e-01,\n",
      "         8.16305816e-01, -5.37102640e-01,  2.91343957e-01,\n",
      "        -8.78543258e-01,  9.56181884e-01,  1.15457666e+00,\n",
      "         1.67615945e-03,  4.94777858e-01, -2.80026585e-01,\n",
      "        -7.34847248e-01, -1.63558021e-01,  3.52869898e-01,\n",
      "        -8.32866132e-01,  7.14629531e-01, -1.34461194e-01,\n",
      "        -4.16326493e-01,  9.37732220e-01, -4.58703190e-02,\n",
      "         1.12645519e+00, -5.95783949e-01, -6.07812822e-01,\n",
      "         1.31961644e-01, -6.95184529e-01, -2.75312573e-01,\n",
      "         8.15980732e-01,  6.41562402e-01,  4.26831096e-01,\n",
      "         5.08188426e-01, -3.03434074e-01, -3.42040181e-01,\n",
      "        -7.68007874e-01,  8.25490057e-01, -5.54170609e-01,\n",
      "         2.94757545e-01, -9.72986042e-01, -5.54576993e-01,\n",
      "        -1.34644938e+00, -8.65083337e-02, -1.15114307e+00,\n",
      "         1.29095793e+00,  1.99908406e-01]], dtype=float32)>}, <tf.Tensor: id=69, shape=(2, 3862), dtype=float32, numpy=\n",
      "array([[0., 0., 0., ..., 0., 0., 0.],\n",
      "       [0., 0., 0., ..., 0., 0., 0.]], dtype=float32)>)\n"
     ]
    }
   ],
   "source": [
    "for row in ds.take(1):\n",
    "    print(row)"
   ]
  },
  {
   "cell_type": "code",
   "execution_count": null,
   "metadata": {},
   "outputs": [],
   "source": []
  }
 ],
 "metadata": {
  "kernelspec": {
   "display_name": "Python 3",
   "language": "python",
   "name": "python3"
  },
  "language_info": {
   "codemirror_mode": {
    "name": "ipython",
    "version": 3
   },
   "file_extension": ".py",
   "mimetype": "text/x-python",
   "name": "python",
   "nbconvert_exporter": "python",
   "pygments_lexer": "ipython3",
   "version": "3.5.3"
  }
 },
 "nbformat": 4,
 "nbformat_minor": 4
}
